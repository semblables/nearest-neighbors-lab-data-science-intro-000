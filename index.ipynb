{
 "cells": [
  {
   "cell_type": "markdown",
   "metadata": {},
   "source": [
    "# Nearest Neighbors Lab"
   ]
  },
  {
   "cell_type": "markdown",
   "metadata": {},
   "source": [
    "### Introduction\n",
    "\n",
    "In this lab, you apply nearest neighbors technique to help a taxi company predict the length of their rides.  Imagine that we are hired to consult for LiftOff, a limo and taxi service that is just opening up in NYC.  Liftoff wants it's taxi drivers to target longer rides, as the longer the ride the more money it makes.  LiftOff has the following theory:\n",
    "\n",
    "* the pickup location of a taxi ride can help predict the length of the ride.  \n",
    "\n",
    "\n",
    "\n",
    "LiftOff asks us to do some analysis to write a function that will allow it to **predict the length of a taxi ride for any given location **.\n",
    "\n",
    "Our technique will be the following:\n",
    "  * **Collect** Obtain the data containing all of the taxi information, and only select the attributes of taxi trips that we need \n",
    "  * ** Explore ** Examine the attributes of our data, and plot some of our data on a map\n",
    "  * ** Train ** Write our nearest neighbors formula, and change the number of nearby trips to predict the length of a new trip\n",
    "  * ** Predict ** Use our function to predict trip lengths of new locations"
   ]
  },
  {
   "cell_type": "markdown",
   "metadata": {},
   "source": [
    "### Collect and Explore the data"
   ]
  },
  {
   "cell_type": "markdown",
   "metadata": {},
   "source": [
    "#### Collect the Data"
   ]
  },
  {
   "cell_type": "markdown",
   "metadata": {},
   "source": [
    "Luckily for us, [NYC Open Data](https://opendata.cityofnewyork.us/) collects information about NYC taxi trips and provides this data on [its website](https://data.cityofnewyork.us/Transportation/2014-Yellow-Taxi-Trip-Data/gn7m-em8n)."
   ]
  },
  {
   "cell_type": "markdown",
   "metadata": {},
   "source": [
    "![](./nyc-taxi.png)"
   ]
  },
  {
   "cell_type": "markdown",
   "metadata": {},
   "source": [
    "For your reading pleasure, the data has already been downloaded into the [trips.json](https://github.com/learn-co-curriculum/nearest-neighbors-lab/blob/master/trips.json) file in this lab which you can find here.  We'll use Python's `json` library to take the data from the `trips.json` file and store it as a variable in our notebook."
   ]
  },
  {
   "cell_type": "code",
   "execution_count": 1,
   "metadata": {},
   "outputs": [],
   "source": [
    "import json\n",
    "# First, read the file\n",
    "trips_file = open('trips.json')\n",
    "# Then, convert contents to list of dictionaries \n",
    "trips = json.load(trips_file)"
   ]
  },
  {
   "cell_type": "markdown",
   "metadata": {},
   "source": [
    "> Press shift + enter"
   ]
  },
  {
   "cell_type": "markdown",
   "metadata": {},
   "source": [
    "#### Explore the data"
   ]
  },
  {
   "cell_type": "markdown",
   "metadata": {},
   "source": [
    "The next step is to explore the data.  First, let's see how many trips we have."
   ]
  },
  {
   "cell_type": "code",
   "execution_count": 2,
   "metadata": {},
   "outputs": [
    {
     "data": {
      "text/plain": [
       "1000"
      ]
     },
     "execution_count": 2,
     "metadata": {},
     "output_type": "execute_result"
    }
   ],
   "source": [
    "len(trips)"
   ]
  },
  {
   "cell_type": "markdown",
   "metadata": {},
   "source": [
    "Not bad at all.  Now let's see what each individual trip looks like.  Each trip is a dictionary, so we can see the attributes of each trip with the `keys` function."
   ]
  },
  {
   "cell_type": "code",
   "execution_count": 3,
   "metadata": {
    "scrolled": true
   },
   "outputs": [
    {
     "data": {
      "text/plain": [
       "dict_keys(['dropoff_datetime', 'dropoff_latitude', 'dropoff_longitude', 'fare_amount', 'imp_surcharge', 'mta_tax', 'passenger_count', 'payment_type', 'pickup_datetime', 'pickup_latitude', 'pickup_longitude', 'rate_code', 'tip_amount', 'tolls_amount', 'total_amount', 'trip_distance', 'vendor_id'])"
      ]
     },
     "execution_count": 3,
     "metadata": {},
     "output_type": "execute_result"
    }
   ],
   "source": [
    "trips[0].keys()"
   ]
  },
  {
   "cell_type": "markdown",
   "metadata": {},
   "source": [
    "#### Limit our data"
   ]
  },
  {
   "cell_type": "markdown",
   "metadata": {},
   "source": [
    "Ok, now that we have explored some of our data, let's begin to think through what data is relevant for our task."
   ]
  },
  {
   "cell_type": "markdown",
   "metadata": {
    "collapsed": true
   },
   "source": [
    "Remember that our task is to **use the trip location to predict the length of a trip**.  So let's select the `pickup_latitude`, `pickup_longitude`, and `trip_distance` from each trip.  That will give us the trip location and related `trip_distance` for each trip.  Then based on these **actual** trip distances we can use nearest neighbors to predict an **expected** trip distance for a trip, provided an **actual** location."
   ]
  },
  {
   "cell_type": "markdown",
   "metadata": {},
   "source": [
    "** Add in about trip distance ** "
   ]
  },
  {
   "cell_type": "markdown",
   "metadata": {},
   "source": [
    "Write a function called `parse_trips(trips)` that returns a list of the trips with only the following attributes: \n",
    "* `trip_distance`\n",
    "* `pickup_latitude`\n",
    "* `pickup_longitude`"
   ]
  },
  {
   "cell_type": "code",
   "execution_count": 4,
   "metadata": {},
   "outputs": [],
   "source": [
    "def parse_trips(trips):\n",
    "    return list(map(lambda trip: {'trip_distance': trip['trip_distance'],\\\n",
    "                                  'pickup_latitude': trip['pickup_latitude'], \\\n",
    "                                  'pickup_longitude': trip['pickup_longitude']},\\\n",
    "                    trips))"
   ]
  },
  {
   "cell_type": "code",
   "execution_count": 5,
   "metadata": {
    "scrolled": true
   },
   "outputs": [
    {
     "data": {
      "text/plain": [
       "{'trip_distance': '18.379999999999999',\n",
       " 'pickup_latitude': '40.64499',\n",
       " 'pickup_longitude': '-73.781149999999997'}"
      ]
     },
     "execution_count": 5,
     "metadata": {},
     "output_type": "execute_result"
    }
   ],
   "source": [
    "parsed_trips = parse_trips(trips)\n",
    "parsed_trips and parsed_trips[0]\n",
    "\n",
    "# {'pickup_latitude': '40.64499',\n",
    "#  'pickup_longitude': '-73.78115',\n",
    "#  'trip_distance': '18.38'}"
   ]
  },
  {
   "cell_type": "markdown",
   "metadata": {},
   "source": [
    "Now, there's just one change to make.  If you look at one of the trips, all of the values are strings.  Let's change them to be floats."
   ]
  },
  {
   "cell_type": "code",
   "execution_count": 6,
   "metadata": {},
   "outputs": [],
   "source": [
    "def float_values(trips):    \n",
    "    return trips and list(map(lambda trip: {'trip_distance': \\\n",
    "                                            float(trip['trip_distance']), 'pickup_latitude': \\\n",
    "                                            float(trip['pickup_latitude']), 'pickup_longitude': \\\n",
    "                                            float(trip['pickup_longitude'])}, \\\n",
    "                              trips))"
   ]
  },
  {
   "cell_type": "code",
   "execution_count": 7,
   "metadata": {},
   "outputs": [],
   "source": [
    "cleaned_trips = float_values(parsed_trips)"
   ]
  },
  {
   "cell_type": "code",
   "execution_count": 8,
   "metadata": {},
   "outputs": [
    {
     "data": {
      "text/plain": [
       "{'trip_distance': 18.38,\n",
       " 'pickup_latitude': 40.64499,\n",
       " 'pickup_longitude': -73.78115}"
      ]
     },
     "execution_count": 8,
     "metadata": {},
     "output_type": "execute_result"
    }
   ],
   "source": [
    "cleaned_trips[0]\n",
    "\n",
    "# {'pickup_latitude': 40.64499,\n",
    "#  'pickup_longitude': -73.78115,\n",
    "#  'trip_distance': 18.38}"
   ]
  },
  {
   "cell_type": "markdown",
   "metadata": {},
   "source": [
    "### Exploring the Data"
   ]
  },
  {
   "cell_type": "markdown",
   "metadata": {},
   "source": [
    "Now that we have pared down our data, let's get a sense of our trip data.  We can use the `folium` Python library to plot a map of Manhattan, and our data.  First we must import `folium`, and then use the `Map` function to pass through a `location`, and `zoom_start`.  If a map isn't showing up below, copy and paste the command `pip install -r requirements.txt` into your terminal to install `folium` then try again."
   ]
  },
  {
   "cell_type": "code",
   "execution_count": 9,
   "metadata": {},
   "outputs": [],
   "source": [
    "import folium\n",
    "manhattan_map = folium.Map(location=[40.7589, -73.9851], zoom_start=11)"
   ]
  },
  {
   "cell_type": "code",
   "execution_count": 10,
   "metadata": {
    "scrolled": true
   },
   "outputs": [
    {
     "data": {
      "text/html": [
       "<div style=\"width:100%;\"><div style=\"position:relative;width:100%;height:0;padding-bottom:60%;\"><iframe src=\"data:text/html;charset=utf-8;base64,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\" style=\"position:absolute;width:100%;height:100%;left:0;top:0;border:none !important;\" allowfullscreen webkitallowfullscreen mozallowfullscreen></iframe></div></div>"
      ],
      "text/plain": [
       "<folium.folium.Map at 0x7f1e38227278>"
      ]
     },
     "execution_count": 10,
     "metadata": {},
     "output_type": "execute_result"
    }
   ],
   "source": [
    "manhattan_map"
   ]
  },
  {
   "cell_type": "markdown",
   "metadata": {},
   "source": [
    "Ok, now let's see how we could add a dot to mark a specific location.  We'll start with Times Square."
   ]
  },
  {
   "cell_type": "code",
   "execution_count": 11,
   "metadata": {},
   "outputs": [
    {
     "data": {
      "text/plain": [
       "<folium.vector_layers.CircleMarker at 0x7f1e076aafd0>"
      ]
     },
     "execution_count": 11,
     "metadata": {},
     "output_type": "execute_result"
    }
   ],
   "source": [
    "marker = folium.CircleMarker(location = [40.7589, -73.9851], radius=10)\n",
    "marker.add_to(manhattan_map)"
   ]
  },
  {
   "cell_type": "markdown",
   "metadata": {},
   "source": [
    "Above, we first create a marker.  Then we add that circle marker to the `manhattan_map` we created earlier. "
   ]
  },
  {
   "cell_type": "code",
   "execution_count": 12,
   "metadata": {
    "scrolled": false
   },
   "outputs": [
    {
     "data": {
      "text/html": [
       "<div style=\"width:100%;\"><div style=\"position:relative;width:100%;height:0;padding-bottom:60%;\"><iframe src=\"data:text/html;charset=utf-8;base64,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\" style=\"position:absolute;width:100%;height:100%;left:0;top:0;border:none !important;\" allowfullscreen webkitallowfullscreen mozallowfullscreen></iframe></div></div>"
      ],
      "text/plain": [
       "<folium.folium.Map at 0x7f1e38227278>"
      ]
     },
     "execution_count": 12,
     "metadata": {},
     "output_type": "execute_result"
    }
   ],
   "source": [
    "manhattan_map"
   ]
  },
  {
   "cell_type": "markdown",
   "metadata": {},
   "source": [
    "Do you see that blue dot near Time's Square?  That is our marker.  \n",
    "\n",
    "So now that we can plot one marker on a map, we should have a sense of how we can plot many markers on a map to display our taxi ride data.  We simply plot a map, and then we add a marker for each location of a taxi trip.\n",
    "\n",
    "Now let's write some functions to allow us to plot maps and add markers a little more easily.  "
   ]
  },
  {
   "cell_type": "markdown",
   "metadata": {},
   "source": [
    "#### Writing some map plotting functions"
   ]
  },
  {
   "cell_type": "markdown",
   "metadata": {},
   "source": [
    "As a first step towards this, note that the functions to create both a marker and map each take in a location as two element list, representing the latitude and longitude values.  Take another look:\n",
    "\n",
    "```python\n",
    "marker = folium.CircleMarker(location = [40.7589, -73.9851])\n",
    "manhattan_map = folium.Map(location=[40.7589, -73.9851])\n",
    "```\n",
    "\n",
    "So let's write a function called to create this two element list from a trip.  Write a function called `location` that  takes in a trip as an argument and returns a list where the first element is the latitude and the second is the longitude.  Remember that a location looks like the following:"
   ]
  },
  {
   "cell_type": "code",
   "execution_count": 13,
   "metadata": {},
   "outputs": [
    {
     "data": {
      "text/plain": [
       "{'pickup_latitude': 40.64499,\n",
       " 'pickup_longitude': -73.78115,\n",
       " 'trip_distance': 18.38}"
      ]
     },
     "execution_count": 13,
     "metadata": {},
     "output_type": "execute_result"
    }
   ],
   "source": [
    "first_trip = {'pickup_latitude': 40.64499, 'pickup_longitude': -73.78115,  'trip_distance': 18.38}\n",
    "first_trip"
   ]
  },
  {
   "cell_type": "code",
   "execution_count": 14,
   "metadata": {},
   "outputs": [],
   "source": [
    "def location(trip):\n",
    "    return [trip['pickup_latitude'], trip['pickup_longitude']]"
   ]
  },
  {
   "cell_type": "code",
   "execution_count": 15,
   "metadata": {},
   "outputs": [
    {
     "data": {
      "text/plain": [
       "[40.64499, -73.78115]"
      ]
     },
     "execution_count": 15,
     "metadata": {},
     "output_type": "execute_result"
    }
   ],
   "source": [
    "first_location = location(first_trip) # [40.64499, -73.78115]\n",
    "first_location # [40.64499, -73.78115]"
   ]
  },
  {
   "cell_type": "markdown",
   "metadata": {},
   "source": [
    "Ok, now that we can turn a trip into a location, let's turn a location into a marker.  Write a function called `to_marker` that takes in a location (in the form of a list) as an argument, and returns a folium `circleMarker` for that location.  The radius of the marker should always equal 6."
   ]
  },
  {
   "cell_type": "code",
   "execution_count": 16,
   "metadata": {},
   "outputs": [],
   "source": [
    "def to_marker(location):\n",
    "    return folium.CircleMarker(location, radius=6)"
   ]
  },
  {
   "cell_type": "code",
   "execution_count": 17,
   "metadata": {},
   "outputs": [
    {
     "data": {
      "text/plain": [
       "[40.7589, -73.9851]"
      ]
     },
     "execution_count": 17,
     "metadata": {},
     "output_type": "execute_result"
    }
   ],
   "source": [
    "import json\n",
    "times_square_marker = to_marker([40.7589, -73.9851])\n",
    "\n",
    "times_square_marker and times_square_marker.location # [40.7589, -73.9851]"
   ]
  },
  {
   "cell_type": "markdown",
   "metadata": {},
   "source": [
    "Ok, now that we know how to produce a single marker, let's write a function to produce lots.  We can write a function called `markers_from_trips` that takes in a list of trips, and returns a marker object for each trip.  "
   ]
  },
  {
   "cell_type": "code",
   "execution_count": 18,
   "metadata": {},
   "outputs": [
    {
     "name": "stdout",
     "output_type": "stream",
     "text": [
      "{'trip_distance': 18.38, 'pickup_latitude': 40.64499, 'pickup_longitude': -73.78115}\n"
     ]
    }
   ],
   "source": [
    "print(cleaned_trips[0])\n",
    "# def markers_from_trips(cleaned_trips):\n",
    "#     for trip in cleaned_trips:\n",
    "#         return to_marker(location(trip))\n",
    "    \n",
    "def markers_from_trips(trips):\n",
    "    locations = list(map(lambda trip: location(trip), trips))\n",
    "    return list(map(lambda location: to_marker(location),locations))"
   ]
  },
  {
   "cell_type": "code",
   "execution_count": 19,
   "metadata": {},
   "outputs": [
    {
     "data": {
      "text/plain": [
       "[<folium.vector_layers.CircleMarker at 0x7f1e076ac860>,\n",
       " <folium.vector_layers.CircleMarker at 0x7f1e076ac588>,\n",
       " <folium.vector_layers.CircleMarker at 0x7f1e076ac710>,\n",
       " <folium.vector_layers.CircleMarker at 0x7f1e076ac7b8>,\n",
       " <folium.vector_layers.CircleMarker at 0x7f1e076ac470>,\n",
       " <folium.vector_layers.CircleMarker at 0x7f1e076ac7f0>,\n",
       " <folium.vector_layers.CircleMarker at 0x7f1e076aca90>,\n",
       " <folium.vector_layers.CircleMarker at 0x7f1e076acd30>,\n",
       " <folium.vector_layers.CircleMarker at 0x7f1e076ac4a8>,\n",
       " <folium.vector_layers.CircleMarker at 0x7f1e076ac828>,\n",
       " <folium.vector_layers.CircleMarker at 0x7f1e076acc88>,\n",
       " <folium.vector_layers.CircleMarker at 0x7f1e076acba8>,\n",
       " <folium.vector_layers.CircleMarker at 0x7f1e076ac978>,\n",
       " <folium.vector_layers.CircleMarker at 0x7f1e076aca20>,\n",
       " <folium.vector_layers.CircleMarker at 0x7f1e076acdd8>,\n",
       " <folium.vector_layers.CircleMarker at 0x7f1e076acc50>,\n",
       " <folium.vector_layers.CircleMarker at 0x7f1e076ac9b0>,\n",
       " <folium.vector_layers.CircleMarker at 0x7f1e076acbe0>,\n",
       " <folium.vector_layers.CircleMarker at 0x7f1e076ac908>,\n",
       " <folium.vector_layers.CircleMarker at 0x7f1e076ac550>,\n",
       " <folium.vector_layers.CircleMarker at 0x7f1e076ac278>,\n",
       " <folium.vector_layers.CircleMarker at 0x7f1e076acb38>,\n",
       " <folium.vector_layers.CircleMarker at 0x7f1e076ac9e8>,\n",
       " <folium.vector_layers.CircleMarker at 0x7f1e076aca58>,\n",
       " <folium.vector_layers.CircleMarker at 0x7f1e076acd68>,\n",
       " <folium.vector_layers.CircleMarker at 0x7f1e076acac8>,\n",
       " <folium.vector_layers.CircleMarker at 0x7f1e076acb70>,\n",
       " <folium.vector_layers.CircleMarker at 0x7f1e076ace10>,\n",
       " <folium.vector_layers.CircleMarker at 0x7f1e076accc0>,\n",
       " <folium.vector_layers.CircleMarker at 0x7f1e076acc18>,\n",
       " <folium.vector_layers.CircleMarker at 0x7f1e076accf8>,\n",
       " <folium.vector_layers.CircleMarker at 0x7f1e076acda0>,\n",
       " <folium.vector_layers.CircleMarker at 0x7f1e076ace48>,\n",
       " <folium.vector_layers.CircleMarker at 0x7f1e076ace80>,\n",
       " <folium.vector_layers.CircleMarker at 0x7f1e076acb00>,\n",
       " <folium.vector_layers.CircleMarker at 0x7f1e076aceb8>,\n",
       " <folium.vector_layers.CircleMarker at 0x7f1e076acef0>,\n",
       " <folium.vector_layers.CircleMarker at 0x7f1e076acf28>,\n",
       " <folium.vector_layers.CircleMarker at 0x7f1e076acf60>,\n",
       " <folium.vector_layers.CircleMarker at 0x7f1e076acf98>,\n",
       " <folium.vector_layers.CircleMarker at 0x7f1e076acfd0>,\n",
       " <folium.vector_layers.CircleMarker at 0x7f1e076ac8d0>,\n",
       " <folium.vector_layers.CircleMarker at 0x7f1e07661048>,\n",
       " <folium.vector_layers.CircleMarker at 0x7f1e076610b8>,\n",
       " <folium.vector_layers.CircleMarker at 0x7f1e076610f0>,\n",
       " <folium.vector_layers.CircleMarker at 0x7f1e07661128>,\n",
       " <folium.vector_layers.CircleMarker at 0x7f1e07661160>,\n",
       " <folium.vector_layers.CircleMarker at 0x7f1e07661198>,\n",
       " <folium.vector_layers.CircleMarker at 0x7f1e076611d0>,\n",
       " <folium.vector_layers.CircleMarker at 0x7f1e07661208>,\n",
       " <folium.vector_layers.CircleMarker at 0x7f1e07661240>,\n",
       " <folium.vector_layers.CircleMarker at 0x7f1e07661278>,\n",
       " <folium.vector_layers.CircleMarker at 0x7f1e076612b0>,\n",
       " <folium.vector_layers.CircleMarker at 0x7f1e076612e8>,\n",
       " <folium.vector_layers.CircleMarker at 0x7f1e07661320>,\n",
       " <folium.vector_layers.CircleMarker at 0x7f1e07661358>,\n",
       " <folium.vector_layers.CircleMarker at 0x7f1e07661390>,\n",
       " <folium.vector_layers.CircleMarker at 0x7f1e076613c8>,\n",
       " <folium.vector_layers.CircleMarker at 0x7f1e07661400>,\n",
       " <folium.vector_layers.CircleMarker at 0x7f1e07661438>,\n",
       " <folium.vector_layers.CircleMarker at 0x7f1e07661470>,\n",
       " <folium.vector_layers.CircleMarker at 0x7f1e076614a8>,\n",
       " <folium.vector_layers.CircleMarker at 0x7f1e076614e0>,\n",
       " <folium.vector_layers.CircleMarker at 0x7f1e07661518>,\n",
       " <folium.vector_layers.CircleMarker at 0x7f1e07661550>,\n",
       " <folium.vector_layers.CircleMarker at 0x7f1e07661588>,\n",
       " <folium.vector_layers.CircleMarker at 0x7f1e076615c0>,\n",
       " <folium.vector_layers.CircleMarker at 0x7f1e076615f8>,\n",
       " <folium.vector_layers.CircleMarker at 0x7f1e07661630>,\n",
       " <folium.vector_layers.CircleMarker at 0x7f1e07661668>,\n",
       " <folium.vector_layers.CircleMarker at 0x7f1e076616a0>,\n",
       " <folium.vector_layers.CircleMarker at 0x7f1e076616d8>,\n",
       " <folium.vector_layers.CircleMarker at 0x7f1e07661710>,\n",
       " <folium.vector_layers.CircleMarker at 0x7f1e07661748>,\n",
       " <folium.vector_layers.CircleMarker at 0x7f1e07661780>,\n",
       " <folium.vector_layers.CircleMarker at 0x7f1e076617b8>,\n",
       " <folium.vector_layers.CircleMarker at 0x7f1e076617f0>,\n",
       " <folium.vector_layers.CircleMarker at 0x7f1e07661828>,\n",
       " <folium.vector_layers.CircleMarker at 0x7f1e07661860>,\n",
       " <folium.vector_layers.CircleMarker at 0x7f1e07661898>,\n",
       " <folium.vector_layers.CircleMarker at 0x7f1e076618d0>,\n",
       " <folium.vector_layers.CircleMarker at 0x7f1e07661908>,\n",
       " <folium.vector_layers.CircleMarker at 0x7f1e07661940>,\n",
       " <folium.vector_layers.CircleMarker at 0x7f1e07661978>,\n",
       " <folium.vector_layers.CircleMarker at 0x7f1e076619b0>,\n",
       " <folium.vector_layers.CircleMarker at 0x7f1e076619e8>,\n",
       " <folium.vector_layers.CircleMarker at 0x7f1e07661a20>,\n",
       " <folium.vector_layers.CircleMarker at 0x7f1e07661a58>,\n",
       " <folium.vector_layers.CircleMarker at 0x7f1e07661a90>,\n",
       " <folium.vector_layers.CircleMarker at 0x7f1e07661ac8>,\n",
       " <folium.vector_layers.CircleMarker at 0x7f1e07661b00>,\n",
       " <folium.vector_layers.CircleMarker at 0x7f1e07661b38>,\n",
       " <folium.vector_layers.CircleMarker at 0x7f1e07661b70>,\n",
       " <folium.vector_layers.CircleMarker at 0x7f1e07661ba8>,\n",
       " <folium.vector_layers.CircleMarker at 0x7f1e07661be0>,\n",
       " <folium.vector_layers.CircleMarker at 0x7f1e07661c18>,\n",
       " <folium.vector_layers.CircleMarker at 0x7f1e07661c50>,\n",
       " <folium.vector_layers.CircleMarker at 0x7f1e07661c88>,\n",
       " <folium.vector_layers.CircleMarker at 0x7f1e07661cc0>,\n",
       " <folium.vector_layers.CircleMarker at 0x7f1e07661cf8>,\n",
       " <folium.vector_layers.CircleMarker at 0x7f1e07661d30>,\n",
       " <folium.vector_layers.CircleMarker at 0x7f1e07661d68>,\n",
       " <folium.vector_layers.CircleMarker at 0x7f1e07661da0>,\n",
       " <folium.vector_layers.CircleMarker at 0x7f1e07661dd8>,\n",
       " <folium.vector_layers.CircleMarker at 0x7f1e07661e10>,\n",
       " <folium.vector_layers.CircleMarker at 0x7f1e07661e48>,\n",
       " <folium.vector_layers.CircleMarker at 0x7f1e07661e80>,\n",
       " <folium.vector_layers.CircleMarker at 0x7f1e07661eb8>,\n",
       " <folium.vector_layers.CircleMarker at 0x7f1e07661ef0>,\n",
       " <folium.vector_layers.CircleMarker at 0x7f1e07661f28>,\n",
       " <folium.vector_layers.CircleMarker at 0x7f1e07661f60>,\n",
       " <folium.vector_layers.CircleMarker at 0x7f1e07661f98>,\n",
       " <folium.vector_layers.CircleMarker at 0x7f1e07661fd0>,\n",
       " <folium.vector_layers.CircleMarker at 0x7f1e07661080>,\n",
       " <folium.vector_layers.CircleMarker at 0x7f1e0766e080>,\n",
       " <folium.vector_layers.CircleMarker at 0x7f1e0766e0b8>,\n",
       " <folium.vector_layers.CircleMarker at 0x7f1e0766e0f0>,\n",
       " <folium.vector_layers.CircleMarker at 0x7f1e0766e128>,\n",
       " <folium.vector_layers.CircleMarker at 0x7f1e0766e160>,\n",
       " <folium.vector_layers.CircleMarker at 0x7f1e0766e198>,\n",
       " <folium.vector_layers.CircleMarker at 0x7f1e0766e1d0>,\n",
       " <folium.vector_layers.CircleMarker at 0x7f1e0766e208>,\n",
       " <folium.vector_layers.CircleMarker at 0x7f1e0766e240>,\n",
       " <folium.vector_layers.CircleMarker at 0x7f1e0766e278>,\n",
       " <folium.vector_layers.CircleMarker at 0x7f1e0766e2b0>,\n",
       " <folium.vector_layers.CircleMarker at 0x7f1e0766e2e8>,\n",
       " <folium.vector_layers.CircleMarker at 0x7f1e0766e320>,\n",
       " <folium.vector_layers.CircleMarker at 0x7f1e0766e358>,\n",
       " <folium.vector_layers.CircleMarker at 0x7f1e0766e390>,\n",
       " <folium.vector_layers.CircleMarker at 0x7f1e0766e3c8>,\n",
       " <folium.vector_layers.CircleMarker at 0x7f1e0766e400>,\n",
       " <folium.vector_layers.CircleMarker at 0x7f1e0766e438>,\n",
       " <folium.vector_layers.CircleMarker at 0x7f1e0766e470>,\n",
       " <folium.vector_layers.CircleMarker at 0x7f1e0766e4a8>,\n",
       " <folium.vector_layers.CircleMarker at 0x7f1e0766e4e0>,\n",
       " <folium.vector_layers.CircleMarker at 0x7f1e0766e518>,\n",
       " <folium.vector_layers.CircleMarker at 0x7f1e0766e550>,\n",
       " <folium.vector_layers.CircleMarker at 0x7f1e0766e588>,\n",
       " <folium.vector_layers.CircleMarker at 0x7f1e0766e5c0>,\n",
       " <folium.vector_layers.CircleMarker at 0x7f1e0766e5f8>,\n",
       " <folium.vector_layers.CircleMarker at 0x7f1e0766e630>,\n",
       " <folium.vector_layers.CircleMarker at 0x7f1e0766e668>,\n",
       " <folium.vector_layers.CircleMarker at 0x7f1e0766e6a0>,\n",
       " <folium.vector_layers.CircleMarker at 0x7f1e0766e6d8>,\n",
       " <folium.vector_layers.CircleMarker at 0x7f1e0766e710>,\n",
       " <folium.vector_layers.CircleMarker at 0x7f1e0766e748>,\n",
       " <folium.vector_layers.CircleMarker at 0x7f1e0766e780>,\n",
       " <folium.vector_layers.CircleMarker at 0x7f1e0766e7b8>,\n",
       " <folium.vector_layers.CircleMarker at 0x7f1e0766e7f0>,\n",
       " <folium.vector_layers.CircleMarker at 0x7f1e0766e828>,\n",
       " <folium.vector_layers.CircleMarker at 0x7f1e0766e860>,\n",
       " <folium.vector_layers.CircleMarker at 0x7f1e0766e898>,\n",
       " <folium.vector_layers.CircleMarker at 0x7f1e0766e8d0>,\n",
       " <folium.vector_layers.CircleMarker at 0x7f1e0766e908>,\n",
       " <folium.vector_layers.CircleMarker at 0x7f1e0766e940>,\n",
       " <folium.vector_layers.CircleMarker at 0x7f1e0766e978>,\n",
       " <folium.vector_layers.CircleMarker at 0x7f1e0766e9b0>,\n",
       " <folium.vector_layers.CircleMarker at 0x7f1e0766e9e8>,\n",
       " <folium.vector_layers.CircleMarker at 0x7f1e0766ea20>,\n",
       " <folium.vector_layers.CircleMarker at 0x7f1e0766ea58>,\n",
       " <folium.vector_layers.CircleMarker at 0x7f1e0766ea90>,\n",
       " <folium.vector_layers.CircleMarker at 0x7f1e0766eac8>,\n",
       " <folium.vector_layers.CircleMarker at 0x7f1e0766eb00>,\n",
       " <folium.vector_layers.CircleMarker at 0x7f1e0766eb38>,\n",
       " <folium.vector_layers.CircleMarker at 0x7f1e0766eb70>,\n",
       " <folium.vector_layers.CircleMarker at 0x7f1e0766eba8>,\n",
       " <folium.vector_layers.CircleMarker at 0x7f1e0766ebe0>,\n",
       " <folium.vector_layers.CircleMarker at 0x7f1e0766ec18>,\n",
       " <folium.vector_layers.CircleMarker at 0x7f1e0766ec50>,\n",
       " <folium.vector_layers.CircleMarker at 0x7f1e0766ec88>,\n",
       " <folium.vector_layers.CircleMarker at 0x7f1e0766ecc0>,\n",
       " <folium.vector_layers.CircleMarker at 0x7f1e0766ecf8>,\n",
       " <folium.vector_layers.CircleMarker at 0x7f1e0766ed30>,\n",
       " <folium.vector_layers.CircleMarker at 0x7f1e0766ed68>,\n",
       " <folium.vector_layers.CircleMarker at 0x7f1e0766eda0>,\n",
       " <folium.vector_layers.CircleMarker at 0x7f1e0766edd8>,\n",
       " <folium.vector_layers.CircleMarker at 0x7f1e0766ee10>,\n",
       " <folium.vector_layers.CircleMarker at 0x7f1e0766ee48>,\n",
       " <folium.vector_layers.CircleMarker at 0x7f1e0766ee80>,\n",
       " <folium.vector_layers.CircleMarker at 0x7f1e0766eeb8>,\n",
       " <folium.vector_layers.CircleMarker at 0x7f1e0766eef0>,\n",
       " <folium.vector_layers.CircleMarker at 0x7f1e0766ef28>,\n",
       " <folium.vector_layers.CircleMarker at 0x7f1e0766ef60>,\n",
       " <folium.vector_layers.CircleMarker at 0x7f1e0766ef98>,\n",
       " <folium.vector_layers.CircleMarker at 0x7f1e0766efd0>,\n",
       " <folium.vector_layers.CircleMarker at 0x7f1e0766e048>,\n",
       " <folium.vector_layers.CircleMarker at 0x7f1e0767c080>,\n",
       " <folium.vector_layers.CircleMarker at 0x7f1e0767c0b8>,\n",
       " <folium.vector_layers.CircleMarker at 0x7f1e0767c0f0>,\n",
       " <folium.vector_layers.CircleMarker at 0x7f1e0767c128>,\n",
       " <folium.vector_layers.CircleMarker at 0x7f1e0767c160>,\n",
       " <folium.vector_layers.CircleMarker at 0x7f1e0767c198>,\n",
       " <folium.vector_layers.CircleMarker at 0x7f1e0767c1d0>,\n",
       " <folium.vector_layers.CircleMarker at 0x7f1e0767c208>,\n",
       " <folium.vector_layers.CircleMarker at 0x7f1e0767c240>,\n",
       " <folium.vector_layers.CircleMarker at 0x7f1e0767c278>,\n",
       " <folium.vector_layers.CircleMarker at 0x7f1e0767c2b0>,\n",
       " <folium.vector_layers.CircleMarker at 0x7f1e0767c2e8>,\n",
       " <folium.vector_layers.CircleMarker at 0x7f1e0767c320>,\n",
       " <folium.vector_layers.CircleMarker at 0x7f1e0767c358>,\n",
       " <folium.vector_layers.CircleMarker at 0x7f1e0767c390>,\n",
       " <folium.vector_layers.CircleMarker at 0x7f1e0767c3c8>,\n",
       " <folium.vector_layers.CircleMarker at 0x7f1e0767c400>,\n",
       " <folium.vector_layers.CircleMarker at 0x7f1e0767c438>,\n",
       " <folium.vector_layers.CircleMarker at 0x7f1e0767c470>,\n",
       " <folium.vector_layers.CircleMarker at 0x7f1e0767c4a8>,\n",
       " <folium.vector_layers.CircleMarker at 0x7f1e0767c4e0>,\n",
       " <folium.vector_layers.CircleMarker at 0x7f1e0767c518>,\n",
       " <folium.vector_layers.CircleMarker at 0x7f1e0767c550>,\n",
       " <folium.vector_layers.CircleMarker at 0x7f1e0767c588>,\n",
       " <folium.vector_layers.CircleMarker at 0x7f1e0767c5c0>,\n",
       " <folium.vector_layers.CircleMarker at 0x7f1e0767c5f8>,\n",
       " <folium.vector_layers.CircleMarker at 0x7f1e0767c630>,\n",
       " <folium.vector_layers.CircleMarker at 0x7f1e0767c668>,\n",
       " <folium.vector_layers.CircleMarker at 0x7f1e0767c6a0>,\n",
       " <folium.vector_layers.CircleMarker at 0x7f1e0767c6d8>,\n",
       " <folium.vector_layers.CircleMarker at 0x7f1e0767c710>,\n",
       " <folium.vector_layers.CircleMarker at 0x7f1e0767c748>,\n",
       " <folium.vector_layers.CircleMarker at 0x7f1e0767c780>,\n",
       " <folium.vector_layers.CircleMarker at 0x7f1e0767c7b8>,\n",
       " <folium.vector_layers.CircleMarker at 0x7f1e0767c7f0>,\n",
       " <folium.vector_layers.CircleMarker at 0x7f1e0767c828>,\n",
       " <folium.vector_layers.CircleMarker at 0x7f1e0767c860>,\n",
       " <folium.vector_layers.CircleMarker at 0x7f1e0767c898>,\n",
       " <folium.vector_layers.CircleMarker at 0x7f1e0767c8d0>,\n",
       " <folium.vector_layers.CircleMarker at 0x7f1e0767c908>,\n",
       " <folium.vector_layers.CircleMarker at 0x7f1e0767c940>,\n",
       " <folium.vector_layers.CircleMarker at 0x7f1e0767c978>,\n",
       " <folium.vector_layers.CircleMarker at 0x7f1e0767c9b0>,\n",
       " <folium.vector_layers.CircleMarker at 0x7f1e0767c9e8>,\n",
       " <folium.vector_layers.CircleMarker at 0x7f1e0767ca20>,\n",
       " <folium.vector_layers.CircleMarker at 0x7f1e0767ca58>,\n",
       " <folium.vector_layers.CircleMarker at 0x7f1e0767ca90>,\n",
       " <folium.vector_layers.CircleMarker at 0x7f1e0767cac8>,\n",
       " <folium.vector_layers.CircleMarker at 0x7f1e0767cb00>,\n",
       " <folium.vector_layers.CircleMarker at 0x7f1e0767cb38>,\n",
       " <folium.vector_layers.CircleMarker at 0x7f1e0767cb70>,\n",
       " <folium.vector_layers.CircleMarker at 0x7f1e0767cba8>,\n",
       " <folium.vector_layers.CircleMarker at 0x7f1e0767cbe0>,\n",
       " <folium.vector_layers.CircleMarker at 0x7f1e0767cc18>,\n",
       " <folium.vector_layers.CircleMarker at 0x7f1e0767cc50>,\n",
       " <folium.vector_layers.CircleMarker at 0x7f1e0767cc88>,\n",
       " <folium.vector_layers.CircleMarker at 0x7f1e0767ccc0>,\n",
       " <folium.vector_layers.CircleMarker at 0x7f1e0767ccf8>,\n",
       " <folium.vector_layers.CircleMarker at 0x7f1e0767cd30>,\n",
       " <folium.vector_layers.CircleMarker at 0x7f1e0767cd68>,\n",
       " <folium.vector_layers.CircleMarker at 0x7f1e0767cda0>,\n",
       " <folium.vector_layers.CircleMarker at 0x7f1e0767cdd8>,\n",
       " <folium.vector_layers.CircleMarker at 0x7f1e0767ce10>,\n",
       " <folium.vector_layers.CircleMarker at 0x7f1e0767ce48>,\n",
       " <folium.vector_layers.CircleMarker at 0x7f1e0767ce80>,\n",
       " <folium.vector_layers.CircleMarker at 0x7f1e0767ceb8>,\n",
       " <folium.vector_layers.CircleMarker at 0x7f1e0767cef0>,\n",
       " <folium.vector_layers.CircleMarker at 0x7f1e0767cf28>,\n",
       " <folium.vector_layers.CircleMarker at 0x7f1e0767cf60>,\n",
       " <folium.vector_layers.CircleMarker at 0x7f1e0767cf98>,\n",
       " <folium.vector_layers.CircleMarker at 0x7f1e0767cfd0>,\n",
       " <folium.vector_layers.CircleMarker at 0x7f1e0767c048>,\n",
       " <folium.vector_layers.CircleMarker at 0x7f1e07689080>,\n",
       " <folium.vector_layers.CircleMarker at 0x7f1e076890b8>,\n",
       " <folium.vector_layers.CircleMarker at 0x7f1e076890f0>,\n",
       " <folium.vector_layers.CircleMarker at 0x7f1e07689128>,\n",
       " <folium.vector_layers.CircleMarker at 0x7f1e07689160>,\n",
       " <folium.vector_layers.CircleMarker at 0x7f1e07689198>,\n",
       " <folium.vector_layers.CircleMarker at 0x7f1e076891d0>,\n",
       " <folium.vector_layers.CircleMarker at 0x7f1e07689208>,\n",
       " <folium.vector_layers.CircleMarker at 0x7f1e07689240>,\n",
       " <folium.vector_layers.CircleMarker at 0x7f1e07689278>,\n",
       " <folium.vector_layers.CircleMarker at 0x7f1e076892b0>,\n",
       " <folium.vector_layers.CircleMarker at 0x7f1e076892e8>,\n",
       " <folium.vector_layers.CircleMarker at 0x7f1e07689320>,\n",
       " <folium.vector_layers.CircleMarker at 0x7f1e07689358>,\n",
       " <folium.vector_layers.CircleMarker at 0x7f1e07689390>,\n",
       " <folium.vector_layers.CircleMarker at 0x7f1e076893c8>,\n",
       " <folium.vector_layers.CircleMarker at 0x7f1e07689400>,\n",
       " <folium.vector_layers.CircleMarker at 0x7f1e07689438>,\n",
       " <folium.vector_layers.CircleMarker at 0x7f1e07689470>,\n",
       " <folium.vector_layers.CircleMarker at 0x7f1e076894a8>,\n",
       " <folium.vector_layers.CircleMarker at 0x7f1e076894e0>,\n",
       " <folium.vector_layers.CircleMarker at 0x7f1e07689518>,\n",
       " <folium.vector_layers.CircleMarker at 0x7f1e07689550>,\n",
       " <folium.vector_layers.CircleMarker at 0x7f1e07689588>,\n",
       " <folium.vector_layers.CircleMarker at 0x7f1e076895c0>,\n",
       " <folium.vector_layers.CircleMarker at 0x7f1e076895f8>,\n",
       " <folium.vector_layers.CircleMarker at 0x7f1e07689630>,\n",
       " <folium.vector_layers.CircleMarker at 0x7f1e07689668>,\n",
       " <folium.vector_layers.CircleMarker at 0x7f1e076896a0>,\n",
       " <folium.vector_layers.CircleMarker at 0x7f1e076896d8>,\n",
       " <folium.vector_layers.CircleMarker at 0x7f1e07689710>,\n",
       " <folium.vector_layers.CircleMarker at 0x7f1e07689748>,\n",
       " <folium.vector_layers.CircleMarker at 0x7f1e07689780>,\n",
       " <folium.vector_layers.CircleMarker at 0x7f1e076897b8>,\n",
       " <folium.vector_layers.CircleMarker at 0x7f1e076897f0>,\n",
       " <folium.vector_layers.CircleMarker at 0x7f1e07689828>,\n",
       " <folium.vector_layers.CircleMarker at 0x7f1e07689860>,\n",
       " <folium.vector_layers.CircleMarker at 0x7f1e07689898>,\n",
       " <folium.vector_layers.CircleMarker at 0x7f1e076898d0>,\n",
       " <folium.vector_layers.CircleMarker at 0x7f1e07689908>,\n",
       " <folium.vector_layers.CircleMarker at 0x7f1e07689940>,\n",
       " <folium.vector_layers.CircleMarker at 0x7f1e07689978>,\n",
       " <folium.vector_layers.CircleMarker at 0x7f1e076899b0>,\n",
       " <folium.vector_layers.CircleMarker at 0x7f1e076899e8>,\n",
       " <folium.vector_layers.CircleMarker at 0x7f1e07689a20>,\n",
       " <folium.vector_layers.CircleMarker at 0x7f1e07689a58>,\n",
       " <folium.vector_layers.CircleMarker at 0x7f1e07689a90>,\n",
       " <folium.vector_layers.CircleMarker at 0x7f1e07689ac8>,\n",
       " <folium.vector_layers.CircleMarker at 0x7f1e07689b00>,\n",
       " <folium.vector_layers.CircleMarker at 0x7f1e07689b38>,\n",
       " <folium.vector_layers.CircleMarker at 0x7f1e07689b70>,\n",
       " <folium.vector_layers.CircleMarker at 0x7f1e07689ba8>,\n",
       " <folium.vector_layers.CircleMarker at 0x7f1e07689be0>,\n",
       " <folium.vector_layers.CircleMarker at 0x7f1e07689c18>,\n",
       " <folium.vector_layers.CircleMarker at 0x7f1e07689c50>,\n",
       " <folium.vector_layers.CircleMarker at 0x7f1e07689c88>,\n",
       " <folium.vector_layers.CircleMarker at 0x7f1e07689cc0>,\n",
       " <folium.vector_layers.CircleMarker at 0x7f1e07689cf8>,\n",
       " <folium.vector_layers.CircleMarker at 0x7f1e07689d30>,\n",
       " <folium.vector_layers.CircleMarker at 0x7f1e07689d68>,\n",
       " <folium.vector_layers.CircleMarker at 0x7f1e07689da0>,\n",
       " <folium.vector_layers.CircleMarker at 0x7f1e07689dd8>,\n",
       " <folium.vector_layers.CircleMarker at 0x7f1e07689e10>,\n",
       " <folium.vector_layers.CircleMarker at 0x7f1e07689e48>,\n",
       " <folium.vector_layers.CircleMarker at 0x7f1e07689e80>,\n",
       " <folium.vector_layers.CircleMarker at 0x7f1e07689eb8>,\n",
       " <folium.vector_layers.CircleMarker at 0x7f1e07689ef0>,\n",
       " <folium.vector_layers.CircleMarker at 0x7f1e07689f28>,\n",
       " <folium.vector_layers.CircleMarker at 0x7f1e07689f60>,\n",
       " <folium.vector_layers.CircleMarker at 0x7f1e07689f98>,\n",
       " <folium.vector_layers.CircleMarker at 0x7f1e07689fd0>,\n",
       " <folium.vector_layers.CircleMarker at 0x7f1e07689048>,\n",
       " <folium.vector_layers.CircleMarker at 0x7f1e07697080>,\n",
       " <folium.vector_layers.CircleMarker at 0x7f1e076970b8>,\n",
       " <folium.vector_layers.CircleMarker at 0x7f1e076970f0>,\n",
       " <folium.vector_layers.CircleMarker at 0x7f1e07697128>,\n",
       " <folium.vector_layers.CircleMarker at 0x7f1e07697160>,\n",
       " <folium.vector_layers.CircleMarker at 0x7f1e07697198>,\n",
       " <folium.vector_layers.CircleMarker at 0x7f1e076971d0>,\n",
       " <folium.vector_layers.CircleMarker at 0x7f1e07697208>,\n",
       " <folium.vector_layers.CircleMarker at 0x7f1e07697240>,\n",
       " <folium.vector_layers.CircleMarker at 0x7f1e07697278>,\n",
       " <folium.vector_layers.CircleMarker at 0x7f1e076972b0>,\n",
       " <folium.vector_layers.CircleMarker at 0x7f1e076972e8>,\n",
       " <folium.vector_layers.CircleMarker at 0x7f1e07697320>,\n",
       " <folium.vector_layers.CircleMarker at 0x7f1e07697358>,\n",
       " <folium.vector_layers.CircleMarker at 0x7f1e07697390>,\n",
       " <folium.vector_layers.CircleMarker at 0x7f1e076973c8>,\n",
       " <folium.vector_layers.CircleMarker at 0x7f1e07697400>,\n",
       " <folium.vector_layers.CircleMarker at 0x7f1e07697438>,\n",
       " <folium.vector_layers.CircleMarker at 0x7f1e07697470>,\n",
       " <folium.vector_layers.CircleMarker at 0x7f1e076974a8>,\n",
       " <folium.vector_layers.CircleMarker at 0x7f1e076974e0>,\n",
       " <folium.vector_layers.CircleMarker at 0x7f1e07697518>,\n",
       " <folium.vector_layers.CircleMarker at 0x7f1e07697550>,\n",
       " <folium.vector_layers.CircleMarker at 0x7f1e07697588>,\n",
       " <folium.vector_layers.CircleMarker at 0x7f1e076975c0>,\n",
       " <folium.vector_layers.CircleMarker at 0x7f1e076975f8>,\n",
       " <folium.vector_layers.CircleMarker at 0x7f1e07697630>,\n",
       " <folium.vector_layers.CircleMarker at 0x7f1e07697668>,\n",
       " <folium.vector_layers.CircleMarker at 0x7f1e076976a0>,\n",
       " <folium.vector_layers.CircleMarker at 0x7f1e076976d8>,\n",
       " <folium.vector_layers.CircleMarker at 0x7f1e07697710>,\n",
       " <folium.vector_layers.CircleMarker at 0x7f1e07697748>,\n",
       " <folium.vector_layers.CircleMarker at 0x7f1e07697780>,\n",
       " <folium.vector_layers.CircleMarker at 0x7f1e076977b8>,\n",
       " <folium.vector_layers.CircleMarker at 0x7f1e076977f0>,\n",
       " <folium.vector_layers.CircleMarker at 0x7f1e07697828>,\n",
       " <folium.vector_layers.CircleMarker at 0x7f1e07697860>,\n",
       " <folium.vector_layers.CircleMarker at 0x7f1e07697898>,\n",
       " <folium.vector_layers.CircleMarker at 0x7f1e076978d0>,\n",
       " <folium.vector_layers.CircleMarker at 0x7f1e07697908>,\n",
       " <folium.vector_layers.CircleMarker at 0x7f1e07697940>,\n",
       " <folium.vector_layers.CircleMarker at 0x7f1e07697978>,\n",
       " <folium.vector_layers.CircleMarker at 0x7f1e076979b0>,\n",
       " <folium.vector_layers.CircleMarker at 0x7f1e076979e8>,\n",
       " <folium.vector_layers.CircleMarker at 0x7f1e07697a20>,\n",
       " <folium.vector_layers.CircleMarker at 0x7f1e07697a58>,\n",
       " <folium.vector_layers.CircleMarker at 0x7f1e07697a90>,\n",
       " <folium.vector_layers.CircleMarker at 0x7f1e07697ac8>,\n",
       " <folium.vector_layers.CircleMarker at 0x7f1e07697b00>,\n",
       " <folium.vector_layers.CircleMarker at 0x7f1e07697b38>,\n",
       " <folium.vector_layers.CircleMarker at 0x7f1e07697b70>,\n",
       " <folium.vector_layers.CircleMarker at 0x7f1e07697ba8>,\n",
       " <folium.vector_layers.CircleMarker at 0x7f1e07697be0>,\n",
       " <folium.vector_layers.CircleMarker at 0x7f1e07697c18>,\n",
       " <folium.vector_layers.CircleMarker at 0x7f1e07697c50>,\n",
       " <folium.vector_layers.CircleMarker at 0x7f1e07697c88>,\n",
       " <folium.vector_layers.CircleMarker at 0x7f1e07697cc0>,\n",
       " <folium.vector_layers.CircleMarker at 0x7f1e07697cf8>,\n",
       " <folium.vector_layers.CircleMarker at 0x7f1e07697d30>,\n",
       " <folium.vector_layers.CircleMarker at 0x7f1e07697d68>,\n",
       " <folium.vector_layers.CircleMarker at 0x7f1e07697da0>,\n",
       " <folium.vector_layers.CircleMarker at 0x7f1e07697dd8>,\n",
       " <folium.vector_layers.CircleMarker at 0x7f1e07697e10>,\n",
       " <folium.vector_layers.CircleMarker at 0x7f1e07697e48>,\n",
       " <folium.vector_layers.CircleMarker at 0x7f1e07697e80>,\n",
       " <folium.vector_layers.CircleMarker at 0x7f1e07697eb8>,\n",
       " <folium.vector_layers.CircleMarker at 0x7f1e07697ef0>,\n",
       " <folium.vector_layers.CircleMarker at 0x7f1e07697f28>,\n",
       " <folium.vector_layers.CircleMarker at 0x7f1e07697f60>,\n",
       " <folium.vector_layers.CircleMarker at 0x7f1e07697f98>,\n",
       " <folium.vector_layers.CircleMarker at 0x7f1e07697fd0>,\n",
       " <folium.vector_layers.CircleMarker at 0x7f1e07697048>,\n",
       " <folium.vector_layers.CircleMarker at 0x7f1e07626080>,\n",
       " <folium.vector_layers.CircleMarker at 0x7f1e076260b8>,\n",
       " <folium.vector_layers.CircleMarker at 0x7f1e076260f0>,\n",
       " <folium.vector_layers.CircleMarker at 0x7f1e07626128>,\n",
       " <folium.vector_layers.CircleMarker at 0x7f1e07626160>,\n",
       " <folium.vector_layers.CircleMarker at 0x7f1e07626198>,\n",
       " <folium.vector_layers.CircleMarker at 0x7f1e076261d0>,\n",
       " <folium.vector_layers.CircleMarker at 0x7f1e07626208>,\n",
       " <folium.vector_layers.CircleMarker at 0x7f1e07626240>,\n",
       " <folium.vector_layers.CircleMarker at 0x7f1e07626278>,\n",
       " <folium.vector_layers.CircleMarker at 0x7f1e076262b0>,\n",
       " <folium.vector_layers.CircleMarker at 0x7f1e076262e8>,\n",
       " <folium.vector_layers.CircleMarker at 0x7f1e07626320>,\n",
       " <folium.vector_layers.CircleMarker at 0x7f1e07626358>,\n",
       " <folium.vector_layers.CircleMarker at 0x7f1e07626390>,\n",
       " <folium.vector_layers.CircleMarker at 0x7f1e076263c8>,\n",
       " <folium.vector_layers.CircleMarker at 0x7f1e07626400>,\n",
       " <folium.vector_layers.CircleMarker at 0x7f1e07626438>,\n",
       " <folium.vector_layers.CircleMarker at 0x7f1e07626470>,\n",
       " <folium.vector_layers.CircleMarker at 0x7f1e076264a8>,\n",
       " <folium.vector_layers.CircleMarker at 0x7f1e076264e0>,\n",
       " <folium.vector_layers.CircleMarker at 0x7f1e07626518>,\n",
       " <folium.vector_layers.CircleMarker at 0x7f1e07626550>,\n",
       " <folium.vector_layers.CircleMarker at 0x7f1e07626588>,\n",
       " <folium.vector_layers.CircleMarker at 0x7f1e076265c0>,\n",
       " <folium.vector_layers.CircleMarker at 0x7f1e076265f8>,\n",
       " <folium.vector_layers.CircleMarker at 0x7f1e07626630>,\n",
       " <folium.vector_layers.CircleMarker at 0x7f1e07626668>,\n",
       " <folium.vector_layers.CircleMarker at 0x7f1e076266a0>,\n",
       " <folium.vector_layers.CircleMarker at 0x7f1e076266d8>,\n",
       " <folium.vector_layers.CircleMarker at 0x7f1e07626710>,\n",
       " <folium.vector_layers.CircleMarker at 0x7f1e07626748>,\n",
       " <folium.vector_layers.CircleMarker at 0x7f1e07626780>,\n",
       " <folium.vector_layers.CircleMarker at 0x7f1e076267b8>,\n",
       " <folium.vector_layers.CircleMarker at 0x7f1e076267f0>,\n",
       " <folium.vector_layers.CircleMarker at 0x7f1e07626828>,\n",
       " <folium.vector_layers.CircleMarker at 0x7f1e07626860>,\n",
       " <folium.vector_layers.CircleMarker at 0x7f1e07626898>,\n",
       " <folium.vector_layers.CircleMarker at 0x7f1e076268d0>,\n",
       " <folium.vector_layers.CircleMarker at 0x7f1e07626908>,\n",
       " <folium.vector_layers.CircleMarker at 0x7f1e07626940>,\n",
       " <folium.vector_layers.CircleMarker at 0x7f1e07626978>,\n",
       " <folium.vector_layers.CircleMarker at 0x7f1e076269b0>,\n",
       " <folium.vector_layers.CircleMarker at 0x7f1e076269e8>,\n",
       " <folium.vector_layers.CircleMarker at 0x7f1e07626a20>,\n",
       " <folium.vector_layers.CircleMarker at 0x7f1e07626a58>,\n",
       " <folium.vector_layers.CircleMarker at 0x7f1e07626a90>,\n",
       " <folium.vector_layers.CircleMarker at 0x7f1e07626ac8>,\n",
       " <folium.vector_layers.CircleMarker at 0x7f1e07626b00>,\n",
       " <folium.vector_layers.CircleMarker at 0x7f1e07626b38>,\n",
       " <folium.vector_layers.CircleMarker at 0x7f1e07626b70>,\n",
       " <folium.vector_layers.CircleMarker at 0x7f1e07626ba8>,\n",
       " <folium.vector_layers.CircleMarker at 0x7f1e07626be0>,\n",
       " <folium.vector_layers.CircleMarker at 0x7f1e07626c18>,\n",
       " <folium.vector_layers.CircleMarker at 0x7f1e07626c50>,\n",
       " <folium.vector_layers.CircleMarker at 0x7f1e07626c88>,\n",
       " <folium.vector_layers.CircleMarker at 0x7f1e07626cc0>,\n",
       " <folium.vector_layers.CircleMarker at 0x7f1e07626cf8>,\n",
       " <folium.vector_layers.CircleMarker at 0x7f1e07626d30>,\n",
       " <folium.vector_layers.CircleMarker at 0x7f1e07626d68>,\n",
       " <folium.vector_layers.CircleMarker at 0x7f1e07626da0>,\n",
       " <folium.vector_layers.CircleMarker at 0x7f1e07626dd8>,\n",
       " <folium.vector_layers.CircleMarker at 0x7f1e07626e10>,\n",
       " <folium.vector_layers.CircleMarker at 0x7f1e07626e48>,\n",
       " <folium.vector_layers.CircleMarker at 0x7f1e07626e80>,\n",
       " <folium.vector_layers.CircleMarker at 0x7f1e07626eb8>,\n",
       " <folium.vector_layers.CircleMarker at 0x7f1e07626ef0>,\n",
       " <folium.vector_layers.CircleMarker at 0x7f1e07626f28>,\n",
       " <folium.vector_layers.CircleMarker at 0x7f1e07626f60>,\n",
       " <folium.vector_layers.CircleMarker at 0x7f1e07626f98>,\n",
       " <folium.vector_layers.CircleMarker at 0x7f1e07626fd0>,\n",
       " <folium.vector_layers.CircleMarker at 0x7f1e07626048>,\n",
       " <folium.vector_layers.CircleMarker at 0x7f1e07633080>,\n",
       " <folium.vector_layers.CircleMarker at 0x7f1e076330b8>,\n",
       " <folium.vector_layers.CircleMarker at 0x7f1e076330f0>,\n",
       " <folium.vector_layers.CircleMarker at 0x7f1e07633128>,\n",
       " <folium.vector_layers.CircleMarker at 0x7f1e07633160>,\n",
       " <folium.vector_layers.CircleMarker at 0x7f1e07633198>,\n",
       " <folium.vector_layers.CircleMarker at 0x7f1e076331d0>,\n",
       " <folium.vector_layers.CircleMarker at 0x7f1e07633208>,\n",
       " <folium.vector_layers.CircleMarker at 0x7f1e07633240>,\n",
       " <folium.vector_layers.CircleMarker at 0x7f1e07633278>,\n",
       " <folium.vector_layers.CircleMarker at 0x7f1e076332b0>,\n",
       " <folium.vector_layers.CircleMarker at 0x7f1e076332e8>,\n",
       " <folium.vector_layers.CircleMarker at 0x7f1e07633320>,\n",
       " <folium.vector_layers.CircleMarker at 0x7f1e07633358>,\n",
       " <folium.vector_layers.CircleMarker at 0x7f1e07633390>,\n",
       " <folium.vector_layers.CircleMarker at 0x7f1e076333c8>,\n",
       " <folium.vector_layers.CircleMarker at 0x7f1e07633400>,\n",
       " <folium.vector_layers.CircleMarker at 0x7f1e07633438>,\n",
       " <folium.vector_layers.CircleMarker at 0x7f1e07633470>,\n",
       " <folium.vector_layers.CircleMarker at 0x7f1e076334a8>,\n",
       " <folium.vector_layers.CircleMarker at 0x7f1e076334e0>,\n",
       " <folium.vector_layers.CircleMarker at 0x7f1e07633518>,\n",
       " <folium.vector_layers.CircleMarker at 0x7f1e07633550>,\n",
       " <folium.vector_layers.CircleMarker at 0x7f1e07633588>,\n",
       " <folium.vector_layers.CircleMarker at 0x7f1e076335c0>,\n",
       " <folium.vector_layers.CircleMarker at 0x7f1e076335f8>,\n",
       " <folium.vector_layers.CircleMarker at 0x7f1e07633630>,\n",
       " <folium.vector_layers.CircleMarker at 0x7f1e07633668>,\n",
       " <folium.vector_layers.CircleMarker at 0x7f1e076336a0>,\n",
       " <folium.vector_layers.CircleMarker at 0x7f1e076336d8>,\n",
       " <folium.vector_layers.CircleMarker at 0x7f1e07633710>,\n",
       " <folium.vector_layers.CircleMarker at 0x7f1e07633748>,\n",
       " <folium.vector_layers.CircleMarker at 0x7f1e07633780>,\n",
       " <folium.vector_layers.CircleMarker at 0x7f1e076337b8>,\n",
       " <folium.vector_layers.CircleMarker at 0x7f1e076337f0>,\n",
       " <folium.vector_layers.CircleMarker at 0x7f1e07633828>,\n",
       " <folium.vector_layers.CircleMarker at 0x7f1e07633860>,\n",
       " <folium.vector_layers.CircleMarker at 0x7f1e07633898>,\n",
       " <folium.vector_layers.CircleMarker at 0x7f1e076338d0>,\n",
       " <folium.vector_layers.CircleMarker at 0x7f1e07633908>,\n",
       " <folium.vector_layers.CircleMarker at 0x7f1e07633940>,\n",
       " <folium.vector_layers.CircleMarker at 0x7f1e07633978>,\n",
       " <folium.vector_layers.CircleMarker at 0x7f1e076339b0>,\n",
       " <folium.vector_layers.CircleMarker at 0x7f1e076339e8>,\n",
       " <folium.vector_layers.CircleMarker at 0x7f1e07633a20>,\n",
       " <folium.vector_layers.CircleMarker at 0x7f1e07633a58>,\n",
       " <folium.vector_layers.CircleMarker at 0x7f1e07633a90>,\n",
       " <folium.vector_layers.CircleMarker at 0x7f1e07633ac8>,\n",
       " <folium.vector_layers.CircleMarker at 0x7f1e07633b00>,\n",
       " <folium.vector_layers.CircleMarker at 0x7f1e07633b38>,\n",
       " <folium.vector_layers.CircleMarker at 0x7f1e07633b70>,\n",
       " <folium.vector_layers.CircleMarker at 0x7f1e07633ba8>,\n",
       " <folium.vector_layers.CircleMarker at 0x7f1e07633be0>,\n",
       " <folium.vector_layers.CircleMarker at 0x7f1e07633c18>,\n",
       " <folium.vector_layers.CircleMarker at 0x7f1e07633c50>,\n",
       " <folium.vector_layers.CircleMarker at 0x7f1e07633c88>,\n",
       " <folium.vector_layers.CircleMarker at 0x7f1e07633cc0>,\n",
       " <folium.vector_layers.CircleMarker at 0x7f1e07633cf8>,\n",
       " <folium.vector_layers.CircleMarker at 0x7f1e07633d30>,\n",
       " <folium.vector_layers.CircleMarker at 0x7f1e07633d68>,\n",
       " <folium.vector_layers.CircleMarker at 0x7f1e07633da0>,\n",
       " <folium.vector_layers.CircleMarker at 0x7f1e07633dd8>,\n",
       " <folium.vector_layers.CircleMarker at 0x7f1e07633e10>,\n",
       " <folium.vector_layers.CircleMarker at 0x7f1e07633e48>,\n",
       " <folium.vector_layers.CircleMarker at 0x7f1e07633e80>,\n",
       " <folium.vector_layers.CircleMarker at 0x7f1e07633eb8>,\n",
       " <folium.vector_layers.CircleMarker at 0x7f1e07633ef0>,\n",
       " <folium.vector_layers.CircleMarker at 0x7f1e07633f28>,\n",
       " <folium.vector_layers.CircleMarker at 0x7f1e07633f60>,\n",
       " <folium.vector_layers.CircleMarker at 0x7f1e07633f98>,\n",
       " <folium.vector_layers.CircleMarker at 0x7f1e07633fd0>,\n",
       " <folium.vector_layers.CircleMarker at 0x7f1e07633048>,\n",
       " <folium.vector_layers.CircleMarker at 0x7f1e07642080>,\n",
       " <folium.vector_layers.CircleMarker at 0x7f1e076420b8>,\n",
       " <folium.vector_layers.CircleMarker at 0x7f1e076420f0>,\n",
       " <folium.vector_layers.CircleMarker at 0x7f1e07642128>,\n",
       " <folium.vector_layers.CircleMarker at 0x7f1e07642160>,\n",
       " <folium.vector_layers.CircleMarker at 0x7f1e07642198>,\n",
       " <folium.vector_layers.CircleMarker at 0x7f1e076421d0>,\n",
       " <folium.vector_layers.CircleMarker at 0x7f1e07642208>,\n",
       " <folium.vector_layers.CircleMarker at 0x7f1e07642240>,\n",
       " <folium.vector_layers.CircleMarker at 0x7f1e07642278>,\n",
       " <folium.vector_layers.CircleMarker at 0x7f1e076422b0>,\n",
       " <folium.vector_layers.CircleMarker at 0x7f1e076422e8>,\n",
       " <folium.vector_layers.CircleMarker at 0x7f1e07642320>,\n",
       " <folium.vector_layers.CircleMarker at 0x7f1e07642358>,\n",
       " <folium.vector_layers.CircleMarker at 0x7f1e07642390>,\n",
       " <folium.vector_layers.CircleMarker at 0x7f1e076423c8>,\n",
       " <folium.vector_layers.CircleMarker at 0x7f1e07642400>,\n",
       " <folium.vector_layers.CircleMarker at 0x7f1e07642438>,\n",
       " <folium.vector_layers.CircleMarker at 0x7f1e07642470>,\n",
       " <folium.vector_layers.CircleMarker at 0x7f1e076424a8>,\n",
       " <folium.vector_layers.CircleMarker at 0x7f1e076424e0>,\n",
       " <folium.vector_layers.CircleMarker at 0x7f1e07642518>,\n",
       " <folium.vector_layers.CircleMarker at 0x7f1e07642550>,\n",
       " <folium.vector_layers.CircleMarker at 0x7f1e07642588>,\n",
       " <folium.vector_layers.CircleMarker at 0x7f1e076425c0>,\n",
       " <folium.vector_layers.CircleMarker at 0x7f1e076425f8>,\n",
       " <folium.vector_layers.CircleMarker at 0x7f1e07642630>,\n",
       " <folium.vector_layers.CircleMarker at 0x7f1e07642668>,\n",
       " <folium.vector_layers.CircleMarker at 0x7f1e076426a0>,\n",
       " <folium.vector_layers.CircleMarker at 0x7f1e076426d8>,\n",
       " <folium.vector_layers.CircleMarker at 0x7f1e07642710>,\n",
       " <folium.vector_layers.CircleMarker at 0x7f1e07642748>,\n",
       " <folium.vector_layers.CircleMarker at 0x7f1e07642780>,\n",
       " <folium.vector_layers.CircleMarker at 0x7f1e076427b8>,\n",
       " <folium.vector_layers.CircleMarker at 0x7f1e076427f0>,\n",
       " <folium.vector_layers.CircleMarker at 0x7f1e07642828>,\n",
       " <folium.vector_layers.CircleMarker at 0x7f1e07642860>,\n",
       " <folium.vector_layers.CircleMarker at 0x7f1e07642898>,\n",
       " <folium.vector_layers.CircleMarker at 0x7f1e076428d0>,\n",
       " <folium.vector_layers.CircleMarker at 0x7f1e07642908>,\n",
       " <folium.vector_layers.CircleMarker at 0x7f1e07642940>,\n",
       " <folium.vector_layers.CircleMarker at 0x7f1e07642978>,\n",
       " <folium.vector_layers.CircleMarker at 0x7f1e076429b0>,\n",
       " <folium.vector_layers.CircleMarker at 0x7f1e076429e8>,\n",
       " <folium.vector_layers.CircleMarker at 0x7f1e07642a20>,\n",
       " <folium.vector_layers.CircleMarker at 0x7f1e07642a58>,\n",
       " <folium.vector_layers.CircleMarker at 0x7f1e07642a90>,\n",
       " <folium.vector_layers.CircleMarker at 0x7f1e07642ac8>,\n",
       " <folium.vector_layers.CircleMarker at 0x7f1e07642b00>,\n",
       " <folium.vector_layers.CircleMarker at 0x7f1e07642b38>,\n",
       " <folium.vector_layers.CircleMarker at 0x7f1e07642b70>,\n",
       " <folium.vector_layers.CircleMarker at 0x7f1e07642ba8>,\n",
       " <folium.vector_layers.CircleMarker at 0x7f1e07642be0>,\n",
       " <folium.vector_layers.CircleMarker at 0x7f1e07642c18>,\n",
       " <folium.vector_layers.CircleMarker at 0x7f1e07642c50>,\n",
       " <folium.vector_layers.CircleMarker at 0x7f1e07642c88>,\n",
       " <folium.vector_layers.CircleMarker at 0x7f1e07642cc0>,\n",
       " <folium.vector_layers.CircleMarker at 0x7f1e07642cf8>,\n",
       " <folium.vector_layers.CircleMarker at 0x7f1e07642d30>,\n",
       " <folium.vector_layers.CircleMarker at 0x7f1e07642d68>,\n",
       " <folium.vector_layers.CircleMarker at 0x7f1e07642da0>,\n",
       " <folium.vector_layers.CircleMarker at 0x7f1e07642dd8>,\n",
       " <folium.vector_layers.CircleMarker at 0x7f1e07642e10>,\n",
       " <folium.vector_layers.CircleMarker at 0x7f1e07642e48>,\n",
       " <folium.vector_layers.CircleMarker at 0x7f1e07642e80>,\n",
       " <folium.vector_layers.CircleMarker at 0x7f1e07642eb8>,\n",
       " <folium.vector_layers.CircleMarker at 0x7f1e07642ef0>,\n",
       " <folium.vector_layers.CircleMarker at 0x7f1e07642f28>,\n",
       " <folium.vector_layers.CircleMarker at 0x7f1e07642f60>,\n",
       " <folium.vector_layers.CircleMarker at 0x7f1e07642f98>,\n",
       " <folium.vector_layers.CircleMarker at 0x7f1e07642fd0>,\n",
       " <folium.vector_layers.CircleMarker at 0x7f1e07642048>,\n",
       " <folium.vector_layers.CircleMarker at 0x7f1e0764f080>,\n",
       " <folium.vector_layers.CircleMarker at 0x7f1e0764f0b8>,\n",
       " <folium.vector_layers.CircleMarker at 0x7f1e0764f0f0>,\n",
       " <folium.vector_layers.CircleMarker at 0x7f1e0764f128>,\n",
       " <folium.vector_layers.CircleMarker at 0x7f1e0764f160>,\n",
       " <folium.vector_layers.CircleMarker at 0x7f1e0764f198>,\n",
       " <folium.vector_layers.CircleMarker at 0x7f1e0764f1d0>,\n",
       " <folium.vector_layers.CircleMarker at 0x7f1e0764f208>,\n",
       " <folium.vector_layers.CircleMarker at 0x7f1e0764f240>,\n",
       " <folium.vector_layers.CircleMarker at 0x7f1e0764f278>,\n",
       " <folium.vector_layers.CircleMarker at 0x7f1e0764f2b0>,\n",
       " <folium.vector_layers.CircleMarker at 0x7f1e0764f2e8>,\n",
       " <folium.vector_layers.CircleMarker at 0x7f1e0764f320>,\n",
       " <folium.vector_layers.CircleMarker at 0x7f1e0764f358>,\n",
       " <folium.vector_layers.CircleMarker at 0x7f1e0764f390>,\n",
       " <folium.vector_layers.CircleMarker at 0x7f1e0764f3c8>,\n",
       " <folium.vector_layers.CircleMarker at 0x7f1e0764f400>,\n",
       " <folium.vector_layers.CircleMarker at 0x7f1e0764f438>,\n",
       " <folium.vector_layers.CircleMarker at 0x7f1e0764f470>,\n",
       " <folium.vector_layers.CircleMarker at 0x7f1e0764f4a8>,\n",
       " <folium.vector_layers.CircleMarker at 0x7f1e0764f4e0>,\n",
       " <folium.vector_layers.CircleMarker at 0x7f1e0764f518>,\n",
       " <folium.vector_layers.CircleMarker at 0x7f1e0764f550>,\n",
       " <folium.vector_layers.CircleMarker at 0x7f1e0764f588>,\n",
       " <folium.vector_layers.CircleMarker at 0x7f1e0764f5c0>,\n",
       " <folium.vector_layers.CircleMarker at 0x7f1e0764f5f8>,\n",
       " <folium.vector_layers.CircleMarker at 0x7f1e0764f630>,\n",
       " <folium.vector_layers.CircleMarker at 0x7f1e0764f668>,\n",
       " <folium.vector_layers.CircleMarker at 0x7f1e0764f6a0>,\n",
       " <folium.vector_layers.CircleMarker at 0x7f1e0764f6d8>,\n",
       " <folium.vector_layers.CircleMarker at 0x7f1e0764f710>,\n",
       " <folium.vector_layers.CircleMarker at 0x7f1e0764f748>,\n",
       " <folium.vector_layers.CircleMarker at 0x7f1e0764f780>,\n",
       " <folium.vector_layers.CircleMarker at 0x7f1e0764f7b8>,\n",
       " <folium.vector_layers.CircleMarker at 0x7f1e0764f7f0>,\n",
       " <folium.vector_layers.CircleMarker at 0x7f1e0764f828>,\n",
       " <folium.vector_layers.CircleMarker at 0x7f1e0764f860>,\n",
       " <folium.vector_layers.CircleMarker at 0x7f1e0764f898>,\n",
       " <folium.vector_layers.CircleMarker at 0x7f1e0764f8d0>,\n",
       " <folium.vector_layers.CircleMarker at 0x7f1e0764f908>,\n",
       " <folium.vector_layers.CircleMarker at 0x7f1e0764f940>,\n",
       " <folium.vector_layers.CircleMarker at 0x7f1e0764f978>,\n",
       " <folium.vector_layers.CircleMarker at 0x7f1e0764f9b0>,\n",
       " <folium.vector_layers.CircleMarker at 0x7f1e0764f9e8>,\n",
       " <folium.vector_layers.CircleMarker at 0x7f1e0764fa20>,\n",
       " <folium.vector_layers.CircleMarker at 0x7f1e0764fa58>,\n",
       " <folium.vector_layers.CircleMarker at 0x7f1e0764fa90>,\n",
       " <folium.vector_layers.CircleMarker at 0x7f1e0764fac8>,\n",
       " <folium.vector_layers.CircleMarker at 0x7f1e0764fb00>,\n",
       " <folium.vector_layers.CircleMarker at 0x7f1e0764fb38>,\n",
       " <folium.vector_layers.CircleMarker at 0x7f1e0764fb70>,\n",
       " <folium.vector_layers.CircleMarker at 0x7f1e0764fba8>,\n",
       " <folium.vector_layers.CircleMarker at 0x7f1e0764fbe0>,\n",
       " <folium.vector_layers.CircleMarker at 0x7f1e0764fc18>,\n",
       " <folium.vector_layers.CircleMarker at 0x7f1e0764fc50>,\n",
       " <folium.vector_layers.CircleMarker at 0x7f1e0764fc88>,\n",
       " <folium.vector_layers.CircleMarker at 0x7f1e0764fcc0>,\n",
       " <folium.vector_layers.CircleMarker at 0x7f1e0764fcf8>,\n",
       " <folium.vector_layers.CircleMarker at 0x7f1e0764fd30>,\n",
       " <folium.vector_layers.CircleMarker at 0x7f1e0764fd68>,\n",
       " <folium.vector_layers.CircleMarker at 0x7f1e0764fda0>,\n",
       " <folium.vector_layers.CircleMarker at 0x7f1e0764fdd8>,\n",
       " <folium.vector_layers.CircleMarker at 0x7f1e0764fe10>,\n",
       " <folium.vector_layers.CircleMarker at 0x7f1e0764fe48>,\n",
       " <folium.vector_layers.CircleMarker at 0x7f1e0764fe80>,\n",
       " <folium.vector_layers.CircleMarker at 0x7f1e0764feb8>,\n",
       " <folium.vector_layers.CircleMarker at 0x7f1e0764fef0>,\n",
       " <folium.vector_layers.CircleMarker at 0x7f1e0764ff28>,\n",
       " <folium.vector_layers.CircleMarker at 0x7f1e0764ff60>,\n",
       " <folium.vector_layers.CircleMarker at 0x7f1e0764ff98>,\n",
       " <folium.vector_layers.CircleMarker at 0x7f1e0764ffd0>,\n",
       " <folium.vector_layers.CircleMarker at 0x7f1e0764f048>,\n",
       " <folium.vector_layers.CircleMarker at 0x7f1e075dd080>,\n",
       " <folium.vector_layers.CircleMarker at 0x7f1e075dd0b8>,\n",
       " <folium.vector_layers.CircleMarker at 0x7f1e075dd0f0>,\n",
       " <folium.vector_layers.CircleMarker at 0x7f1e075dd128>,\n",
       " <folium.vector_layers.CircleMarker at 0x7f1e075dd160>,\n",
       " <folium.vector_layers.CircleMarker at 0x7f1e075dd198>,\n",
       " <folium.vector_layers.CircleMarker at 0x7f1e075dd1d0>,\n",
       " <folium.vector_layers.CircleMarker at 0x7f1e075dd208>,\n",
       " <folium.vector_layers.CircleMarker at 0x7f1e075dd240>,\n",
       " <folium.vector_layers.CircleMarker at 0x7f1e075dd278>,\n",
       " <folium.vector_layers.CircleMarker at 0x7f1e075dd2b0>,\n",
       " <folium.vector_layers.CircleMarker at 0x7f1e075dd2e8>,\n",
       " <folium.vector_layers.CircleMarker at 0x7f1e075dd320>,\n",
       " <folium.vector_layers.CircleMarker at 0x7f1e075dd358>,\n",
       " <folium.vector_layers.CircleMarker at 0x7f1e075dd390>,\n",
       " <folium.vector_layers.CircleMarker at 0x7f1e075dd3c8>,\n",
       " <folium.vector_layers.CircleMarker at 0x7f1e075dd400>,\n",
       " <folium.vector_layers.CircleMarker at 0x7f1e075dd438>,\n",
       " <folium.vector_layers.CircleMarker at 0x7f1e075dd470>,\n",
       " <folium.vector_layers.CircleMarker at 0x7f1e075dd4a8>,\n",
       " <folium.vector_layers.CircleMarker at 0x7f1e075dd4e0>,\n",
       " <folium.vector_layers.CircleMarker at 0x7f1e075dd518>,\n",
       " <folium.vector_layers.CircleMarker at 0x7f1e075dd550>,\n",
       " <folium.vector_layers.CircleMarker at 0x7f1e075dd588>,\n",
       " <folium.vector_layers.CircleMarker at 0x7f1e075dd5c0>,\n",
       " <folium.vector_layers.CircleMarker at 0x7f1e075dd5f8>,\n",
       " <folium.vector_layers.CircleMarker at 0x7f1e075dd630>,\n",
       " <folium.vector_layers.CircleMarker at 0x7f1e075dd668>,\n",
       " <folium.vector_layers.CircleMarker at 0x7f1e075dd6a0>,\n",
       " <folium.vector_layers.CircleMarker at 0x7f1e075dd6d8>,\n",
       " <folium.vector_layers.CircleMarker at 0x7f1e075dd710>,\n",
       " <folium.vector_layers.CircleMarker at 0x7f1e075dd748>,\n",
       " <folium.vector_layers.CircleMarker at 0x7f1e075dd780>,\n",
       " <folium.vector_layers.CircleMarker at 0x7f1e075dd7b8>,\n",
       " <folium.vector_layers.CircleMarker at 0x7f1e075dd7f0>,\n",
       " <folium.vector_layers.CircleMarker at 0x7f1e075dd828>,\n",
       " <folium.vector_layers.CircleMarker at 0x7f1e075dd860>,\n",
       " <folium.vector_layers.CircleMarker at 0x7f1e075dd898>,\n",
       " <folium.vector_layers.CircleMarker at 0x7f1e075dd8d0>,\n",
       " <folium.vector_layers.CircleMarker at 0x7f1e075dd908>,\n",
       " <folium.vector_layers.CircleMarker at 0x7f1e075dd940>,\n",
       " <folium.vector_layers.CircleMarker at 0x7f1e075dd978>,\n",
       " <folium.vector_layers.CircleMarker at 0x7f1e075dd9b0>,\n",
       " <folium.vector_layers.CircleMarker at 0x7f1e075dd9e8>,\n",
       " <folium.vector_layers.CircleMarker at 0x7f1e075dda20>,\n",
       " <folium.vector_layers.CircleMarker at 0x7f1e075dda58>,\n",
       " <folium.vector_layers.CircleMarker at 0x7f1e075dda90>,\n",
       " <folium.vector_layers.CircleMarker at 0x7f1e075ddac8>,\n",
       " <folium.vector_layers.CircleMarker at 0x7f1e075ddb00>,\n",
       " <folium.vector_layers.CircleMarker at 0x7f1e075ddb38>,\n",
       " <folium.vector_layers.CircleMarker at 0x7f1e075ddb70>,\n",
       " <folium.vector_layers.CircleMarker at 0x7f1e075ddba8>,\n",
       " <folium.vector_layers.CircleMarker at 0x7f1e075ddbe0>,\n",
       " <folium.vector_layers.CircleMarker at 0x7f1e075ddc18>,\n",
       " <folium.vector_layers.CircleMarker at 0x7f1e075ddc50>,\n",
       " <folium.vector_layers.CircleMarker at 0x7f1e075ddc88>,\n",
       " <folium.vector_layers.CircleMarker at 0x7f1e075ddcc0>,\n",
       " <folium.vector_layers.CircleMarker at 0x7f1e075ddcf8>,\n",
       " <folium.vector_layers.CircleMarker at 0x7f1e075ddd30>,\n",
       " <folium.vector_layers.CircleMarker at 0x7f1e075ddd68>,\n",
       " <folium.vector_layers.CircleMarker at 0x7f1e075ddda0>,\n",
       " <folium.vector_layers.CircleMarker at 0x7f1e075dddd8>,\n",
       " <folium.vector_layers.CircleMarker at 0x7f1e075dde10>,\n",
       " <folium.vector_layers.CircleMarker at 0x7f1e075dde48>,\n",
       " <folium.vector_layers.CircleMarker at 0x7f1e075dde80>,\n",
       " <folium.vector_layers.CircleMarker at 0x7f1e075ddeb8>,\n",
       " <folium.vector_layers.CircleMarker at 0x7f1e075ddef0>,\n",
       " <folium.vector_layers.CircleMarker at 0x7f1e075ddf28>,\n",
       " <folium.vector_layers.CircleMarker at 0x7f1e075ddf60>,\n",
       " <folium.vector_layers.CircleMarker at 0x7f1e075ddf98>,\n",
       " <folium.vector_layers.CircleMarker at 0x7f1e075ddfd0>,\n",
       " <folium.vector_layers.CircleMarker at 0x7f1e075dd048>,\n",
       " <folium.vector_layers.CircleMarker at 0x7f1e075e9080>,\n",
       " <folium.vector_layers.CircleMarker at 0x7f1e075e90b8>,\n",
       " <folium.vector_layers.CircleMarker at 0x7f1e075e90f0>,\n",
       " <folium.vector_layers.CircleMarker at 0x7f1e075e9128>,\n",
       " <folium.vector_layers.CircleMarker at 0x7f1e075e9160>,\n",
       " <folium.vector_layers.CircleMarker at 0x7f1e075e9198>,\n",
       " <folium.vector_layers.CircleMarker at 0x7f1e075e91d0>,\n",
       " <folium.vector_layers.CircleMarker at 0x7f1e075e9208>,\n",
       " <folium.vector_layers.CircleMarker at 0x7f1e075e9240>,\n",
       " <folium.vector_layers.CircleMarker at 0x7f1e075e9278>,\n",
       " <folium.vector_layers.CircleMarker at 0x7f1e075e92b0>,\n",
       " <folium.vector_layers.CircleMarker at 0x7f1e075e92e8>,\n",
       " <folium.vector_layers.CircleMarker at 0x7f1e075e9320>,\n",
       " <folium.vector_layers.CircleMarker at 0x7f1e075e9358>,\n",
       " <folium.vector_layers.CircleMarker at 0x7f1e075e9390>,\n",
       " <folium.vector_layers.CircleMarker at 0x7f1e075e93c8>,\n",
       " <folium.vector_layers.CircleMarker at 0x7f1e075e9400>,\n",
       " <folium.vector_layers.CircleMarker at 0x7f1e075e9438>,\n",
       " <folium.vector_layers.CircleMarker at 0x7f1e075e9470>,\n",
       " <folium.vector_layers.CircleMarker at 0x7f1e075e94a8>,\n",
       " <folium.vector_layers.CircleMarker at 0x7f1e075e94e0>,\n",
       " <folium.vector_layers.CircleMarker at 0x7f1e075e9518>,\n",
       " <folium.vector_layers.CircleMarker at 0x7f1e075e9550>,\n",
       " <folium.vector_layers.CircleMarker at 0x7f1e075e9588>,\n",
       " <folium.vector_layers.CircleMarker at 0x7f1e075e95c0>,\n",
       " <folium.vector_layers.CircleMarker at 0x7f1e075e95f8>,\n",
       " <folium.vector_layers.CircleMarker at 0x7f1e075e9630>,\n",
       " <folium.vector_layers.CircleMarker at 0x7f1e075e9668>,\n",
       " <folium.vector_layers.CircleMarker at 0x7f1e075e96a0>,\n",
       " <folium.vector_layers.CircleMarker at 0x7f1e075e96d8>,\n",
       " <folium.vector_layers.CircleMarker at 0x7f1e075e9710>,\n",
       " <folium.vector_layers.CircleMarker at 0x7f1e075e9748>,\n",
       " <folium.vector_layers.CircleMarker at 0x7f1e075e9780>,\n",
       " <folium.vector_layers.CircleMarker at 0x7f1e075e97b8>,\n",
       " <folium.vector_layers.CircleMarker at 0x7f1e075e97f0>,\n",
       " <folium.vector_layers.CircleMarker at 0x7f1e075e9828>,\n",
       " <folium.vector_layers.CircleMarker at 0x7f1e075e9860>,\n",
       " <folium.vector_layers.CircleMarker at 0x7f1e075e9898>,\n",
       " <folium.vector_layers.CircleMarker at 0x7f1e075e98d0>,\n",
       " <folium.vector_layers.CircleMarker at 0x7f1e075e9908>,\n",
       " <folium.vector_layers.CircleMarker at 0x7f1e075e9940>,\n",
       " <folium.vector_layers.CircleMarker at 0x7f1e075e9978>,\n",
       " <folium.vector_layers.CircleMarker at 0x7f1e075e99b0>,\n",
       " <folium.vector_layers.CircleMarker at 0x7f1e075e99e8>,\n",
       " <folium.vector_layers.CircleMarker at 0x7f1e075e9a20>,\n",
       " <folium.vector_layers.CircleMarker at 0x7f1e075e9a58>,\n",
       " <folium.vector_layers.CircleMarker at 0x7f1e075e9a90>,\n",
       " <folium.vector_layers.CircleMarker at 0x7f1e075e9ac8>,\n",
       " <folium.vector_layers.CircleMarker at 0x7f1e075e9b00>,\n",
       " <folium.vector_layers.CircleMarker at 0x7f1e075e9b38>,\n",
       " <folium.vector_layers.CircleMarker at 0x7f1e075e9b70>,\n",
       " <folium.vector_layers.CircleMarker at 0x7f1e075e9ba8>,\n",
       " <folium.vector_layers.CircleMarker at 0x7f1e075e9be0>,\n",
       " <folium.vector_layers.CircleMarker at 0x7f1e075e9c18>,\n",
       " <folium.vector_layers.CircleMarker at 0x7f1e075e9c50>,\n",
       " <folium.vector_layers.CircleMarker at 0x7f1e075e9c88>,\n",
       " <folium.vector_layers.CircleMarker at 0x7f1e075e9cc0>,\n",
       " <folium.vector_layers.CircleMarker at 0x7f1e075e9cf8>,\n",
       " <folium.vector_layers.CircleMarker at 0x7f1e075e9d30>,\n",
       " <folium.vector_layers.CircleMarker at 0x7f1e075e9d68>,\n",
       " <folium.vector_layers.CircleMarker at 0x7f1e075e9da0>,\n",
       " <folium.vector_layers.CircleMarker at 0x7f1e075e9dd8>,\n",
       " <folium.vector_layers.CircleMarker at 0x7f1e075e9e10>,\n",
       " <folium.vector_layers.CircleMarker at 0x7f1e075e9e48>,\n",
       " <folium.vector_layers.CircleMarker at 0x7f1e075e9e80>,\n",
       " <folium.vector_layers.CircleMarker at 0x7f1e075e9eb8>,\n",
       " <folium.vector_layers.CircleMarker at 0x7f1e075e9ef0>,\n",
       " <folium.vector_layers.CircleMarker at 0x7f1e075e9f28>,\n",
       " <folium.vector_layers.CircleMarker at 0x7f1e075e9f60>,\n",
       " <folium.vector_layers.CircleMarker at 0x7f1e075e9f98>,\n",
       " <folium.vector_layers.CircleMarker at 0x7f1e075e9fd0>,\n",
       " <folium.vector_layers.CircleMarker at 0x7f1e075e9048>,\n",
       " <folium.vector_layers.CircleMarker at 0x7f1e075f8080>,\n",
       " <folium.vector_layers.CircleMarker at 0x7f1e075f80b8>,\n",
       " <folium.vector_layers.CircleMarker at 0x7f1e075f80f0>,\n",
       " <folium.vector_layers.CircleMarker at 0x7f1e075f8128>,\n",
       " <folium.vector_layers.CircleMarker at 0x7f1e075f8160>,\n",
       " <folium.vector_layers.CircleMarker at 0x7f1e075f8198>,\n",
       " <folium.vector_layers.CircleMarker at 0x7f1e075f81d0>,\n",
       " <folium.vector_layers.CircleMarker at 0x7f1e075f8208>,\n",
       " <folium.vector_layers.CircleMarker at 0x7f1e075f8240>,\n",
       " <folium.vector_layers.CircleMarker at 0x7f1e075f8278>,\n",
       " <folium.vector_layers.CircleMarker at 0x7f1e075f82b0>,\n",
       " <folium.vector_layers.CircleMarker at 0x7f1e075f82e8>,\n",
       " <folium.vector_layers.CircleMarker at 0x7f1e075f8320>,\n",
       " <folium.vector_layers.CircleMarker at 0x7f1e075f8358>,\n",
       " <folium.vector_layers.CircleMarker at 0x7f1e075f8390>,\n",
       " <folium.vector_layers.CircleMarker at 0x7f1e075f83c8>,\n",
       " <folium.vector_layers.CircleMarker at 0x7f1e075f8400>,\n",
       " <folium.vector_layers.CircleMarker at 0x7f1e075f8438>,\n",
       " <folium.vector_layers.CircleMarker at 0x7f1e075f8470>,\n",
       " <folium.vector_layers.CircleMarker at 0x7f1e075f84a8>,\n",
       " <folium.vector_layers.CircleMarker at 0x7f1e075f84e0>,\n",
       " <folium.vector_layers.CircleMarker at 0x7f1e075f8518>,\n",
       " <folium.vector_layers.CircleMarker at 0x7f1e075f8550>,\n",
       " <folium.vector_layers.CircleMarker at 0x7f1e075f8588>,\n",
       " <folium.vector_layers.CircleMarker at 0x7f1e075f85c0>,\n",
       " <folium.vector_layers.CircleMarker at 0x7f1e075f85f8>,\n",
       " <folium.vector_layers.CircleMarker at 0x7f1e075f8630>,\n",
       " <folium.vector_layers.CircleMarker at 0x7f1e075f8668>,\n",
       " <folium.vector_layers.CircleMarker at 0x7f1e075f86a0>,\n",
       " <folium.vector_layers.CircleMarker at 0x7f1e075f86d8>,\n",
       " <folium.vector_layers.CircleMarker at 0x7f1e075f8710>,\n",
       " <folium.vector_layers.CircleMarker at 0x7f1e075f8748>,\n",
       " <folium.vector_layers.CircleMarker at 0x7f1e075f8780>,\n",
       " <folium.vector_layers.CircleMarker at 0x7f1e075f87b8>,\n",
       " <folium.vector_layers.CircleMarker at 0x7f1e075f87f0>,\n",
       " <folium.vector_layers.CircleMarker at 0x7f1e075f8828>,\n",
       " <folium.vector_layers.CircleMarker at 0x7f1e075f8860>,\n",
       " <folium.vector_layers.CircleMarker at 0x7f1e075f8898>,\n",
       " <folium.vector_layers.CircleMarker at 0x7f1e075f88d0>,\n",
       " <folium.vector_layers.CircleMarker at 0x7f1e075f8908>,\n",
       " <folium.vector_layers.CircleMarker at 0x7f1e075f8940>,\n",
       " <folium.vector_layers.CircleMarker at 0x7f1e075f8978>,\n",
       " <folium.vector_layers.CircleMarker at 0x7f1e075f89b0>,\n",
       " <folium.vector_layers.CircleMarker at 0x7f1e075f89e8>,\n",
       " <folium.vector_layers.CircleMarker at 0x7f1e075f8a20>,\n",
       " <folium.vector_layers.CircleMarker at 0x7f1e075f8a58>,\n",
       " <folium.vector_layers.CircleMarker at 0x7f1e075f8a90>,\n",
       " <folium.vector_layers.CircleMarker at 0x7f1e075f8ac8>,\n",
       " <folium.vector_layers.CircleMarker at 0x7f1e075f8b00>,\n",
       " <folium.vector_layers.CircleMarker at 0x7f1e075f8b38>,\n",
       " <folium.vector_layers.CircleMarker at 0x7f1e075f8b70>,\n",
       " <folium.vector_layers.CircleMarker at 0x7f1e075f8ba8>,\n",
       " <folium.vector_layers.CircleMarker at 0x7f1e075f8be0>,\n",
       " <folium.vector_layers.CircleMarker at 0x7f1e075f8c18>,\n",
       " <folium.vector_layers.CircleMarker at 0x7f1e075f8c50>,\n",
       " <folium.vector_layers.CircleMarker at 0x7f1e075f8c88>,\n",
       " <folium.vector_layers.CircleMarker at 0x7f1e075f8cc0>,\n",
       " <folium.vector_layers.CircleMarker at 0x7f1e075f8cf8>,\n",
       " <folium.vector_layers.CircleMarker at 0x7f1e075f8d30>,\n",
       " <folium.vector_layers.CircleMarker at 0x7f1e075f8d68>,\n",
       " <folium.vector_layers.CircleMarker at 0x7f1e075f8da0>,\n",
       " <folium.vector_layers.CircleMarker at 0x7f1e075f8dd8>,\n",
       " <folium.vector_layers.CircleMarker at 0x7f1e075f8e10>,\n",
       " <folium.vector_layers.CircleMarker at 0x7f1e075f8e48>,\n",
       " <folium.vector_layers.CircleMarker at 0x7f1e075f8e80>,\n",
       " <folium.vector_layers.CircleMarker at 0x7f1e075f8eb8>,\n",
       " <folium.vector_layers.CircleMarker at 0x7f1e075f8ef0>,\n",
       " <folium.vector_layers.CircleMarker at 0x7f1e075f8f28>,\n",
       " <folium.vector_layers.CircleMarker at 0x7f1e075f8f60>,\n",
       " <folium.vector_layers.CircleMarker at 0x7f1e075f8f98>,\n",
       " <folium.vector_layers.CircleMarker at 0x7f1e075f8fd0>,\n",
       " <folium.vector_layers.CircleMarker at 0x7f1e075f8048>,\n",
       " <folium.vector_layers.CircleMarker at 0x7f1e07606080>,\n",
       " <folium.vector_layers.CircleMarker at 0x7f1e076060b8>,\n",
       " <folium.vector_layers.CircleMarker at 0x7f1e076060f0>,\n",
       " <folium.vector_layers.CircleMarker at 0x7f1e07606128>,\n",
       " <folium.vector_layers.CircleMarker at 0x7f1e07606160>,\n",
       " <folium.vector_layers.CircleMarker at 0x7f1e07606198>,\n",
       " <folium.vector_layers.CircleMarker at 0x7f1e076061d0>,\n",
       " <folium.vector_layers.CircleMarker at 0x7f1e07606208>,\n",
       " <folium.vector_layers.CircleMarker at 0x7f1e07606240>,\n",
       " <folium.vector_layers.CircleMarker at 0x7f1e07606278>,\n",
       " <folium.vector_layers.CircleMarker at 0x7f1e076062b0>,\n",
       " <folium.vector_layers.CircleMarker at 0x7f1e076062e8>,\n",
       " <folium.vector_layers.CircleMarker at 0x7f1e07606320>,\n",
       " <folium.vector_layers.CircleMarker at 0x7f1e07606358>,\n",
       " <folium.vector_layers.CircleMarker at 0x7f1e07606390>,\n",
       " <folium.vector_layers.CircleMarker at 0x7f1e076063c8>,\n",
       " <folium.vector_layers.CircleMarker at 0x7f1e07606400>,\n",
       " <folium.vector_layers.CircleMarker at 0x7f1e07606438>,\n",
       " <folium.vector_layers.CircleMarker at 0x7f1e07606470>,\n",
       " <folium.vector_layers.CircleMarker at 0x7f1e076064a8>,\n",
       " <folium.vector_layers.CircleMarker at 0x7f1e076064e0>,\n",
       " <folium.vector_layers.CircleMarker at 0x7f1e07606518>,\n",
       " <folium.vector_layers.CircleMarker at 0x7f1e07606550>,\n",
       " <folium.vector_layers.CircleMarker at 0x7f1e07606588>,\n",
       " <folium.vector_layers.CircleMarker at 0x7f1e076065c0>,\n",
       " <folium.vector_layers.CircleMarker at 0x7f1e076065f8>,\n",
       " <folium.vector_layers.CircleMarker at 0x7f1e07606630>,\n",
       " <folium.vector_layers.CircleMarker at 0x7f1e07606668>,\n",
       " <folium.vector_layers.CircleMarker at 0x7f1e076066a0>,\n",
       " <folium.vector_layers.CircleMarker at 0x7f1e076066d8>,\n",
       " <folium.vector_layers.CircleMarker at 0x7f1e07606710>,\n",
       " <folium.vector_layers.CircleMarker at 0x7f1e07606748>,\n",
       " <folium.vector_layers.CircleMarker at 0x7f1e07606780>,\n",
       " <folium.vector_layers.CircleMarker at 0x7f1e076067b8>,\n",
       " <folium.vector_layers.CircleMarker at 0x7f1e076067f0>,\n",
       " <folium.vector_layers.CircleMarker at 0x7f1e07606828>,\n",
       " <folium.vector_layers.CircleMarker at 0x7f1e07606860>,\n",
       " <folium.vector_layers.CircleMarker at 0x7f1e07606898>,\n",
       " <folium.vector_layers.CircleMarker at 0x7f1e076068d0>,\n",
       " <folium.vector_layers.CircleMarker at 0x7f1e07606908>,\n",
       " <folium.vector_layers.CircleMarker at 0x7f1e07606940>,\n",
       " <folium.vector_layers.CircleMarker at 0x7f1e07606978>,\n",
       " <folium.vector_layers.CircleMarker at 0x7f1e076069b0>,\n",
       " <folium.vector_layers.CircleMarker at 0x7f1e076069e8>,\n",
       " <folium.vector_layers.CircleMarker at 0x7f1e07606a20>,\n",
       " <folium.vector_layers.CircleMarker at 0x7f1e07606a58>,\n",
       " <folium.vector_layers.CircleMarker at 0x7f1e07606a90>,\n",
       " <folium.vector_layers.CircleMarker at 0x7f1e07606ac8>,\n",
       " <folium.vector_layers.CircleMarker at 0x7f1e07606b00>,\n",
       " <folium.vector_layers.CircleMarker at 0x7f1e07606b38>,\n",
       " <folium.vector_layers.CircleMarker at 0x7f1e07606b70>,\n",
       " <folium.vector_layers.CircleMarker at 0x7f1e07606ba8>,\n",
       " <folium.vector_layers.CircleMarker at 0x7f1e07606be0>,\n",
       " <folium.vector_layers.CircleMarker at 0x7f1e07606c18>,\n",
       " <folium.vector_layers.CircleMarker at 0x7f1e07606c50>,\n",
       " <folium.vector_layers.CircleMarker at 0x7f1e07606c88>,\n",
       " <folium.vector_layers.CircleMarker at 0x7f1e07606cc0>,\n",
       " <folium.vector_layers.CircleMarker at 0x7f1e07606cf8>,\n",
       " <folium.vector_layers.CircleMarker at 0x7f1e07606d30>,\n",
       " <folium.vector_layers.CircleMarker at 0x7f1e07606d68>,\n",
       " <folium.vector_layers.CircleMarker at 0x7f1e07606da0>,\n",
       " <folium.vector_layers.CircleMarker at 0x7f1e07606dd8>,\n",
       " <folium.vector_layers.CircleMarker at 0x7f1e07606e10>,\n",
       " <folium.vector_layers.CircleMarker at 0x7f1e07606e48>,\n",
       " <folium.vector_layers.CircleMarker at 0x7f1e07606e80>,\n",
       " <folium.vector_layers.CircleMarker at 0x7f1e07606eb8>,\n",
       " <folium.vector_layers.CircleMarker at 0x7f1e07606ef0>,\n",
       " <folium.vector_layers.CircleMarker at 0x7f1e07606f28>,\n",
       " <folium.vector_layers.CircleMarker at 0x7f1e07606f60>,\n",
       " <folium.vector_layers.CircleMarker at 0x7f1e07606f98>,\n",
       " <folium.vector_layers.CircleMarker at 0x7f1e07606fd0>,\n",
       " <folium.vector_layers.CircleMarker at 0x7f1e07606048>,\n",
       " <folium.vector_layers.CircleMarker at 0x7f1e07614080>,\n",
       " <folium.vector_layers.CircleMarker at 0x7f1e076140b8>,\n",
       " <folium.vector_layers.CircleMarker at 0x7f1e076140f0>,\n",
       " <folium.vector_layers.CircleMarker at 0x7f1e07614128>,\n",
       " <folium.vector_layers.CircleMarker at 0x7f1e07614160>,\n",
       " <folium.vector_layers.CircleMarker at 0x7f1e07614198>,\n",
       " <folium.vector_layers.CircleMarker at 0x7f1e076141d0>,\n",
       " <folium.vector_layers.CircleMarker at 0x7f1e07614208>,\n",
       " <folium.vector_layers.CircleMarker at 0x7f1e07614240>,\n",
       " <folium.vector_layers.CircleMarker at 0x7f1e07614278>,\n",
       " <folium.vector_layers.CircleMarker at 0x7f1e076142b0>,\n",
       " <folium.vector_layers.CircleMarker at 0x7f1e076142e8>,\n",
       " <folium.vector_layers.CircleMarker at 0x7f1e07614320>,\n",
       " <folium.vector_layers.CircleMarker at 0x7f1e07614358>,\n",
       " <folium.vector_layers.CircleMarker at 0x7f1e07614390>,\n",
       " <folium.vector_layers.CircleMarker at 0x7f1e076143c8>,\n",
       " <folium.vector_layers.CircleMarker at 0x7f1e07614400>,\n",
       " <folium.vector_layers.CircleMarker at 0x7f1e07614438>,\n",
       " <folium.vector_layers.CircleMarker at 0x7f1e07614470>,\n",
       " <folium.vector_layers.CircleMarker at 0x7f1e076144a8>,\n",
       " <folium.vector_layers.CircleMarker at 0x7f1e076144e0>,\n",
       " <folium.vector_layers.CircleMarker at 0x7f1e07614518>]"
      ]
     },
     "execution_count": 19,
     "metadata": {},
     "output_type": "execute_result"
    }
   ],
   "source": [
    "markers_from_trips(cleaned_trips)\n"
   ]
  },
  {
   "cell_type": "code",
   "execution_count": 20,
   "metadata": {},
   "outputs": [],
   "source": [
    "trip_markers = markers_from_trips(cleaned_trips)"
   ]
  },
  {
   "cell_type": "code",
   "execution_count": 21,
   "metadata": {},
   "outputs": [
    {
     "data": {
      "text/plain": [
       "[[40.64499, -73.78115],\n",
       " [40.766931, -73.982098],\n",
       " [40.77773, -73.951902],\n",
       " [40.795678, -73.971049]]"
      ]
     },
     "execution_count": 21,
     "metadata": {},
     "output_type": "execute_result"
    }
   ],
   "source": [
    "list(map(lambda marker: marker.location, trip_markers[0:4]))\n",
    "# [[40.64499, -73.78115],\n",
    "#  [40.766931, -73.982098],\n",
    "#  [40.77773, -73.951902],\n",
    "#  [40.795678, -73.971049]]"
   ]
  },
  {
   "cell_type": "markdown",
   "metadata": {},
   "source": [
    "## Ok, now that we have a function that creates locations, and a function that creates markers, it is time to write a function to plot a map. \n",
    "\n",
    "Write a function called `map_from` that, provided the first argument of a list location and second argument an integer representing the `zoom_start`, returns a `folium` map the corresponding location and `zoom_start` attributes.\n",
    "\n",
    "> Hint: The following is how to write a map with folium:\n",
    "> ```python \n",
    "    folium.Map(location=location, zoom_start=zoom_amount)\n",
    "> ```"
   ]
  },
  {
   "cell_type": "code",
   "execution_count": 22,
   "metadata": {},
   "outputs": [],
   "source": [
    "def map_from(location, zoom_amount):\n",
    "    folium.Map(location=location, zoom_start=zoom_amount)"
   ]
  },
  {
   "cell_type": "code",
   "execution_count": 23,
   "metadata": {},
   "outputs": [],
   "source": [
    "times_square_map = map_from([40.7589, -73.9851], 15)\n",
    "times_square_map and times_square_map.location # [40.7589, -73.9851]\n",
    "times_square_map and times_square_map.zoom_start # 15"
   ]
  },
  {
   "cell_type": "code",
   "execution_count": 24,
   "metadata": {
    "scrolled": true
   },
   "outputs": [
    {
     "ename": "AttributeError",
     "evalue": "'NoneType' object has no attribute 'add_child'",
     "output_type": "error",
     "traceback": [
      "\u001b[0;31m\u001b[0m",
      "\u001b[0;31mAttributeError\u001b[0mTraceback (most recent call last)",
      "\u001b[0;32m<ipython-input-24-cde2543a89ab>\u001b[0m in \u001b[0;36m<module>\u001b[0;34m\u001b[0m\n\u001b[0;32m----> 1\u001b[0;31m \u001b[0mtimes_square_marker\u001b[0m \u001b[0;32mand\u001b[0m \u001b[0mtimes_square_marker\u001b[0m\u001b[0;34m.\u001b[0m\u001b[0madd_to\u001b[0m\u001b[0;34m(\u001b[0m\u001b[0mtimes_square_map\u001b[0m\u001b[0;34m)\u001b[0m\u001b[0;34m\u001b[0m\u001b[0;34m\u001b[0m\u001b[0m\n\u001b[0m\u001b[1;32m      2\u001b[0m \u001b[0mtimes_square_map\u001b[0m\u001b[0;34m\u001b[0m\u001b[0;34m\u001b[0m\u001b[0m\n",
      "\u001b[0;32m/opt/conda/envs/learn-env/lib/python3.6/site-packages/branca/element.py\u001b[0m in \u001b[0;36madd_to\u001b[0;34m(self, parent, name, index)\u001b[0m\n\u001b[1;32m    119\u001b[0m     \u001b[0;32mdef\u001b[0m \u001b[0madd_to\u001b[0m\u001b[0;34m(\u001b[0m\u001b[0mself\u001b[0m\u001b[0;34m,\u001b[0m \u001b[0mparent\u001b[0m\u001b[0;34m,\u001b[0m \u001b[0mname\u001b[0m\u001b[0;34m=\u001b[0m\u001b[0;32mNone\u001b[0m\u001b[0;34m,\u001b[0m \u001b[0mindex\u001b[0m\u001b[0;34m=\u001b[0m\u001b[0;32mNone\u001b[0m\u001b[0;34m)\u001b[0m\u001b[0;34m:\u001b[0m\u001b[0;34m\u001b[0m\u001b[0;34m\u001b[0m\u001b[0m\n\u001b[1;32m    120\u001b[0m         \u001b[0;34m\"\"\"Add element to a parent.\"\"\"\u001b[0m\u001b[0;34m\u001b[0m\u001b[0;34m\u001b[0m\u001b[0m\n\u001b[0;32m--> 121\u001b[0;31m         \u001b[0mparent\u001b[0m\u001b[0;34m.\u001b[0m\u001b[0madd_child\u001b[0m\u001b[0;34m(\u001b[0m\u001b[0mself\u001b[0m\u001b[0;34m,\u001b[0m \u001b[0mname\u001b[0m\u001b[0;34m=\u001b[0m\u001b[0mname\u001b[0m\u001b[0;34m,\u001b[0m \u001b[0mindex\u001b[0m\u001b[0;34m=\u001b[0m\u001b[0mindex\u001b[0m\u001b[0;34m)\u001b[0m\u001b[0;34m\u001b[0m\u001b[0;34m\u001b[0m\u001b[0m\n\u001b[0m\u001b[1;32m    122\u001b[0m         \u001b[0;32mreturn\u001b[0m \u001b[0mself\u001b[0m\u001b[0;34m\u001b[0m\u001b[0;34m\u001b[0m\u001b[0m\n\u001b[1;32m    123\u001b[0m \u001b[0;34m\u001b[0m\u001b[0m\n",
      "\u001b[0;31mAttributeError\u001b[0m: 'NoneType' object has no attribute 'add_child'"
     ]
    }
   ],
   "source": [
    "times_square_marker and times_square_marker.add_to(times_square_map)\n",
    "times_square_map"
   ]
  },
  {
   "cell_type": "markdown",
   "metadata": {},
   "source": [
    "Now that we have a marker and a map, now let's write a function that adds a lot of markers to a map.  This function should add each marker in the list to the map object then return the updated map object."
   ]
  },
  {
   "cell_type": "code",
   "execution_count": 25,
   "metadata": {},
   "outputs": [],
   "source": [
    "manhattan_map = map_from([40.7589, -73.9851], 13)"
   ]
  },
  {
   "cell_type": "code",
   "execution_count": 26,
   "metadata": {},
   "outputs": [],
   "source": [
    "def add_markers(markers, map_obj):\n",
    "    markers.add_to(map_obj)"
   ]
  },
  {
   "cell_type": "code",
   "execution_count": 27,
   "metadata": {
    "scrolled": false
   },
   "outputs": [
    {
     "ename": "AttributeError",
     "evalue": "'list' object has no attribute 'add_to'",
     "output_type": "error",
     "traceback": [
      "\u001b[0;31m\u001b[0m",
      "\u001b[0;31mAttributeError\u001b[0mTraceback (most recent call last)",
      "\u001b[0;32m<ipython-input-27-cc1a912a8e96>\u001b[0m in \u001b[0;36m<module>\u001b[0;34m\u001b[0m\n\u001b[0;32m----> 1\u001b[0;31m \u001b[0mmap_with_markers\u001b[0m \u001b[0;34m=\u001b[0m \u001b[0madd_markers\u001b[0m\u001b[0;34m(\u001b[0m\u001b[0mtrip_markers\u001b[0m\u001b[0;34m,\u001b[0m \u001b[0mmanhattan_map\u001b[0m\u001b[0;34m)\u001b[0m\u001b[0;34m\u001b[0m\u001b[0;34m\u001b[0m\u001b[0m\n\u001b[0m",
      "\u001b[0;32m<ipython-input-26-a3c08caacc68>\u001b[0m in \u001b[0;36madd_markers\u001b[0;34m(markers, map_obj)\u001b[0m\n\u001b[1;32m      1\u001b[0m \u001b[0;32mdef\u001b[0m \u001b[0madd_markers\u001b[0m\u001b[0;34m(\u001b[0m\u001b[0mmarkers\u001b[0m\u001b[0;34m,\u001b[0m \u001b[0mmap_obj\u001b[0m\u001b[0;34m)\u001b[0m\u001b[0;34m:\u001b[0m\u001b[0;34m\u001b[0m\u001b[0;34m\u001b[0m\u001b[0m\n\u001b[0;32m----> 2\u001b[0;31m     \u001b[0mmarkers\u001b[0m\u001b[0;34m.\u001b[0m\u001b[0madd_to\u001b[0m\u001b[0;34m(\u001b[0m\u001b[0mmap_obj\u001b[0m\u001b[0;34m)\u001b[0m\u001b[0;34m\u001b[0m\u001b[0;34m\u001b[0m\u001b[0m\n\u001b[0m",
      "\u001b[0;31mAttributeError\u001b[0m: 'list' object has no attribute 'add_to'"
     ]
    }
   ],
   "source": [
    "map_with_markers = add_markers(trip_markers, manhattan_map)"
   ]
  },
  {
   "cell_type": "code",
   "execution_count": 28,
   "metadata": {},
   "outputs": [
    {
     "ename": "NameError",
     "evalue": "name 'map_with_markers' is not defined",
     "output_type": "error",
     "traceback": [
      "\u001b[0;31m\u001b[0m",
      "\u001b[0;31mNameError\u001b[0mTraceback (most recent call last)",
      "\u001b[0;32m<ipython-input-28-2bf2b58dfa58>\u001b[0m in \u001b[0;36m<module>\u001b[0;34m\u001b[0m\n\u001b[0;32m----> 1\u001b[0;31m \u001b[0mmap_with_markers\u001b[0m\u001b[0;34m\u001b[0m\u001b[0;34m\u001b[0m\u001b[0m\n\u001b[0m",
      "\u001b[0;31mNameError\u001b[0m: name 'map_with_markers' is not defined"
     ]
    }
   ],
   "source": [
    "map_with_markers"
   ]
  },
  {
   "cell_type": "markdown",
   "metadata": {},
   "source": [
    "### Using Nearest Neighbors"
   ]
  },
  {
   "cell_type": "markdown",
   "metadata": {},
   "source": [
    "Ok, let's write a function that given a latitude and longitude will predict the distance for us.  We'll do this by first finding the nearest trips given a latitude and longitude. "
   ]
  },
  {
   "cell_type": "markdown",
   "metadata": {},
   "source": [
    "Here we once again apply the nearest neighbors formula. As a first step, write a function named `distance_location` that calculates the distance in pickup location between two trips."
   ]
  },
  {
   "cell_type": "code",
   "execution_count": 29,
   "metadata": {},
   "outputs": [],
   "source": [
    "import math\n",
    "\n",
    "def distance_location(selected_trip, neighbor_trip):\n",
    "    lat_sq = (selected_trip['pickup_latitude'] - neighbor_trip['pickup_latitude']) ** 2\n",
    "    long_sq = (selected_trip['pickup_longitude'] - neighbor_trip['pickup_longitude']) ** 2\n",
    "    return (lat_sq + long_sq) ** 0.5"
   ]
  },
  {
   "cell_type": "code",
   "execution_count": 30,
   "metadata": {},
   "outputs": [
    {
     "data": {
      "text/plain": [
       "0.235"
      ]
     },
     "execution_count": 30,
     "metadata": {},
     "output_type": "execute_result"
    }
   ],
   "source": [
    "first_trip = {'pickup_latitude': 40.64499, 'pickup_longitude': -73.78115, 'trip_distance': 18.38}\n",
    "second_trip = {'pickup_latitude': 40.766931, 'pickup_longitude': -73.982098, 'trip_distance': 1.3}\n",
    "distance_first_and_second = distance_location(first_trip, second_trip)\n",
    "\n",
    "distance_first_and_second and round(distance_first_and_second, 3) # 0.235"
   ]
  },
  {
   "cell_type": "markdown",
   "metadata": {},
   "source": [
    "Ok, next write a function called `distance_between_neighbors` that adds a new key-value pair, called `distance_from_selected`, that calculates the distance of the `neighbor_trip` from the `selected_trip`."
   ]
  },
  {
   "cell_type": "code",
   "execution_count": 31,
   "metadata": {},
   "outputs": [],
   "source": [
    "def distance_between_neighbors(selected_trip, neighbor_trip):\n",
    "    neighbor_trip['distance_from_selected'] = distance_location(selected_trip, neighbor_trip)\n",
    "    return neighbor_trip"
   ]
  },
  {
   "cell_type": "code",
   "execution_count": 32,
   "metadata": {},
   "outputs": [
    {
     "data": {
      "text/plain": [
       "{'pickup_latitude': 40.766931,\n",
       " 'pickup_longitude': -73.982098,\n",
       " 'trip_distance': 1.3,\n",
       " 'distance_from_selected': 0.23505256047318146}"
      ]
     },
     "execution_count": 32,
     "metadata": {},
     "output_type": "execute_result"
    }
   ],
   "source": [
    "distance_between_neighbors(first_trip, second_trip)\n",
    "\n",
    "\n",
    "# {'distance_from_selected': 0.23505256047318146,\n",
    "#  'pickup_latitude': 40.766931,\n",
    "#  'pickup_longitude': -73.982098,\n",
    "#  'trip_distance': 1.3}"
   ]
  },
  {
   "cell_type": "markdown",
   "metadata": {},
   "source": [
    "Ok, now our `neighbor_trip` has another attribute called `distance_from_selected`, that indicates the distance from the `neighbor_trip`'s pickup location from the `selected_trip`."
   ]
  },
  {
   "cell_type": "markdown",
   "metadata": {},
   "source": [
    "> ** Understand the data:** Our dictionary now has a few attributes, two of which say distance.  Let's make sure we understand the difference. \n",
    "> * **`distance_from_selected`:** This is our calculation of the distance of the neighbor's pickup location from the selected trip.\n",
    "> * **`trip_distance`:** This is the attribute we were provided initially.  It tells us the length of the neighbor's taxi trip from pickup to drop-off.  "
   ]
  },
  {
   "cell_type": "markdown",
   "metadata": {},
   "source": [
    "Next, write a function called `distance_all` that provided a list of neighbors, returns each of those neighbors with their respective `distance_from_selected` numbers."
   ]
  },
  {
   "cell_type": "code",
   "execution_count": 33,
   "metadata": {},
   "outputs": [],
   "source": [
    "def distance_all(selected_individual, neighbors):\n",
    "    return [distance_between_neighbors(selected_individual, neighbor) for neighbor in neighbors]"
   ]
  },
  {
   "cell_type": "code",
   "execution_count": 34,
   "metadata": {},
   "outputs": [
    {
     "data": {
      "text/plain": [
       "[{'trip_distance': 18.38,\n",
       "  'pickup_latitude': 40.64499,\n",
       "  'pickup_longitude': -73.78115,\n",
       "  'distance_from_selected': 0.0},\n",
       " {'trip_distance': 1.3,\n",
       "  'pickup_latitude': 40.766931,\n",
       "  'pickup_longitude': -73.982098,\n",
       "  'distance_from_selected': 0.23505256047318146},\n",
       " {'trip_distance': 4.5,\n",
       "  'pickup_latitude': 40.77773,\n",
       "  'pickup_longitude': -73.951902,\n",
       "  'distance_from_selected': 0.2162779533470808},\n",
       " {'trip_distance': 2.4,\n",
       "  'pickup_latitude': 40.795678,\n",
       "  'pickup_longitude': -73.971049,\n",
       "  'distance_from_selected': 0.24242215976473674}]"
      ]
     },
     "execution_count": 34,
     "metadata": {},
     "output_type": "execute_result"
    }
   ],
   "source": [
    "cleaned_trips and distance_all(first_trip, cleaned_trips[0:4])"
   ]
  },
  {
   "cell_type": "markdown",
   "metadata": {},
   "source": [
    "Now write the nearest neighbors formula to calculate the distance of the `selected_trip` from all of the `cleaned_trips` in our dataset.  If no number is provided, it should return the top 3 neighbors."
   ]
  },
  {
   "cell_type": "code",
   "execution_count": 35,
   "metadata": {},
   "outputs": [],
   "source": [
    "def nearest_neighbors(selected_individual, neighbors, number = 3):\n",
    "    number = number or len(neighbors)\n",
    "    neighbor_distances = distance_all(selected_individual, neighbors)\n",
    "    sorted_neighbors = sorted(neighbor_distances, key=lambda neighbor: neighbor['distance_from_selected'])\n",
    "    return sorted_neighbors[:number]"
   ]
  },
  {
   "cell_type": "code",
   "execution_count": 36,
   "metadata": {},
   "outputs": [
    {
     "data": {
      "text/plain": [
       "[{'trip_distance': 18.38,\n",
       "  'pickup_latitude': 40.64499,\n",
       "  'pickup_longitude': -73.78115,\n",
       "  'distance_from_selected': 0.0},\n",
       " {'trip_distance': 7.78,\n",
       "  'pickup_latitude': 40.64483,\n",
       "  'pickup_longitude': -73.781578,\n",
       "  'distance_from_selected': 0.0004569288784918792},\n",
       " {'trip_distance': 12.7,\n",
       "  'pickup_latitude': 40.644657,\n",
       "  'pickup_longitude': -73.782229,\n",
       "  'distance_from_selected': 0.0011292165425673159}]"
      ]
     },
     "execution_count": 36,
     "metadata": {},
     "output_type": "execute_result"
    }
   ],
   "source": [
    "new_trip = {'pickup_latitude': 40.64499,\n",
    "'pickup_longitude': -73.78115,\n",
    "'trip_distance': 18.38}\n",
    "\n",
    "nearest_three_neighbors = nearest_neighbors(new_trip, cleaned_trips or [], number = 3)\n",
    "nearest_three_neighbors\n",
    "# [{'distance_from_selected': 0.0004569288784918792,\n",
    "#   'pickup_latitude': 40.64483,\n",
    "#   'pickup_longitude': -73.781578,\n",
    "#   'trip_distance': 7.78},\n",
    "#  {'distance_from_selected': 0.0011292165425673159,\n",
    "#   'pickup_latitude': 40.644657,\n",
    "#   'pickup_longitude': -73.782229,\n",
    "#   'trip_distance': 12.7},\n",
    "#  {'distance_from_selected': 0.0042359798158141185,\n",
    "#   'pickup_latitude': 40.648509,\n",
    "#   'pickup_longitude': -73.783508,\n",
    "#   'trip_distance': 17.3}]"
   ]
  },
  {
   "cell_type": "markdown",
   "metadata": {},
   "source": [
    "Ok great! Now that we can provide a new trip location, and find the distances of the three nearest trips, we can take  calculate an estimate of the trip distance for that new trip location.  \n",
    "\n",
    "We do so simply by calculating the average of it's nearest neighbors."
   ]
  },
  {
   "cell_type": "code",
   "execution_count": 37,
   "metadata": {},
   "outputs": [
    {
     "data": {
      "text/plain": [
       "12.953"
      ]
     },
     "execution_count": 37,
     "metadata": {},
     "output_type": "execute_result"
    }
   ],
   "source": [
    "import statistics\n",
    "def mean_distance(neighbors):\n",
    "    nearest_distances = list(map(lambda neighbor: neighbor['trip_distance'], neighbors))\n",
    "    return round(statistics.mean(nearest_distances), 3)\n",
    "\n",
    "nearest_three_neighbors = nearest_neighbors(new_trip, cleaned_trips or [], number = 3)\n",
    "distance_estimate_of_selected_trip = mean_distance(nearest_three_neighbors) # 12.593\n",
    "distance_estimate_of_selected_trip"
   ]
  },
  {
   "cell_type": "markdown",
   "metadata": {},
   "source": [
    "### Choosing the correct number of neighbors"
   ]
  },
  {
   "cell_type": "markdown",
   "metadata": {},
   "source": [
    "Now, as we know from the last lesson, one tricky element is to determine how many neighbors to choose, our $k$ value,  before calculating the average.  We want to choose our value of $k$ such that it properly matches actual data, and so that it applies to new data.  There are fancy formulas to ensure that we **train** our algorithm so that our formula is optimized for all data, but here let's see different $k$ values manually.  This is the gist of choosing our $k$ value:\n",
    "\n",
    "* If we choose a $k$ value too low, our formula will be too heavily influenced by a single neighbor, whereas if our $k$ value is too high, we will be choosing so many neighbors that our nearest neighbors formula will not be adjust enough according to locations.\n",
    "\n",
    "Ok, let's experiment with this."
   ]
  },
  {
   "cell_type": "markdown",
   "metadata": {},
   "source": [
    "First, let's choose a midtown location, to see what the trip distance would be.  A Google search reveals the coordinates of 51st and 7th avenue to be the following."
   ]
  },
  {
   "cell_type": "code",
   "execution_count": 38,
   "metadata": {},
   "outputs": [],
   "source": [
    "midtown_trip = dict(pickup_latitude=40.761710, pickup_longitude=-73.982760)"
   ]
  },
  {
   "cell_type": "code",
   "execution_count": 39,
   "metadata": {},
   "outputs": [
    {
     "data": {
      "text/plain": [
       "[{'trip_distance': 0.58,\n",
       "  'pickup_latitude': 40.761372,\n",
       "  'pickup_longitude': -73.982602,\n",
       "  'distance_from_selected': 0.00037310588309379025},\n",
       " {'trip_distance': 0.8,\n",
       "  'pickup_latitude': 40.762444,\n",
       "  'pickup_longitude': -73.98244,\n",
       "  'distance_from_selected': 0.00080072217404248},\n",
       " {'trip_distance': 1.4,\n",
       "  'pickup_latitude': 40.762767,\n",
       "  'pickup_longitude': -73.982293,\n",
       "  'distance_from_selected': 0.0011555682584735844},\n",
       " {'trip_distance': 8.3,\n",
       "  'pickup_latitude': 40.762868,\n",
       "  'pickup_longitude': -73.983233,\n",
       "  'distance_from_selected': 0.0012508768924205918},\n",
       " {'trip_distance': 1.26,\n",
       "  'pickup_latitude': 40.760057,\n",
       "  'pickup_longitude': -73.983502,\n",
       "  'distance_from_selected': 0.0018118976240381972},\n",
       " {'trip_distance': 0.0,\n",
       "  'pickup_latitude': 40.760644,\n",
       "  'pickup_longitude': -73.984531,\n",
       "  'distance_from_selected': 0.002067074502774709},\n",
       " {'trip_distance': 1.72,\n",
       "  'pickup_latitude': 40.762107,\n",
       "  'pickup_longitude': -73.98479,\n",
       "  'distance_from_selected': 0.0020684557041472677}]"
      ]
     },
     "execution_count": 39,
     "metadata": {},
     "output_type": "execute_result"
    }
   ],
   "source": [
    "seven_closest = nearest_neighbors(midtown_trip, cleaned_trips, number = 7)\n",
    "seven_closest\n",
    "# [{'trip_distance': 0.58,\n",
    "#   'pickup_latitude': 40.761372,\n",
    "#   'pickup_longitude': -73.982602,\n",
    "#   'distance_from_selected': 0.00037310588309379025},\n",
    "#  {'trip_distance': 0.8,\n",
    "#   'pickup_latitude': 40.762444,\n",
    "#   'pickup_longitude': -73.98244,\n",
    "#   'distance_from_selected': 0.00080072217404248},\n",
    "#  {'trip_distance': 1.4,\n",
    "#   'pickup_latitude': 40.762767,\n",
    "#   'pickup_longitude': -73.982293,\n",
    "#   'distance_from_selected': 0.0011555682584735844},\n",
    "#  {'trip_distance': 8.3,\n",
    "#   'pickup_latitude': 40.762868,\n",
    "#   'pickup_longitude': -73.983233,\n",
    "#   'distance_from_selected': 0.0012508768924205918},\n",
    "#  {'trip_distance': 1.26,\n",
    "#   'pickup_latitude': 40.760057,\n",
    "#   'pickup_longitude': -73.983502,\n",
    "#   'distance_from_selected': 0.0018118976240381972},\n",
    "#  {'trip_distance': 0.0,\n",
    "#   'pickup_latitude': 40.760644,\n",
    "#   'pickup_longitude': -73.984531,\n",
    "#   'distance_from_selected': 0.002067074502774709},\n",
    "#  {'trip_distance': 1.72,\n",
    "#   'pickup_latitude': 40.762107,\n",
    "#   'pickup_longitude': -73.98479,\n",
    "#   'distance_from_selected': 0.0020684557041472677}]"
   ]
  },
  {
   "cell_type": "markdown",
   "metadata": {},
   "source": [
    "Looking at the `distance_from_selected` it appears that our our trips are still fairly close to our selected trip.  Notice that most of the data is within a distance of .002 away, so going to the top 7 nearest neighbors didn't seem to give us neighbors too far from each other, which is a good sign.\n",
    "\n",
    "Still, it's hard to know what distance in latitude and longitude really look like, so let's map the data. "
   ]
  },
  {
   "cell_type": "code",
   "execution_count": 40,
   "metadata": {},
   "outputs": [
    {
     "ename": "AttributeError",
     "evalue": "'list' object has no attribute 'add_to'",
     "output_type": "error",
     "traceback": [
      "\u001b[0;31m\u001b[0m",
      "\u001b[0;31mAttributeError\u001b[0mTraceback (most recent call last)",
      "\u001b[0;32m<ipython-input-40-ab72ff7eaea0>\u001b[0m in \u001b[0;36m<module>\u001b[0;34m\u001b[0m\n\u001b[1;32m      3\u001b[0m \u001b[0mclosest_markers\u001b[0m \u001b[0;34m=\u001b[0m \u001b[0mmarkers_from_trips\u001b[0m\u001b[0;34m(\u001b[0m\u001b[0mseven_closest\u001b[0m\u001b[0;34m)\u001b[0m\u001b[0;34m\u001b[0m\u001b[0;34m\u001b[0m\u001b[0m\n\u001b[1;32m      4\u001b[0m \u001b[0;34m\u001b[0m\u001b[0m\n\u001b[0;32m----> 5\u001b[0;31m \u001b[0madd_markers\u001b[0m\u001b[0;34m(\u001b[0m\u001b[0mclosest_markers\u001b[0m\u001b[0;34m,\u001b[0m \u001b[0mmidtown_map\u001b[0m\u001b[0;34m)\u001b[0m\u001b[0;34m\u001b[0m\u001b[0;34m\u001b[0m\u001b[0m\n\u001b[0m",
      "\u001b[0;32m<ipython-input-26-a3c08caacc68>\u001b[0m in \u001b[0;36madd_markers\u001b[0;34m(markers, map_obj)\u001b[0m\n\u001b[1;32m      1\u001b[0m \u001b[0;32mdef\u001b[0m \u001b[0madd_markers\u001b[0m\u001b[0;34m(\u001b[0m\u001b[0mmarkers\u001b[0m\u001b[0;34m,\u001b[0m \u001b[0mmap_obj\u001b[0m\u001b[0;34m)\u001b[0m\u001b[0;34m:\u001b[0m\u001b[0;34m\u001b[0m\u001b[0;34m\u001b[0m\u001b[0m\n\u001b[0;32m----> 2\u001b[0;31m     \u001b[0mmarkers\u001b[0m\u001b[0;34m.\u001b[0m\u001b[0madd_to\u001b[0m\u001b[0;34m(\u001b[0m\u001b[0mmap_obj\u001b[0m\u001b[0;34m)\u001b[0m\u001b[0;34m\u001b[0m\u001b[0;34m\u001b[0m\u001b[0m\n\u001b[0m",
      "\u001b[0;31mAttributeError\u001b[0m: 'list' object has no attribute 'add_to'"
     ]
    }
   ],
   "source": [
    "midtown_location = location(midtown_trip) # [40.76171, -73.98276]\n",
    "midtown_map = map_from(midtown_location, 16)\n",
    "closest_markers = markers_from_trips(seven_closest)\n",
    "\n",
    "add_markers(closest_markers, midtown_map)"
   ]
  },
  {
   "cell_type": "markdown",
   "metadata": {},
   "source": [
    "Ok.  These locations stay fairly close to our estimated location of 51st street and 7th Avenue.  So they could be a good estimate of a trip distance."
   ]
  },
  {
   "cell_type": "code",
   "execution_count": 41,
   "metadata": {},
   "outputs": [
    {
     "data": {
      "text/plain": [
       "2.009"
      ]
     },
     "execution_count": 41,
     "metadata": {},
     "output_type": "execute_result"
    }
   ],
   "source": [
    "mean_distance(seven_closest) # 2.009"
   ]
  },
  {
   "cell_type": "markdown",
   "metadata": {},
   "source": [
    "Ok, now let's try a different location"
   ]
  },
  {
   "cell_type": "code",
   "execution_count": 42,
   "metadata": {},
   "outputs": [],
   "source": [
    "charging_bull_closest = nearest_neighbors({'pickup_latitude': 40.7049, 'pickup_longitude': -74.0137}, cleaned_trips, number = 12)"
   ]
  },
  {
   "cell_type": "code",
   "execution_count": 43,
   "metadata": {
    "scrolled": true
   },
   "outputs": [
    {
     "data": {
      "text/plain": [
       "3.145"
      ]
     },
     "execution_count": 43,
     "metadata": {},
     "output_type": "execute_result"
    }
   ],
   "source": [
    "mean_distance(charging_bull_closest) # 3.145"
   ]
  },
  {
   "cell_type": "markdown",
   "metadata": {},
   "source": [
    "Ok, so there appears to be a significant difference between choosing a location near Times Square versus choosing a location at Wall Street."
   ]
  },
  {
   "cell_type": "markdown",
   "metadata": {},
   "source": [
    "### Summary"
   ]
  },
  {
   "cell_type": "markdown",
   "metadata": {},
   "source": [
    "In this lab, we used the nearest neighbors function to predict the length of a taxi ride.  To do so, we selected a location, then found a number of taxi rides closest to that location, and finally took the average trip lengths of the nearest taxi rides to find an estimate of the new ride's trip length.  You can see that even with just a little bit of math and programming we can begin to make meaningful predictions with data."
   ]
  },
  {
   "cell_type": "code",
   "execution_count": null,
   "metadata": {},
   "outputs": [],
   "source": []
  }
 ],
 "metadata": {
  "kernelspec": {
   "display_name": "Python 3",
   "language": "python",
   "name": "python3"
  },
  "language_info": {
   "codemirror_mode": {
    "name": "ipython",
    "version": 3
   },
   "file_extension": ".py",
   "mimetype": "text/x-python",
   "name": "python",
   "nbconvert_exporter": "python",
   "pygments_lexer": "ipython3",
   "version": "3.6.9"
  }
 },
 "nbformat": 4,
 "nbformat_minor": 2
}
