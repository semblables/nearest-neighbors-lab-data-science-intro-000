{
 "cells": [
  {
   "cell_type": "markdown",
   "metadata": {},
   "source": [
    "# Nearest Neighbors Lab"
   ]
  },
  {
   "cell_type": "markdown",
   "metadata": {},
   "source": [
    "### Introduction\n",
    "\n",
    "In this lab, you apply nearest neighbors technique to help a taxi company predict the length of their rides.  Imagine that we are hired to consult for LiftOff, a limo and taxi service that is just opening up in NYC.  Liftoff wants it's taxi drivers to target longer rides, as the longer the ride the more money it makes.  LiftOff has the following theory:\n",
    "\n",
    "* the pickup location of a taxi ride can help predict the length of the ride.  \n",
    "\n",
    "\n",
    "\n",
    "LiftOff asks us to do some analysis to write a function that will allow it to **predict the length of a taxi ride for any given location **.\n",
    "\n",
    "Our technique will be the following:\n",
    "  * **Collect** Obtain the data containing all of the taxi information, and only select the attributes of taxi trips that we need \n",
    "  * ** Explore ** Examine the attributes of our data, and plot some of our data on a map\n",
    "  * ** Train ** Write our nearest neighbors formula, and change the number of nearby trips to predict the length of a new trip\n",
    "  * ** Predict ** Use our function to predict trip lengths of new locations"
   ]
  },
  {
   "cell_type": "markdown",
   "metadata": {},
   "source": [
    "### Collect and Explore the data"
   ]
  },
  {
   "cell_type": "markdown",
   "metadata": {},
   "source": [
    "#### Collect the Data"
   ]
  },
  {
   "cell_type": "markdown",
   "metadata": {},
   "source": [
    "Luckily for us, [NYC Open Data](https://opendata.cityofnewyork.us/) collects information about NYC taxi trips and provides this data on [its website](https://data.cityofnewyork.us/Transportation/2014-Yellow-Taxi-Trip-Data/gn7m-em8n)."
   ]
  },
  {
   "cell_type": "markdown",
   "metadata": {},
   "source": [
    "![](./nyc-taxi.png)"
   ]
  },
  {
   "cell_type": "markdown",
   "metadata": {},
   "source": [
    "For your reading pleasure, the data has already been downloaded into the [trips.json](https://github.com/learn-co-curriculum/nearest-neighbors-lab/blob/master/trips.json) file in this lab which you can find here.  We'll use Python's `json` library to take the data from the `trips.json` file and store it as a variable in our notebook."
   ]
  },
  {
   "cell_type": "code",
   "execution_count": 67,
   "metadata": {},
   "outputs": [],
   "source": [
    "import json\n",
    "# First, read the file\n",
    "trips_file = open('trips.json')\n",
    "# Then, convert contents to list of dictionaries \n",
    "trips = json.load(trips_file)"
   ]
  },
  {
   "cell_type": "markdown",
   "metadata": {},
   "source": [
    "> Press shift + enter"
   ]
  },
  {
   "cell_type": "markdown",
   "metadata": {},
   "source": [
    "#### Explore the data"
   ]
  },
  {
   "cell_type": "markdown",
   "metadata": {},
   "source": [
    "The next step is to explore the data.  First, let's see how many trips we have."
   ]
  },
  {
   "cell_type": "code",
   "execution_count": 68,
   "metadata": {},
   "outputs": [
    {
     "data": {
      "text/plain": [
       "1000"
      ]
     },
     "execution_count": 68,
     "metadata": {},
     "output_type": "execute_result"
    }
   ],
   "source": [
    "len(trips)"
   ]
  },
  {
   "cell_type": "markdown",
   "metadata": {},
   "source": [
    "Not bad at all.  Now let's see what each individual trip looks like.  Each trip is a dictionary, so we can see the attributes of each trip with the `keys` function."
   ]
  },
  {
   "cell_type": "code",
   "execution_count": 69,
   "metadata": {
    "scrolled": true
   },
   "outputs": [
    {
     "data": {
      "text/plain": [
       "dict_keys(['dropoff_datetime', 'dropoff_latitude', 'dropoff_longitude', 'fare_amount', 'imp_surcharge', 'mta_tax', 'passenger_count', 'payment_type', 'pickup_datetime', 'pickup_latitude', 'pickup_longitude', 'rate_code', 'tip_amount', 'tolls_amount', 'total_amount', 'trip_distance', 'vendor_id'])"
      ]
     },
     "execution_count": 69,
     "metadata": {},
     "output_type": "execute_result"
    }
   ],
   "source": [
    "trips[0].keys()"
   ]
  },
  {
   "cell_type": "markdown",
   "metadata": {},
   "source": [
    "#### Limit our data"
   ]
  },
  {
   "cell_type": "markdown",
   "metadata": {},
   "source": [
    "Ok, now that we have explored some of our data, let's begin to think through what data is relevant for our task."
   ]
  },
  {
   "cell_type": "markdown",
   "metadata": {
    "collapsed": true
   },
   "source": [
    "Remember that our task is to **use the trip location to predict the length of a trip**.  So let's select the `pickup_latitude`, `pickup_longitude`, and `trip_distance` from each trip.  That will give us the trip location and related `trip_distance` for each trip.  Then based on these **actual** trip distances we can use nearest neighbors to predict an **expected** trip distance for a trip, provided an **actual** location."
   ]
  },
  {
   "cell_type": "markdown",
   "metadata": {},
   "source": [
    "** Add in about trip distance ** "
   ]
  },
  {
   "cell_type": "markdown",
   "metadata": {},
   "source": [
    "Write a function called `parse_trips(trips)` that returns a list of the trips with only the following attributes: \n",
    "* `trip_distance`\n",
    "* `pickup_latitude`\n",
    "* `pickup_longitude`"
   ]
  },
  {
   "cell_type": "code",
   "execution_count": 70,
   "metadata": {},
   "outputs": [],
   "source": [
    "def parse_trips(trips):\n",
    "    return list(map(lambda trip: {'trip_distance': trip['trip_distance'],\\\n",
    "                                  'pickup_latitude': trip['pickup_latitude'], \\\n",
    "                                  'pickup_longitude': trip['pickup_longitude']},\\\n",
    "                    trips))"
   ]
  },
  {
   "cell_type": "code",
   "execution_count": 71,
   "metadata": {
    "scrolled": true
   },
   "outputs": [
    {
     "data": {
      "text/plain": [
       "{'trip_distance': '18.379999999999999',\n",
       " 'pickup_latitude': '40.64499',\n",
       " 'pickup_longitude': '-73.781149999999997'}"
      ]
     },
     "execution_count": 71,
     "metadata": {},
     "output_type": "execute_result"
    }
   ],
   "source": [
    "parsed_trips = parse_trips(trips)\n",
    "parsed_trips and parsed_trips[0]\n",
    "\n",
    "# {'pickup_latitude': '40.64499',\n",
    "#  'pickup_longitude': '-73.78115',\n",
    "#  'trip_distance': '18.38'}"
   ]
  },
  {
   "cell_type": "markdown",
   "metadata": {},
   "source": [
    "Now, there's just one change to make.  If you look at one of the trips, all of the values are strings.  Let's change them to be floats."
   ]
  },
  {
   "cell_type": "code",
   "execution_count": 72,
   "metadata": {},
   "outputs": [],
   "source": [
    "def float_values(trips):    \n",
    "    return trips and list(map(lambda trip: {'trip_distance': \\\n",
    "                                            float(trip['trip_distance']), 'pickup_latitude': \\\n",
    "                                            float(trip['pickup_latitude']), 'pickup_longitude': \\\n",
    "                                            float(trip['pickup_longitude'])}, \\\n",
    "                              trips))"
   ]
  },
  {
   "cell_type": "code",
   "execution_count": 73,
   "metadata": {},
   "outputs": [],
   "source": [
    "cleaned_trips = float_values(parsed_trips)"
   ]
  },
  {
   "cell_type": "code",
   "execution_count": 74,
   "metadata": {},
   "outputs": [
    {
     "data": {
      "text/plain": [
       "{'trip_distance': 18.38,\n",
       " 'pickup_latitude': 40.64499,\n",
       " 'pickup_longitude': -73.78115}"
      ]
     },
     "execution_count": 74,
     "metadata": {},
     "output_type": "execute_result"
    }
   ],
   "source": [
    "cleaned_trips[0]\n",
    "\n",
    "# {'pickup_latitude': 40.64499,\n",
    "#  'pickup_longitude': -73.78115,\n",
    "#  'trip_distance': 18.38}"
   ]
  },
  {
   "cell_type": "markdown",
   "metadata": {},
   "source": [
    "### Exploring the Data"
   ]
  },
  {
   "cell_type": "markdown",
   "metadata": {},
   "source": [
    "Now that we have pared down our data, let's get a sense of our trip data.  We can use the `folium` Python library to plot a map of Manhattan, and our data.  First we must import `folium`, and then use the `Map` function to pass through a `location`, and `zoom_start`.  If a map isn't showing up below, copy and paste the command `pip install -r requirements.txt` into your terminal to install `folium` then try again."
   ]
  },
  {
   "cell_type": "code",
   "execution_count": 75,
   "metadata": {},
   "outputs": [],
   "source": [
    "import folium\n",
    "manhattan_map = folium.Map(location=[40.7589, -73.9851], zoom_start=11)"
   ]
  },
  {
   "cell_type": "code",
   "execution_count": 76,
   "metadata": {
    "scrolled": true
   },
   "outputs": [
    {
     "data": {
      "text/html": [
       "<div style=\"width:100%;\"><div style=\"position:relative;width:100%;height:0;padding-bottom:60%;\"><iframe src=\"data:text/html;charset=utf-8;base64,PCFET0NUWVBFIGh0bWw+CjxoZWFkPiAgICAKICAgIDxtZXRhIGh0dHAtZXF1aXY9ImNvbnRlbnQtdHlwZSIgY29udGVudD0idGV4dC9odG1sOyBjaGFyc2V0PVVURi04IiAvPgogICAgCiAgICAgICAgPHNjcmlwdD4KICAgICAgICAgICAgTF9OT19UT1VDSCA9IGZhbHNlOwogICAgICAgICAgICBMX0RJU0FCTEVfM0QgPSBmYWxzZTsKICAgICAgICA8L3NjcmlwdD4KICAgIAogICAgPHNjcmlwdCBzcmM9Imh0dHBzOi8vY2RuLmpzZGVsaXZyLm5ldC9ucG0vbGVhZmxldEAxLjUuMS9kaXN0L2xlYWZsZXQuanMiPjwvc2NyaXB0PgogICAgPHNjcmlwdCBzcmM9Imh0dHBzOi8vY29kZS5qcXVlcnkuY29tL2pxdWVyeS0xLjEyLjQubWluLmpzIj48L3NjcmlwdD4KICAgIDxzY3JpcHQgc3JjPSJodHRwczovL21heGNkbi5ib290c3RyYXBjZG4uY29tL2Jvb3RzdHJhcC8zLjIuMC9qcy9ib290c3RyYXAubWluLmpzIj48L3NjcmlwdD4KICAgIDxzY3JpcHQgc3JjPSJodHRwczovL2NkbmpzLmNsb3VkZmxhcmUuY29tL2FqYXgvbGlicy9MZWFmbGV0LmF3ZXNvbWUtbWFya2Vycy8yLjAuMi9sZWFmbGV0LmF3ZXNvbWUtbWFya2Vycy5qcyI+PC9zY3JpcHQ+CiAgICA8bGluayByZWw9InN0eWxlc2hlZXQiIGhyZWY9Imh0dHBzOi8vY2RuLmpzZGVsaXZyLm5ldC9ucG0vbGVhZmxldEAxLjUuMS9kaXN0L2xlYWZsZXQuY3NzIi8+CiAgICA8bGluayByZWw9InN0eWxlc2hlZXQiIGhyZWY9Imh0dHBzOi8vbWF4Y2RuLmJvb3RzdHJhcGNkbi5jb20vYm9vdHN0cmFwLzMuMi4wL2Nzcy9ib290c3RyYXAubWluLmNzcyIvPgogICAgPGxpbmsgcmVsPSJzdHlsZXNoZWV0IiBocmVmPSJodHRwczovL21heGNkbi5ib290c3RyYXBjZG4uY29tL2Jvb3RzdHJhcC8zLjIuMC9jc3MvYm9vdHN0cmFwLXRoZW1lLm1pbi5jc3MiLz4KICAgIDxsaW5rIHJlbD0ic3R5bGVzaGVldCIgaHJlZj0iaHR0cHM6Ly9tYXhjZG4uYm9vdHN0cmFwY2RuLmNvbS9mb250LWF3ZXNvbWUvNC42LjMvY3NzL2ZvbnQtYXdlc29tZS5taW4uY3NzIi8+CiAgICA8bGluayByZWw9InN0eWxlc2hlZXQiIGhyZWY9Imh0dHBzOi8vY2RuanMuY2xvdWRmbGFyZS5jb20vYWpheC9saWJzL0xlYWZsZXQuYXdlc29tZS1tYXJrZXJzLzIuMC4yL2xlYWZsZXQuYXdlc29tZS1tYXJrZXJzLmNzcyIvPgogICAgPGxpbmsgcmVsPSJzdHlsZXNoZWV0IiBocmVmPSJodHRwczovL3Jhd2Nkbi5naXRoYWNrLmNvbS9weXRob24tdmlzdWFsaXphdGlvbi9mb2xpdW0vbWFzdGVyL2ZvbGl1bS90ZW1wbGF0ZXMvbGVhZmxldC5hd2Vzb21lLnJvdGF0ZS5jc3MiLz4KICAgIDxzdHlsZT5odG1sLCBib2R5IHt3aWR0aDogMTAwJTtoZWlnaHQ6IDEwMCU7bWFyZ2luOiAwO3BhZGRpbmc6IDA7fTwvc3R5bGU+CiAgICA8c3R5bGU+I21hcCB7cG9zaXRpb246YWJzb2x1dGU7dG9wOjA7Ym90dG9tOjA7cmlnaHQ6MDtsZWZ0OjA7fTwvc3R5bGU+CiAgICAKICAgICAgICAgICAgPG1ldGEgbmFtZT0idmlld3BvcnQiIGNvbnRlbnQ9IndpZHRoPWRldmljZS13aWR0aCwKICAgICAgICAgICAgICAgIGluaXRpYWwtc2NhbGU9MS4wLCBtYXhpbXVtLXNjYWxlPTEuMCwgdXNlci1zY2FsYWJsZT1ubyIgLz4KICAgICAgICAgICAgPHN0eWxlPgogICAgICAgICAgICAgICAgI21hcF9hNWQ1NGE1OTZiMDQ0YjllOGFiNGI2MGVhMDVlNjY5NyB7CiAgICAgICAgICAgICAgICAgICAgcG9zaXRpb246IHJlbGF0aXZlOwogICAgICAgICAgICAgICAgICAgIHdpZHRoOiAxMDAuMCU7CiAgICAgICAgICAgICAgICAgICAgaGVpZ2h0OiAxMDAuMCU7CiAgICAgICAgICAgICAgICAgICAgbGVmdDogMC4wJTsKICAgICAgICAgICAgICAgICAgICB0b3A6IDAuMCU7CiAgICAgICAgICAgICAgICB9CiAgICAgICAgICAgIDwvc3R5bGU+CiAgICAgICAgCjwvaGVhZD4KPGJvZHk+ICAgIAogICAgCiAgICAgICAgICAgIDxkaXYgY2xhc3M9ImZvbGl1bS1tYXAiIGlkPSJtYXBfYTVkNTRhNTk2YjA0NGI5ZThhYjRiNjBlYTA1ZTY2OTciID48L2Rpdj4KICAgICAgICAKPC9ib2R5Pgo8c2NyaXB0PiAgICAKICAgIAogICAgICAgICAgICB2YXIgbWFwX2E1ZDU0YTU5NmIwNDRiOWU4YWI0YjYwZWEwNWU2Njk3ID0gTC5tYXAoCiAgICAgICAgICAgICAgICAibWFwX2E1ZDU0YTU5NmIwNDRiOWU4YWI0YjYwZWEwNWU2Njk3IiwKICAgICAgICAgICAgICAgIHsKICAgICAgICAgICAgICAgICAgICBjZW50ZXI6IFs0MC43NTg5LCAtNzMuOTg1MV0sCiAgICAgICAgICAgICAgICAgICAgY3JzOiBMLkNSUy5FUFNHMzg1NywKICAgICAgICAgICAgICAgICAgICB6b29tOiAxMSwKICAgICAgICAgICAgICAgICAgICB6b29tQ29udHJvbDogdHJ1ZSwKICAgICAgICAgICAgICAgICAgICBwcmVmZXJDYW52YXM6IGZhbHNlLAogICAgICAgICAgICAgICAgfQogICAgICAgICAgICApOwoKICAgICAgICAgICAgCgogICAgICAgIAogICAgCiAgICAgICAgICAgIHZhciB0aWxlX2xheWVyX2M2ZjM3MTgzZWFhZjRjZWQ5N2RkMDZjZjk4MDEwYzlmID0gTC50aWxlTGF5ZXIoCiAgICAgICAgICAgICAgICAiaHR0cHM6Ly97c30udGlsZS5vcGVuc3RyZWV0bWFwLm9yZy97en0ve3h9L3t5fS5wbmciLAogICAgICAgICAgICAgICAgeyJhdHRyaWJ1dGlvbiI6ICJEYXRhIGJ5IFx1MDAyNmNvcHk7IFx1MDAzY2EgaHJlZj1cImh0dHA6Ly9vcGVuc3RyZWV0bWFwLm9yZ1wiXHUwMDNlT3BlblN0cmVldE1hcFx1MDAzYy9hXHUwMDNlLCB1bmRlciBcdTAwM2NhIGhyZWY9XCJodHRwOi8vd3d3Lm9wZW5zdHJlZXRtYXAub3JnL2NvcHlyaWdodFwiXHUwMDNlT0RiTFx1MDAzYy9hXHUwMDNlLiIsICJkZXRlY3RSZXRpbmEiOiBmYWxzZSwgIm1heE5hdGl2ZVpvb20iOiAxOCwgIm1heFpvb20iOiAxOCwgIm1pblpvb20iOiAwLCAibm9XcmFwIjogZmFsc2UsICJvcGFjaXR5IjogMSwgInN1YmRvbWFpbnMiOiAiYWJjIiwgInRtcyI6IGZhbHNlfQogICAgICAgICAgICApLmFkZFRvKG1hcF9hNWQ1NGE1OTZiMDQ0YjllOGFiNGI2MGVhMDVlNjY5Nyk7CiAgICAgICAgCjwvc2NyaXB0Pg==\" style=\"position:absolute;width:100%;height:100%;left:0;top:0;border:none !important;\" allowfullscreen webkitallowfullscreen mozallowfullscreen></iframe></div></div>"
      ],
      "text/plain": [
       "<folium.folium.Map at 0x7f159fbd9978>"
      ]
     },
     "execution_count": 76,
     "metadata": {},
     "output_type": "execute_result"
    }
   ],
   "source": [
    "manhattan_map"
   ]
  },
  {
   "cell_type": "markdown",
   "metadata": {},
   "source": [
    "Ok, now let's see how we could add a dot to mark a specific location.  We'll start with Times Square."
   ]
  },
  {
   "cell_type": "code",
   "execution_count": 77,
   "metadata": {},
   "outputs": [
    {
     "data": {
      "text/plain": [
       "<folium.vector_layers.CircleMarker at 0x7f15cc5a1828>"
      ]
     },
     "execution_count": 77,
     "metadata": {},
     "output_type": "execute_result"
    }
   ],
   "source": [
    "marker = folium.CircleMarker(location = [40.7589, -73.9851], radius=10)\n",
    "marker.add_to(manhattan_map)"
   ]
  },
  {
   "cell_type": "markdown",
   "metadata": {},
   "source": [
    "Above, we first create a marker.  Then we add that circle marker to the `manhattan_map` we created earlier. "
   ]
  },
  {
   "cell_type": "code",
   "execution_count": 78,
   "metadata": {
    "scrolled": false
   },
   "outputs": [
    {
     "data": {
      "text/html": [
       "<div style=\"width:100%;\"><div style=\"position:relative;width:100%;height:0;padding-bottom:60%;\"><iframe src=\"data:text/html;charset=utf-8;base64,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\" style=\"position:absolute;width:100%;height:100%;left:0;top:0;border:none !important;\" allowfullscreen webkitallowfullscreen mozallowfullscreen></iframe></div></div>"
      ],
      "text/plain": [
       "<folium.folium.Map at 0x7f159fbd9978>"
      ]
     },
     "execution_count": 78,
     "metadata": {},
     "output_type": "execute_result"
    }
   ],
   "source": [
    "manhattan_map"
   ]
  },
  {
   "cell_type": "markdown",
   "metadata": {},
   "source": [
    "Do you see that blue dot near Time's Square?  That is our marker.  \n",
    "\n",
    "So now that we can plot one marker on a map, we should have a sense of how we can plot many markers on a map to display our taxi ride data.  We simply plot a map, and then we add a marker for each location of a taxi trip.\n",
    "\n",
    "Now let's write some functions to allow us to plot maps and add markers a little more easily.  "
   ]
  },
  {
   "cell_type": "markdown",
   "metadata": {},
   "source": [
    "#### Writing some map plotting functions"
   ]
  },
  {
   "cell_type": "markdown",
   "metadata": {},
   "source": [
    "As a first step towards this, note that the functions to create both a marker and map each take in a location as two element list, representing the latitude and longitude values.  Take another look:\n",
    "\n",
    "```python\n",
    "marker = folium.CircleMarker(location = [40.7589, -73.9851])\n",
    "manhattan_map = folium.Map(location=[40.7589, -73.9851])\n",
    "```\n",
    "\n",
    "So let's write a function called to create this two element list from a trip.  Write a function called `location` that  takes in a trip as an argument and returns a list where the first element is the latitude and the second is the longitude.  Remember that a location looks like the following:"
   ]
  },
  {
   "cell_type": "code",
   "execution_count": 79,
   "metadata": {},
   "outputs": [
    {
     "data": {
      "text/plain": [
       "{'pickup_latitude': 40.64499,\n",
       " 'pickup_longitude': -73.78115,\n",
       " 'trip_distance': 18.38}"
      ]
     },
     "execution_count": 79,
     "metadata": {},
     "output_type": "execute_result"
    }
   ],
   "source": [
    "first_trip = {'pickup_latitude': 40.64499, 'pickup_longitude': -73.78115,  'trip_distance': 18.38}\n",
    "first_trip"
   ]
  },
  {
   "cell_type": "code",
   "execution_count": 80,
   "metadata": {},
   "outputs": [],
   "source": [
    "def location(trip):\n",
    "    return [trip['pickup_latitude'], trip['pickup_longitude']]"
   ]
  },
  {
   "cell_type": "code",
   "execution_count": 81,
   "metadata": {},
   "outputs": [
    {
     "data": {
      "text/plain": [
       "[40.64499, -73.78115]"
      ]
     },
     "execution_count": 81,
     "metadata": {},
     "output_type": "execute_result"
    }
   ],
   "source": [
    "first_location = location(first_trip) # [40.64499, -73.78115]\n",
    "first_location # [40.64499, -73.78115]"
   ]
  },
  {
   "cell_type": "markdown",
   "metadata": {},
   "source": [
    "Ok, now that we can turn a trip into a location, let's turn a location into a marker.  Write a function called `to_marker` that takes in a location (in the form of a list) as an argument, and returns a folium `circleMarker` for that location.  The radius of the marker should always equal 6."
   ]
  },
  {
   "cell_type": "code",
   "execution_count": 82,
   "metadata": {},
   "outputs": [],
   "source": [
    "def to_marker(location):\n",
    "    return folium.CircleMarker(location, radius=6)"
   ]
  },
  {
   "cell_type": "code",
   "execution_count": 83,
   "metadata": {},
   "outputs": [
    {
     "data": {
      "text/plain": [
       "[40.7589, -73.9851]"
      ]
     },
     "execution_count": 83,
     "metadata": {},
     "output_type": "execute_result"
    }
   ],
   "source": [
    "import json\n",
    "times_square_marker = to_marker([40.7589, -73.9851])\n",
    "\n",
    "times_square_marker and times_square_marker.location # [40.7589, -73.9851]"
   ]
  },
  {
   "cell_type": "markdown",
   "metadata": {},
   "source": [
    "Ok, now that we know how to produce a single marker, let's write a function to produce lots.  We can write a function called `markers_from_trips` that takes in a list of trips, and returns a marker object for each trip.  "
   ]
  },
  {
   "cell_type": "code",
   "execution_count": 84,
   "metadata": {},
   "outputs": [
    {
     "name": "stdout",
     "output_type": "stream",
     "text": [
      "{'trip_distance': 18.38, 'pickup_latitude': 40.64499, 'pickup_longitude': -73.78115}\n"
     ]
    }
   ],
   "source": [
    "print(cleaned_trips[0])\n",
    "# def markers_from_trips(cleaned_trips):\n",
    "#     for trip in cleaned_trips:\n",
    "#         return to_marker(location(trip))\n",
    "    \n",
    "def markers_from_trips(trips):\n",
    "    locations = list(map(lambda trip: location(trip), trips))\n",
    "    return list(map(lambda location: to_marker(location),locations))"
   ]
  },
  {
   "cell_type": "code",
   "execution_count": 85,
   "metadata": {},
   "outputs": [
    {
     "data": {
      "text/plain": [
       "[<folium.vector_layers.CircleMarker at 0x7f15cc5a14e0>,\n",
       " <folium.vector_layers.CircleMarker at 0x7f159fd2bba8>,\n",
       " <folium.vector_layers.CircleMarker at 0x7f15cc5a1550>,\n",
       " <folium.vector_layers.CircleMarker at 0x7f15cc5a1278>,\n",
       " <folium.vector_layers.CircleMarker at 0x7f15cc5a1b38>,\n",
       " <folium.vector_layers.CircleMarker at 0x7f15cc5a1470>,\n",
       " <folium.vector_layers.CircleMarker at 0x7f15cc5a1240>,\n",
       " <folium.vector_layers.CircleMarker at 0x7f15cc5a12b0>,\n",
       " <folium.vector_layers.CircleMarker at 0x7f15cc5a11d0>,\n",
       " <folium.vector_layers.CircleMarker at 0x7f15cc5a10f0>,\n",
       " <folium.vector_layers.CircleMarker at 0x7f15cc5a1080>,\n",
       " <folium.vector_layers.CircleMarker at 0x7f15cc5a1dd8>,\n",
       " <folium.vector_layers.CircleMarker at 0x7f15cc5a1da0>,\n",
       " <folium.vector_layers.CircleMarker at 0x7f15cc5a1fd0>,\n",
       " <folium.vector_layers.CircleMarker at 0x7f15cc5a1ef0>,\n",
       " <folium.vector_layers.CircleMarker at 0x7f15cc5a1e10>,\n",
       " <folium.vector_layers.CircleMarker at 0x7f15cc5a1f28>,\n",
       " <folium.vector_layers.CircleMarker at 0x7f15cc5a1b00>,\n",
       " <folium.vector_layers.CircleMarker at 0x7f15cc5a1be0>,\n",
       " <folium.vector_layers.CircleMarker at 0x7f15cc5a1eb8>,\n",
       " <folium.vector_layers.CircleMarker at 0x7f15cc5a1e80>,\n",
       " <folium.vector_layers.CircleMarker at 0x7f15cc5a1ba8>,\n",
       " <folium.vector_layers.CircleMarker at 0x7f15cc5a1668>,\n",
       " <folium.vector_layers.CircleMarker at 0x7f15cce15f98>,\n",
       " <folium.vector_layers.CircleMarker at 0x7f15cce15a58>,\n",
       " <folium.vector_layers.CircleMarker at 0x7f15cce15a90>,\n",
       " <folium.vector_layers.CircleMarker at 0x7f15cce15ef0>,\n",
       " <folium.vector_layers.CircleMarker at 0x7f159fbd9d68>,\n",
       " <folium.vector_layers.CircleMarker at 0x7f15cce15be0>,\n",
       " <folium.vector_layers.CircleMarker at 0x7f15d08df828>,\n",
       " <folium.vector_layers.CircleMarker at 0x7f15d08df710>,\n",
       " <folium.vector_layers.CircleMarker at 0x7f15d08df6d8>,\n",
       " <folium.vector_layers.CircleMarker at 0x7f15d08df7f0>,\n",
       " <folium.vector_layers.CircleMarker at 0x7f15d08df860>,\n",
       " <folium.vector_layers.CircleMarker at 0x7f15d08df7b8>,\n",
       " <folium.vector_layers.CircleMarker at 0x7f15d08df748>,\n",
       " <folium.vector_layers.CircleMarker at 0x7f15d08df908>,\n",
       " <folium.vector_layers.CircleMarker at 0x7f15d08dfda0>,\n",
       " <folium.vector_layers.CircleMarker at 0x7f15d08dfa90>,\n",
       " <folium.vector_layers.CircleMarker at 0x7f15d08dfbe0>,\n",
       " <folium.vector_layers.CircleMarker at 0x7f15d08dfc18>,\n",
       " <folium.vector_layers.CircleMarker at 0x7f15d08df9e8>,\n",
       " <folium.vector_layers.CircleMarker at 0x7f15d08df940>,\n",
       " <folium.vector_layers.CircleMarker at 0x7f15d08dfeb8>,\n",
       " <folium.vector_layers.CircleMarker at 0x7f15d08dfdd8>,\n",
       " <folium.vector_layers.CircleMarker at 0x7f15d08dfcc0>,\n",
       " <folium.vector_layers.CircleMarker at 0x7f15d08dfcf8>,\n",
       " <folium.vector_layers.CircleMarker at 0x7f15d08dff60>,\n",
       " <folium.vector_layers.CircleMarker at 0x7f15d08dff98>,\n",
       " <folium.vector_layers.CircleMarker at 0x7f15d08dfe80>,\n",
       " <folium.vector_layers.CircleMarker at 0x7f15d08dfb38>,\n",
       " <folium.vector_layers.CircleMarker at 0x7f15d08f4128>,\n",
       " <folium.vector_layers.CircleMarker at 0x7f15d08f4198>,\n",
       " <folium.vector_layers.CircleMarker at 0x7f15d08f4080>,\n",
       " <folium.vector_layers.CircleMarker at 0x7f15d08f4390>,\n",
       " <folium.vector_layers.CircleMarker at 0x7f15d08f42e8>,\n",
       " <folium.vector_layers.CircleMarker at 0x7f15d08f4240>,\n",
       " <folium.vector_layers.CircleMarker at 0x7f15d08f4160>,\n",
       " <folium.vector_layers.CircleMarker at 0x7f15d08f4710>,\n",
       " <folium.vector_layers.CircleMarker at 0x7f15d08f4588>,\n",
       " <folium.vector_layers.CircleMarker at 0x7f15d08f45f8>,\n",
       " <folium.vector_layers.CircleMarker at 0x7f15d08f44e0>,\n",
       " <folium.vector_layers.CircleMarker at 0x7f15d08f4438>,\n",
       " <folium.vector_layers.CircleMarker at 0x7f15d08f47b8>,\n",
       " <folium.vector_layers.CircleMarker at 0x7f15d08f47f0>,\n",
       " <folium.vector_layers.CircleMarker at 0x7f15d08f46d8>,\n",
       " <folium.vector_layers.CircleMarker at 0x7f15d08f46a0>,\n",
       " <folium.vector_layers.CircleMarker at 0x7f15d08f4a58>,\n",
       " <folium.vector_layers.CircleMarker at 0x7f15d08f4978>,\n",
       " <folium.vector_layers.CircleMarker at 0x7f15d08f49b0>,\n",
       " <folium.vector_layers.CircleMarker at 0x7f15d08f4898>,\n",
       " <folium.vector_layers.CircleMarker at 0x7f15d08f48d0>,\n",
       " <folium.vector_layers.CircleMarker at 0x7f15d08f4cc0>,\n",
       " <folium.vector_layers.CircleMarker at 0x7f15d08f4ba8>,\n",
       " <folium.vector_layers.CircleMarker at 0x7f15d08f4be0>,\n",
       " <folium.vector_layers.CircleMarker at 0x7f15d08f4b00>,\n",
       " <folium.vector_layers.CircleMarker at 0x7f15d08f4e10>,\n",
       " <folium.vector_layers.CircleMarker at 0x7f15d08f4e48>,\n",
       " <folium.vector_layers.CircleMarker at 0x7f15d08f4d68>,\n",
       " <folium.vector_layers.CircleMarker at 0x7f15d08f4c88>,\n",
       " <folium.vector_layers.CircleMarker at 0x7f15d08f4fd0>,\n",
       " <folium.vector_layers.CircleMarker at 0x7f15d08f4ef0>,\n",
       " <folium.vector_layers.CircleMarker at 0x7f15d08f4f28>,\n",
       " <folium.vector_layers.CircleMarker at 0x7f15d08f45c0>,\n",
       " <folium.vector_layers.CircleMarker at 0x7f15d08f60f0>,\n",
       " <folium.vector_layers.CircleMarker at 0x7f15d08f6390>,\n",
       " <folium.vector_layers.CircleMarker at 0x7f15d08f62e8>,\n",
       " <folium.vector_layers.CircleMarker at 0x7f15d08f6240>,\n",
       " <folium.vector_layers.CircleMarker at 0x7f15d08f6198>,\n",
       " <folium.vector_layers.CircleMarker at 0x7f15d08f6668>,\n",
       " <folium.vector_layers.CircleMarker at 0x7f15d08f65c0>,\n",
       " <folium.vector_layers.CircleMarker at 0x7f15d08f64e0>,\n",
       " <folium.vector_layers.CircleMarker at 0x7f15d08f6518>,\n",
       " <folium.vector_layers.CircleMarker at 0x7f15d08f6438>,\n",
       " <folium.vector_layers.CircleMarker at 0x7f15d08f6908>,\n",
       " <folium.vector_layers.CircleMarker at 0x7f15d08f6940>,\n",
       " <folium.vector_layers.CircleMarker at 0x7f15d08f6860>,\n",
       " <folium.vector_layers.CircleMarker at 0x7f15d08f67b8>,\n",
       " <folium.vector_layers.CircleMarker at 0x7f15d08f6710>,\n",
       " <folium.vector_layers.CircleMarker at 0x7f15d08f6a90>,\n",
       " <folium.vector_layers.CircleMarker at 0x7f15d08f69e8>,\n",
       " <folium.vector_layers.CircleMarker at 0x7f15d08f6048>,\n",
       " <folium.vector_layers.CircleMarker at 0x7f15cc44b518>,\n",
       " <folium.vector_layers.CircleMarker at 0x7f15cc44bef0>,\n",
       " <folium.vector_layers.CircleMarker at 0x7f15cc44b0f0>,\n",
       " <folium.vector_layers.CircleMarker at 0x7f15cc44b0b8>,\n",
       " <folium.vector_layers.CircleMarker at 0x7f15cc44b080>,\n",
       " <folium.vector_layers.CircleMarker at 0x7f15cc44b048>,\n",
       " <folium.vector_layers.CircleMarker at 0x7f15cc44b1d0>,\n",
       " <folium.vector_layers.CircleMarker at 0x7f15cc44b198>,\n",
       " <folium.vector_layers.CircleMarker at 0x7f15cc44b160>,\n",
       " <folium.vector_layers.CircleMarker at 0x7f15cc44b128>,\n",
       " <folium.vector_layers.CircleMarker at 0x7f15cc44b320>,\n",
       " <folium.vector_layers.CircleMarker at 0x7f15cc44b2b0>,\n",
       " <folium.vector_layers.CircleMarker at 0x7f15cc44b278>,\n",
       " <folium.vector_layers.CircleMarker at 0x7f15cc44b240>,\n",
       " <folium.vector_layers.CircleMarker at 0x7f15cc44b208>,\n",
       " <folium.vector_layers.CircleMarker at 0x7f15cc44b400>,\n",
       " <folium.vector_layers.CircleMarker at 0x7f15cc44b3c8>,\n",
       " <folium.vector_layers.CircleMarker at 0x7f15cc44b390>,\n",
       " <folium.vector_layers.CircleMarker at 0x7f15cc44b358>,\n",
       " <folium.vector_layers.CircleMarker at 0x7f15cc44b550>,\n",
       " <folium.vector_layers.CircleMarker at 0x7f15cc44b4e0>,\n",
       " <folium.vector_layers.CircleMarker at 0x7f15cc44b4a8>,\n",
       " <folium.vector_layers.CircleMarker at 0x7f15cc44b470>,\n",
       " <folium.vector_layers.CircleMarker at 0x7f15cc44b438>,\n",
       " <folium.vector_layers.CircleMarker at 0x7f15cc44b630>,\n",
       " <folium.vector_layers.CircleMarker at 0x7f15cc44b5f8>,\n",
       " <folium.vector_layers.CircleMarker at 0x7f15cc44b5c0>,\n",
       " <folium.vector_layers.CircleMarker at 0x7f15cc44b588>,\n",
       " <folium.vector_layers.CircleMarker at 0x7f15cc44b2e8>,\n",
       " <folium.vector_layers.CircleMarker at 0x7f159f9559b0>,\n",
       " <folium.vector_layers.CircleMarker at 0x7f159f9559e8>,\n",
       " <folium.vector_layers.CircleMarker at 0x7f159f955a20>,\n",
       " <folium.vector_layers.CircleMarker at 0x7f159f955a58>,\n",
       " <folium.vector_layers.CircleMarker at 0x7f159f955a90>,\n",
       " <folium.vector_layers.CircleMarker at 0x7f159f955ac8>,\n",
       " <folium.vector_layers.CircleMarker at 0x7f159f955b00>,\n",
       " <folium.vector_layers.CircleMarker at 0x7f159f955b38>,\n",
       " <folium.vector_layers.CircleMarker at 0x7f159f955b70>,\n",
       " <folium.vector_layers.CircleMarker at 0x7f159f955ba8>,\n",
       " <folium.vector_layers.CircleMarker at 0x7f159f955be0>,\n",
       " <folium.vector_layers.CircleMarker at 0x7f159f955c18>,\n",
       " <folium.vector_layers.CircleMarker at 0x7f159f955c50>,\n",
       " <folium.vector_layers.CircleMarker at 0x7f159f955c88>,\n",
       " <folium.vector_layers.CircleMarker at 0x7f159f955cc0>,\n",
       " <folium.vector_layers.CircleMarker at 0x7f159f955cf8>,\n",
       " <folium.vector_layers.CircleMarker at 0x7f159f955d30>,\n",
       " <folium.vector_layers.CircleMarker at 0x7f159f955d68>,\n",
       " <folium.vector_layers.CircleMarker at 0x7f159f955da0>,\n",
       " <folium.vector_layers.CircleMarker at 0x7f159f955dd8>,\n",
       " <folium.vector_layers.CircleMarker at 0x7f159f955e10>,\n",
       " <folium.vector_layers.CircleMarker at 0x7f159f955e48>,\n",
       " <folium.vector_layers.CircleMarker at 0x7f159f955e80>,\n",
       " <folium.vector_layers.CircleMarker at 0x7f159f955eb8>,\n",
       " <folium.vector_layers.CircleMarker at 0x7f159f955ef0>,\n",
       " <folium.vector_layers.CircleMarker at 0x7f159f955f28>,\n",
       " <folium.vector_layers.CircleMarker at 0x7f159f955f60>,\n",
       " <folium.vector_layers.CircleMarker at 0x7f159f955f98>,\n",
       " <folium.vector_layers.CircleMarker at 0x7f159f955fd0>,\n",
       " <folium.vector_layers.CircleMarker at 0x7f159f955978>,\n",
       " <folium.vector_layers.CircleMarker at 0x7f159fbf3080>,\n",
       " <folium.vector_layers.CircleMarker at 0x7f159fbf30b8>,\n",
       " <folium.vector_layers.CircleMarker at 0x7f159fbf30f0>,\n",
       " <folium.vector_layers.CircleMarker at 0x7f159fbf3128>,\n",
       " <folium.vector_layers.CircleMarker at 0x7f159fbf3160>,\n",
       " <folium.vector_layers.CircleMarker at 0x7f159fbf3198>,\n",
       " <folium.vector_layers.CircleMarker at 0x7f159fbf31d0>,\n",
       " <folium.vector_layers.CircleMarker at 0x7f159fbf3208>,\n",
       " <folium.vector_layers.CircleMarker at 0x7f159fbf3240>,\n",
       " <folium.vector_layers.CircleMarker at 0x7f159fbf3278>,\n",
       " <folium.vector_layers.CircleMarker at 0x7f159fbf32b0>,\n",
       " <folium.vector_layers.CircleMarker at 0x7f159fbf32e8>,\n",
       " <folium.vector_layers.CircleMarker at 0x7f159fbf3320>,\n",
       " <folium.vector_layers.CircleMarker at 0x7f159fbf3358>,\n",
       " <folium.vector_layers.CircleMarker at 0x7f159fbf3390>,\n",
       " <folium.vector_layers.CircleMarker at 0x7f159fbf33c8>,\n",
       " <folium.vector_layers.CircleMarker at 0x7f159fbf3400>,\n",
       " <folium.vector_layers.CircleMarker at 0x7f159fbf3438>,\n",
       " <folium.vector_layers.CircleMarker at 0x7f159fbf3470>,\n",
       " <folium.vector_layers.CircleMarker at 0x7f159fbf34a8>,\n",
       " <folium.vector_layers.CircleMarker at 0x7f159fbf34e0>,\n",
       " <folium.vector_layers.CircleMarker at 0x7f159fbf3518>,\n",
       " <folium.vector_layers.CircleMarker at 0x7f159fbf3550>,\n",
       " <folium.vector_layers.CircleMarker at 0x7f159fbf3588>,\n",
       " <folium.vector_layers.CircleMarker at 0x7f159fbf35c0>,\n",
       " <folium.vector_layers.CircleMarker at 0x7f159fbf35f8>,\n",
       " <folium.vector_layers.CircleMarker at 0x7f159fbf3630>,\n",
       " <folium.vector_layers.CircleMarker at 0x7f159fbf3668>,\n",
       " <folium.vector_layers.CircleMarker at 0x7f159fbf36a0>,\n",
       " <folium.vector_layers.CircleMarker at 0x7f159fbf36d8>,\n",
       " <folium.vector_layers.CircleMarker at 0x7f159fbf3710>,\n",
       " <folium.vector_layers.CircleMarker at 0x7f159fbf3748>,\n",
       " <folium.vector_layers.CircleMarker at 0x7f159fbf3780>,\n",
       " <folium.vector_layers.CircleMarker at 0x7f159fbf37b8>,\n",
       " <folium.vector_layers.CircleMarker at 0x7f159fbf37f0>,\n",
       " <folium.vector_layers.CircleMarker at 0x7f159fbf3828>,\n",
       " <folium.vector_layers.CircleMarker at 0x7f159fbf3860>,\n",
       " <folium.vector_layers.CircleMarker at 0x7f159fbf3898>,\n",
       " <folium.vector_layers.CircleMarker at 0x7f159fbf38d0>,\n",
       " <folium.vector_layers.CircleMarker at 0x7f159fbf3908>,\n",
       " <folium.vector_layers.CircleMarker at 0x7f159fbf3940>,\n",
       " <folium.vector_layers.CircleMarker at 0x7f159fbf3978>,\n",
       " <folium.vector_layers.CircleMarker at 0x7f159fbf39b0>,\n",
       " <folium.vector_layers.CircleMarker at 0x7f159fbf39e8>,\n",
       " <folium.vector_layers.CircleMarker at 0x7f159fbf3a20>,\n",
       " <folium.vector_layers.CircleMarker at 0x7f159fbf3a58>,\n",
       " <folium.vector_layers.CircleMarker at 0x7f159fbf3a90>,\n",
       " <folium.vector_layers.CircleMarker at 0x7f159fbf3ac8>,\n",
       " <folium.vector_layers.CircleMarker at 0x7f159fbf3b00>,\n",
       " <folium.vector_layers.CircleMarker at 0x7f159fbf3b38>,\n",
       " <folium.vector_layers.CircleMarker at 0x7f159fbf3b70>,\n",
       " <folium.vector_layers.CircleMarker at 0x7f159fbf3ba8>,\n",
       " <folium.vector_layers.CircleMarker at 0x7f159fbf3be0>,\n",
       " <folium.vector_layers.CircleMarker at 0x7f159fbf3c18>,\n",
       " <folium.vector_layers.CircleMarker at 0x7f159fbf3c50>,\n",
       " <folium.vector_layers.CircleMarker at 0x7f159fbf3c88>,\n",
       " <folium.vector_layers.CircleMarker at 0x7f159fbf3cc0>,\n",
       " <folium.vector_layers.CircleMarker at 0x7f159fbf3cf8>,\n",
       " <folium.vector_layers.CircleMarker at 0x7f159fbf3d30>,\n",
       " <folium.vector_layers.CircleMarker at 0x7f159fbf3d68>,\n",
       " <folium.vector_layers.CircleMarker at 0x7f159fbf3da0>,\n",
       " <folium.vector_layers.CircleMarker at 0x7f159fbf3dd8>,\n",
       " <folium.vector_layers.CircleMarker at 0x7f159fbf3e10>,\n",
       " <folium.vector_layers.CircleMarker at 0x7f159fbf3e48>,\n",
       " <folium.vector_layers.CircleMarker at 0x7f159fbf3e80>,\n",
       " <folium.vector_layers.CircleMarker at 0x7f159fbf3eb8>,\n",
       " <folium.vector_layers.CircleMarker at 0x7f159fbf3ef0>,\n",
       " <folium.vector_layers.CircleMarker at 0x7f159fbf3f28>,\n",
       " <folium.vector_layers.CircleMarker at 0x7f159fbf3f60>,\n",
       " <folium.vector_layers.CircleMarker at 0x7f159fbf3f98>,\n",
       " <folium.vector_layers.CircleMarker at 0x7f159fbf3fd0>,\n",
       " <folium.vector_layers.CircleMarker at 0x7f159fbf3048>,\n",
       " <folium.vector_layers.CircleMarker at 0x7f159fc03080>,\n",
       " <folium.vector_layers.CircleMarker at 0x7f159fc030b8>,\n",
       " <folium.vector_layers.CircleMarker at 0x7f159fc030f0>,\n",
       " <folium.vector_layers.CircleMarker at 0x7f159fc03128>,\n",
       " <folium.vector_layers.CircleMarker at 0x7f159fc03160>,\n",
       " <folium.vector_layers.CircleMarker at 0x7f159fc03198>,\n",
       " <folium.vector_layers.CircleMarker at 0x7f159fc031d0>,\n",
       " <folium.vector_layers.CircleMarker at 0x7f159fc03208>,\n",
       " <folium.vector_layers.CircleMarker at 0x7f159fc03240>,\n",
       " <folium.vector_layers.CircleMarker at 0x7f159fc03278>,\n",
       " <folium.vector_layers.CircleMarker at 0x7f159fc032b0>,\n",
       " <folium.vector_layers.CircleMarker at 0x7f159fc032e8>,\n",
       " <folium.vector_layers.CircleMarker at 0x7f159fc03320>,\n",
       " <folium.vector_layers.CircleMarker at 0x7f159fc03358>,\n",
       " <folium.vector_layers.CircleMarker at 0x7f159fc03390>,\n",
       " <folium.vector_layers.CircleMarker at 0x7f159fc033c8>,\n",
       " <folium.vector_layers.CircleMarker at 0x7f159fc03400>,\n",
       " <folium.vector_layers.CircleMarker at 0x7f159fc03438>,\n",
       " <folium.vector_layers.CircleMarker at 0x7f159fc03470>,\n",
       " <folium.vector_layers.CircleMarker at 0x7f159fc034a8>,\n",
       " <folium.vector_layers.CircleMarker at 0x7f159fc034e0>,\n",
       " <folium.vector_layers.CircleMarker at 0x7f159fc03518>,\n",
       " <folium.vector_layers.CircleMarker at 0x7f159fc03550>,\n",
       " <folium.vector_layers.CircleMarker at 0x7f159fc03588>,\n",
       " <folium.vector_layers.CircleMarker at 0x7f159fc035c0>,\n",
       " <folium.vector_layers.CircleMarker at 0x7f159fc035f8>,\n",
       " <folium.vector_layers.CircleMarker at 0x7f159fc03630>,\n",
       " <folium.vector_layers.CircleMarker at 0x7f159fc03668>,\n",
       " <folium.vector_layers.CircleMarker at 0x7f159fc036a0>,\n",
       " <folium.vector_layers.CircleMarker at 0x7f159fc036d8>,\n",
       " <folium.vector_layers.CircleMarker at 0x7f159fc03710>,\n",
       " <folium.vector_layers.CircleMarker at 0x7f159fc03748>,\n",
       " <folium.vector_layers.CircleMarker at 0x7f159fc03780>,\n",
       " <folium.vector_layers.CircleMarker at 0x7f159fc037b8>,\n",
       " <folium.vector_layers.CircleMarker at 0x7f159fc037f0>,\n",
       " <folium.vector_layers.CircleMarker at 0x7f159fc03828>,\n",
       " <folium.vector_layers.CircleMarker at 0x7f159fc03860>,\n",
       " <folium.vector_layers.CircleMarker at 0x7f159fc03898>,\n",
       " <folium.vector_layers.CircleMarker at 0x7f159fc038d0>,\n",
       " <folium.vector_layers.CircleMarker at 0x7f159fc03908>,\n",
       " <folium.vector_layers.CircleMarker at 0x7f159fc03940>,\n",
       " <folium.vector_layers.CircleMarker at 0x7f159fc03978>,\n",
       " <folium.vector_layers.CircleMarker at 0x7f159fc039b0>,\n",
       " <folium.vector_layers.CircleMarker at 0x7f159fc039e8>,\n",
       " <folium.vector_layers.CircleMarker at 0x7f159fc03a20>,\n",
       " <folium.vector_layers.CircleMarker at 0x7f159fc03a58>,\n",
       " <folium.vector_layers.CircleMarker at 0x7f159fc03a90>,\n",
       " <folium.vector_layers.CircleMarker at 0x7f159fc03ac8>,\n",
       " <folium.vector_layers.CircleMarker at 0x7f159fc03b00>,\n",
       " <folium.vector_layers.CircleMarker at 0x7f159fc03b38>,\n",
       " <folium.vector_layers.CircleMarker at 0x7f159fc03b70>,\n",
       " <folium.vector_layers.CircleMarker at 0x7f159fc03ba8>,\n",
       " <folium.vector_layers.CircleMarker at 0x7f159fc03be0>,\n",
       " <folium.vector_layers.CircleMarker at 0x7f159fc03c18>,\n",
       " <folium.vector_layers.CircleMarker at 0x7f159fc03c50>,\n",
       " <folium.vector_layers.CircleMarker at 0x7f159fc03c88>,\n",
       " <folium.vector_layers.CircleMarker at 0x7f159fc03cc0>,\n",
       " <folium.vector_layers.CircleMarker at 0x7f159fc03cf8>,\n",
       " <folium.vector_layers.CircleMarker at 0x7f159fc03d30>,\n",
       " <folium.vector_layers.CircleMarker at 0x7f159fc03d68>,\n",
       " <folium.vector_layers.CircleMarker at 0x7f159fc03da0>,\n",
       " <folium.vector_layers.CircleMarker at 0x7f159fc03dd8>,\n",
       " <folium.vector_layers.CircleMarker at 0x7f159fc03e10>,\n",
       " <folium.vector_layers.CircleMarker at 0x7f159fc03e48>,\n",
       " <folium.vector_layers.CircleMarker at 0x7f159fc03e80>,\n",
       " <folium.vector_layers.CircleMarker at 0x7f159fc03eb8>,\n",
       " <folium.vector_layers.CircleMarker at 0x7f159fc03ef0>,\n",
       " <folium.vector_layers.CircleMarker at 0x7f159fc03f28>,\n",
       " <folium.vector_layers.CircleMarker at 0x7f159fc03f60>,\n",
       " <folium.vector_layers.CircleMarker at 0x7f159fc03f98>,\n",
       " <folium.vector_layers.CircleMarker at 0x7f159fc03fd0>,\n",
       " <folium.vector_layers.CircleMarker at 0x7f159fc03048>,\n",
       " <folium.vector_layers.CircleMarker at 0x7f15cc4c3080>,\n",
       " <folium.vector_layers.CircleMarker at 0x7f15cc4c30b8>,\n",
       " <folium.vector_layers.CircleMarker at 0x7f15cc4c30f0>,\n",
       " <folium.vector_layers.CircleMarker at 0x7f15cc4c3128>,\n",
       " <folium.vector_layers.CircleMarker at 0x7f15cc4c3160>,\n",
       " <folium.vector_layers.CircleMarker at 0x7f15cc4c3198>,\n",
       " <folium.vector_layers.CircleMarker at 0x7f15cc4c31d0>,\n",
       " <folium.vector_layers.CircleMarker at 0x7f15cc4c3208>,\n",
       " <folium.vector_layers.CircleMarker at 0x7f15cc4c3240>,\n",
       " <folium.vector_layers.CircleMarker at 0x7f15cc4c3278>,\n",
       " <folium.vector_layers.CircleMarker at 0x7f15cc4c32b0>,\n",
       " <folium.vector_layers.CircleMarker at 0x7f15cc4c32e8>,\n",
       " <folium.vector_layers.CircleMarker at 0x7f15cc4c3320>,\n",
       " <folium.vector_layers.CircleMarker at 0x7f15cc4c3358>,\n",
       " <folium.vector_layers.CircleMarker at 0x7f15cc4c3390>,\n",
       " <folium.vector_layers.CircleMarker at 0x7f15cc4c33c8>,\n",
       " <folium.vector_layers.CircleMarker at 0x7f15cc4c3400>,\n",
       " <folium.vector_layers.CircleMarker at 0x7f15cc4c3438>,\n",
       " <folium.vector_layers.CircleMarker at 0x7f15cc4c3470>,\n",
       " <folium.vector_layers.CircleMarker at 0x7f15cc4c34a8>,\n",
       " <folium.vector_layers.CircleMarker at 0x7f15cc4c34e0>,\n",
       " <folium.vector_layers.CircleMarker at 0x7f15cc4c3518>,\n",
       " <folium.vector_layers.CircleMarker at 0x7f15cc4c3550>,\n",
       " <folium.vector_layers.CircleMarker at 0x7f15cc4c3588>,\n",
       " <folium.vector_layers.CircleMarker at 0x7f15cc4c35c0>,\n",
       " <folium.vector_layers.CircleMarker at 0x7f15cc4c35f8>,\n",
       " <folium.vector_layers.CircleMarker at 0x7f15cc4c3630>,\n",
       " <folium.vector_layers.CircleMarker at 0x7f15cc4c3668>,\n",
       " <folium.vector_layers.CircleMarker at 0x7f15cc4c36a0>,\n",
       " <folium.vector_layers.CircleMarker at 0x7f15cc4c36d8>,\n",
       " <folium.vector_layers.CircleMarker at 0x7f15cc4c3710>,\n",
       " <folium.vector_layers.CircleMarker at 0x7f15cc4c3748>,\n",
       " <folium.vector_layers.CircleMarker at 0x7f15cc4c3780>,\n",
       " <folium.vector_layers.CircleMarker at 0x7f15cc4c37b8>,\n",
       " <folium.vector_layers.CircleMarker at 0x7f15cc4c37f0>,\n",
       " <folium.vector_layers.CircleMarker at 0x7f15cc4c3828>,\n",
       " <folium.vector_layers.CircleMarker at 0x7f15cc4c3860>,\n",
       " <folium.vector_layers.CircleMarker at 0x7f15cc4c3898>,\n",
       " <folium.vector_layers.CircleMarker at 0x7f15cc4c38d0>,\n",
       " <folium.vector_layers.CircleMarker at 0x7f15cc4c3908>,\n",
       " <folium.vector_layers.CircleMarker at 0x7f15cc4c3940>,\n",
       " <folium.vector_layers.CircleMarker at 0x7f15cc4c3978>,\n",
       " <folium.vector_layers.CircleMarker at 0x7f15cc4c39b0>,\n",
       " <folium.vector_layers.CircleMarker at 0x7f15cc4c39e8>,\n",
       " <folium.vector_layers.CircleMarker at 0x7f15cc4c3a20>,\n",
       " <folium.vector_layers.CircleMarker at 0x7f15cc4c3a58>,\n",
       " <folium.vector_layers.CircleMarker at 0x7f15cc4c3a90>,\n",
       " <folium.vector_layers.CircleMarker at 0x7f15cc4c3ac8>,\n",
       " <folium.vector_layers.CircleMarker at 0x7f15cc4c3b00>,\n",
       " <folium.vector_layers.CircleMarker at 0x7f15cc4c3b38>,\n",
       " <folium.vector_layers.CircleMarker at 0x7f15cc4c3b70>,\n",
       " <folium.vector_layers.CircleMarker at 0x7f15cc4c3ba8>,\n",
       " <folium.vector_layers.CircleMarker at 0x7f15cc4c3be0>,\n",
       " <folium.vector_layers.CircleMarker at 0x7f15cc4c3c18>,\n",
       " <folium.vector_layers.CircleMarker at 0x7f15cc4c3c50>,\n",
       " <folium.vector_layers.CircleMarker at 0x7f15cc4c3c88>,\n",
       " <folium.vector_layers.CircleMarker at 0x7f15cc4c3cc0>,\n",
       " <folium.vector_layers.CircleMarker at 0x7f15cc4c3cf8>,\n",
       " <folium.vector_layers.CircleMarker at 0x7f15cc4c3d30>,\n",
       " <folium.vector_layers.CircleMarker at 0x7f15cc4c3d68>,\n",
       " <folium.vector_layers.CircleMarker at 0x7f15cc4c3da0>,\n",
       " <folium.vector_layers.CircleMarker at 0x7f15cc4c3dd8>,\n",
       " <folium.vector_layers.CircleMarker at 0x7f15cc4c3e10>,\n",
       " <folium.vector_layers.CircleMarker at 0x7f15cc4c3e48>,\n",
       " <folium.vector_layers.CircleMarker at 0x7f15cc4c3e80>,\n",
       " <folium.vector_layers.CircleMarker at 0x7f15cc4c3eb8>,\n",
       " <folium.vector_layers.CircleMarker at 0x7f15cc4c3ef0>,\n",
       " <folium.vector_layers.CircleMarker at 0x7f15cc4c3f28>,\n",
       " <folium.vector_layers.CircleMarker at 0x7f15cc4c3f60>,\n",
       " <folium.vector_layers.CircleMarker at 0x7f15cc4c3f98>,\n",
       " <folium.vector_layers.CircleMarker at 0x7f15cc4c3fd0>,\n",
       " <folium.vector_layers.CircleMarker at 0x7f15cc4c3048>,\n",
       " <folium.vector_layers.CircleMarker at 0x7f15cc4d3080>,\n",
       " <folium.vector_layers.CircleMarker at 0x7f15cc4d30b8>,\n",
       " <folium.vector_layers.CircleMarker at 0x7f15cc4d30f0>,\n",
       " <folium.vector_layers.CircleMarker at 0x7f15cc4d3128>,\n",
       " <folium.vector_layers.CircleMarker at 0x7f15cc4d3160>,\n",
       " <folium.vector_layers.CircleMarker at 0x7f15cc4d3198>,\n",
       " <folium.vector_layers.CircleMarker at 0x7f15cc4d31d0>,\n",
       " <folium.vector_layers.CircleMarker at 0x7f15cc4d3208>,\n",
       " <folium.vector_layers.CircleMarker at 0x7f15cc4d3240>,\n",
       " <folium.vector_layers.CircleMarker at 0x7f15cc4d3278>,\n",
       " <folium.vector_layers.CircleMarker at 0x7f15cc4d32b0>,\n",
       " <folium.vector_layers.CircleMarker at 0x7f15cc4d32e8>,\n",
       " <folium.vector_layers.CircleMarker at 0x7f15cc4d3320>,\n",
       " <folium.vector_layers.CircleMarker at 0x7f15cc4d3358>,\n",
       " <folium.vector_layers.CircleMarker at 0x7f15cc4d3390>,\n",
       " <folium.vector_layers.CircleMarker at 0x7f15cc4d33c8>,\n",
       " <folium.vector_layers.CircleMarker at 0x7f15cc4d3400>,\n",
       " <folium.vector_layers.CircleMarker at 0x7f15cc4d3438>,\n",
       " <folium.vector_layers.CircleMarker at 0x7f15cc4d3470>,\n",
       " <folium.vector_layers.CircleMarker at 0x7f15cc4d34a8>,\n",
       " <folium.vector_layers.CircleMarker at 0x7f15cc4d34e0>,\n",
       " <folium.vector_layers.CircleMarker at 0x7f15cc4d3518>,\n",
       " <folium.vector_layers.CircleMarker at 0x7f15cc4d3550>,\n",
       " <folium.vector_layers.CircleMarker at 0x7f15cc4d3588>,\n",
       " <folium.vector_layers.CircleMarker at 0x7f15cc4d35c0>,\n",
       " <folium.vector_layers.CircleMarker at 0x7f15cc4d35f8>,\n",
       " <folium.vector_layers.CircleMarker at 0x7f15cc4d3630>,\n",
       " <folium.vector_layers.CircleMarker at 0x7f15cc4d3668>,\n",
       " <folium.vector_layers.CircleMarker at 0x7f15cc4d36a0>,\n",
       " <folium.vector_layers.CircleMarker at 0x7f15cc4d36d8>,\n",
       " <folium.vector_layers.CircleMarker at 0x7f15cc4d3710>,\n",
       " <folium.vector_layers.CircleMarker at 0x7f15cc4d3748>,\n",
       " <folium.vector_layers.CircleMarker at 0x7f15cc4d3780>,\n",
       " <folium.vector_layers.CircleMarker at 0x7f15cc4d37b8>,\n",
       " <folium.vector_layers.CircleMarker at 0x7f15cc4d37f0>,\n",
       " <folium.vector_layers.CircleMarker at 0x7f15cc4d3828>,\n",
       " <folium.vector_layers.CircleMarker at 0x7f15cc4d3860>,\n",
       " <folium.vector_layers.CircleMarker at 0x7f15cc4d3898>,\n",
       " <folium.vector_layers.CircleMarker at 0x7f15cc4d38d0>,\n",
       " <folium.vector_layers.CircleMarker at 0x7f15cc4d3908>,\n",
       " <folium.vector_layers.CircleMarker at 0x7f15cc4d3940>,\n",
       " <folium.vector_layers.CircleMarker at 0x7f15cc4d3978>,\n",
       " <folium.vector_layers.CircleMarker at 0x7f15cc4d39b0>,\n",
       " <folium.vector_layers.CircleMarker at 0x7f15cc4d39e8>,\n",
       " <folium.vector_layers.CircleMarker at 0x7f15cc4d3a20>,\n",
       " <folium.vector_layers.CircleMarker at 0x7f15cc4d3a58>,\n",
       " <folium.vector_layers.CircleMarker at 0x7f15cc4d3a90>,\n",
       " <folium.vector_layers.CircleMarker at 0x7f15cc4d3ac8>,\n",
       " <folium.vector_layers.CircleMarker at 0x7f15cc4d3b00>,\n",
       " <folium.vector_layers.CircleMarker at 0x7f15cc4d3b38>,\n",
       " <folium.vector_layers.CircleMarker at 0x7f15cc4d3b70>,\n",
       " <folium.vector_layers.CircleMarker at 0x7f15cc4d3ba8>,\n",
       " <folium.vector_layers.CircleMarker at 0x7f15cc4d3be0>,\n",
       " <folium.vector_layers.CircleMarker at 0x7f15cc4d3c18>,\n",
       " <folium.vector_layers.CircleMarker at 0x7f15cc4d3c50>,\n",
       " <folium.vector_layers.CircleMarker at 0x7f15cc4d3c88>,\n",
       " <folium.vector_layers.CircleMarker at 0x7f15cc4d3cc0>,\n",
       " <folium.vector_layers.CircleMarker at 0x7f15cc4d3cf8>,\n",
       " <folium.vector_layers.CircleMarker at 0x7f15cc4d3d30>,\n",
       " <folium.vector_layers.CircleMarker at 0x7f15cc4d3d68>,\n",
       " <folium.vector_layers.CircleMarker at 0x7f15cc4d3da0>,\n",
       " <folium.vector_layers.CircleMarker at 0x7f15cc4d3dd8>,\n",
       " <folium.vector_layers.CircleMarker at 0x7f15cc4d3e10>,\n",
       " <folium.vector_layers.CircleMarker at 0x7f15cc4d3e48>,\n",
       " <folium.vector_layers.CircleMarker at 0x7f15cc4d3e80>,\n",
       " <folium.vector_layers.CircleMarker at 0x7f15cc4d3eb8>,\n",
       " <folium.vector_layers.CircleMarker at 0x7f15cc4d3ef0>,\n",
       " <folium.vector_layers.CircleMarker at 0x7f15cc4d3f28>,\n",
       " <folium.vector_layers.CircleMarker at 0x7f15cc4d3f60>,\n",
       " <folium.vector_layers.CircleMarker at 0x7f15cc4d3f98>,\n",
       " <folium.vector_layers.CircleMarker at 0x7f15cc4d3fd0>,\n",
       " <folium.vector_layers.CircleMarker at 0x7f15cc4d3048>,\n",
       " <folium.vector_layers.CircleMarker at 0x7f15cc416438>,\n",
       " <folium.vector_layers.CircleMarker at 0x7f15cc416668>,\n",
       " <folium.vector_layers.CircleMarker at 0x7f15cc416c18>,\n",
       " <folium.vector_layers.CircleMarker at 0x7f15cc4160f0>,\n",
       " <folium.vector_layers.CircleMarker at 0x7f15cc416080>,\n",
       " <folium.vector_layers.CircleMarker at 0x7f15cc416048>,\n",
       " <folium.vector_layers.CircleMarker at 0x7f15cc416208>,\n",
       " <folium.vector_layers.CircleMarker at 0x7f15cc4161d0>,\n",
       " <folium.vector_layers.CircleMarker at 0x7f15cc416198>,\n",
       " <folium.vector_layers.CircleMarker at 0x7f15cc416160>,\n",
       " <folium.vector_layers.CircleMarker at 0x7f15cc416128>,\n",
       " <folium.vector_layers.CircleMarker at 0x7f15cc416358>,\n",
       " <folium.vector_layers.CircleMarker at 0x7f15cc416320>,\n",
       " <folium.vector_layers.CircleMarker at 0x7f15cc4162e8>,\n",
       " <folium.vector_layers.CircleMarker at 0x7f15cc4162b0>,\n",
       " <folium.vector_layers.CircleMarker at 0x7f15cc416278>,\n",
       " <folium.vector_layers.CircleMarker at 0x7f15cc416240>,\n",
       " <folium.vector_layers.CircleMarker at 0x7f15cc416470>,\n",
       " <folium.vector_layers.CircleMarker at 0x7f15cc416400>,\n",
       " <folium.vector_layers.CircleMarker at 0x7f15cc4163c8>,\n",
       " <folium.vector_layers.CircleMarker at 0x7f15cc416390>,\n",
       " <folium.vector_layers.CircleMarker at 0x7f15cc416550>,\n",
       " <folium.vector_layers.CircleMarker at 0x7f15cc416518>,\n",
       " <folium.vector_layers.CircleMarker at 0x7f15cc4164e0>,\n",
       " <folium.vector_layers.CircleMarker at 0x7f15cc4164a8>,\n",
       " <folium.vector_layers.CircleMarker at 0x7f15cc4166a0>,\n",
       " <folium.vector_layers.CircleMarker at 0x7f15cc416630>,\n",
       " <folium.vector_layers.CircleMarker at 0x7f15cc4165f8>,\n",
       " <folium.vector_layers.CircleMarker at 0x7f15cc4165c0>,\n",
       " <folium.vector_layers.CircleMarker at 0x7f15cc416588>,\n",
       " <folium.vector_layers.CircleMarker at 0x7f15cc4167b8>,\n",
       " <folium.vector_layers.CircleMarker at 0x7f15cc416780>,\n",
       " <folium.vector_layers.CircleMarker at 0x7f15cc416748>,\n",
       " <folium.vector_layers.CircleMarker at 0x7f15cc416710>,\n",
       " <folium.vector_layers.CircleMarker at 0x7f15cc4166d8>,\n",
       " <folium.vector_layers.CircleMarker at 0x7f15cc416898>,\n",
       " <folium.vector_layers.CircleMarker at 0x7f15cc416860>,\n",
       " <folium.vector_layers.CircleMarker at 0x7f15cc416828>,\n",
       " <folium.vector_layers.CircleMarker at 0x7f15cc4167f0>,\n",
       " <folium.vector_layers.CircleMarker at 0x7f15cc4169b0>,\n",
       " <folium.vector_layers.CircleMarker at 0x7f15cc416978>,\n",
       " <folium.vector_layers.CircleMarker at 0x7f15cc416940>,\n",
       " <folium.vector_layers.CircleMarker at 0x7f15cc416908>,\n",
       " <folium.vector_layers.CircleMarker at 0x7f15cc4168d0>,\n",
       " <folium.vector_layers.CircleMarker at 0x7f15cc416b00>,\n",
       " <folium.vector_layers.CircleMarker at 0x7f15cc416ac8>,\n",
       " <folium.vector_layers.CircleMarker at 0x7f15cc416a90>,\n",
       " <folium.vector_layers.CircleMarker at 0x7f15cc416a58>,\n",
       " <folium.vector_layers.CircleMarker at 0x7f15cc416a20>,\n",
       " <folium.vector_layers.CircleMarker at 0x7f15cc4169e8>,\n",
       " <folium.vector_layers.CircleMarker at 0x7f15cc416c50>,\n",
       " <folium.vector_layers.CircleMarker at 0x7f15cc416be0>,\n",
       " <folium.vector_layers.CircleMarker at 0x7f15cc416ba8>,\n",
       " <folium.vector_layers.CircleMarker at 0x7f15cc416b70>,\n",
       " <folium.vector_layers.CircleMarker at 0x7f15cc416b38>,\n",
       " <folium.vector_layers.CircleMarker at 0x7f15cc416da0>,\n",
       " <folium.vector_layers.CircleMarker at 0x7f15cc416d68>,\n",
       " <folium.vector_layers.CircleMarker at 0x7f15cc416d30>,\n",
       " <folium.vector_layers.CircleMarker at 0x7f15cc416cf8>,\n",
       " <folium.vector_layers.CircleMarker at 0x7f15cc416cc0>,\n",
       " <folium.vector_layers.CircleMarker at 0x7f15cc416c88>,\n",
       " <folium.vector_layers.CircleMarker at 0x7f15cc416ef0>,\n",
       " <folium.vector_layers.CircleMarker at 0x7f15cc416eb8>,\n",
       " <folium.vector_layers.CircleMarker at 0x7f15cc416e80>,\n",
       " <folium.vector_layers.CircleMarker at 0x7f15cc416e48>,\n",
       " <folium.vector_layers.CircleMarker at 0x7f15cc416e10>,\n",
       " <folium.vector_layers.CircleMarker at 0x7f15cc416dd8>,\n",
       " <folium.vector_layers.CircleMarker at 0x7f15cc416fd0>,\n",
       " <folium.vector_layers.CircleMarker at 0x7f15cc416f98>,\n",
       " <folium.vector_layers.CircleMarker at 0x7f15cc416f60>,\n",
       " <folium.vector_layers.CircleMarker at 0x7f15cc416f28>,\n",
       " <folium.vector_layers.CircleMarker at 0x7f15cc4160b8>,\n",
       " <folium.vector_layers.CircleMarker at 0x7f15cc424080>,\n",
       " <folium.vector_layers.CircleMarker at 0x7f15cc4240b8>,\n",
       " <folium.vector_layers.CircleMarker at 0x7f15cc4240f0>,\n",
       " <folium.vector_layers.CircleMarker at 0x7f15cc424128>,\n",
       " <folium.vector_layers.CircleMarker at 0x7f15cc424160>,\n",
       " <folium.vector_layers.CircleMarker at 0x7f15cc424198>,\n",
       " <folium.vector_layers.CircleMarker at 0x7f15cc4241d0>,\n",
       " <folium.vector_layers.CircleMarker at 0x7f15cc424208>,\n",
       " <folium.vector_layers.CircleMarker at 0x7f15cc424240>,\n",
       " <folium.vector_layers.CircleMarker at 0x7f15cc424278>,\n",
       " <folium.vector_layers.CircleMarker at 0x7f15cc4242b0>,\n",
       " <folium.vector_layers.CircleMarker at 0x7f15cc4242e8>,\n",
       " <folium.vector_layers.CircleMarker at 0x7f15cc424320>,\n",
       " <folium.vector_layers.CircleMarker at 0x7f15cc424358>,\n",
       " <folium.vector_layers.CircleMarker at 0x7f15cc424390>,\n",
       " <folium.vector_layers.CircleMarker at 0x7f15cc4243c8>,\n",
       " <folium.vector_layers.CircleMarker at 0x7f15cc424400>,\n",
       " <folium.vector_layers.CircleMarker at 0x7f15cc424438>,\n",
       " <folium.vector_layers.CircleMarker at 0x7f15cc424470>,\n",
       " <folium.vector_layers.CircleMarker at 0x7f15cc4244a8>,\n",
       " <folium.vector_layers.CircleMarker at 0x7f15cc4244e0>,\n",
       " <folium.vector_layers.CircleMarker at 0x7f15cc424518>,\n",
       " <folium.vector_layers.CircleMarker at 0x7f15cc424550>,\n",
       " <folium.vector_layers.CircleMarker at 0x7f15cc424588>,\n",
       " <folium.vector_layers.CircleMarker at 0x7f15cc4245c0>,\n",
       " <folium.vector_layers.CircleMarker at 0x7f15cc4245f8>,\n",
       " <folium.vector_layers.CircleMarker at 0x7f15cc424630>,\n",
       " <folium.vector_layers.CircleMarker at 0x7f15cc424668>,\n",
       " <folium.vector_layers.CircleMarker at 0x7f15cc4246a0>,\n",
       " <folium.vector_layers.CircleMarker at 0x7f15cc4246d8>,\n",
       " <folium.vector_layers.CircleMarker at 0x7f15cc424710>,\n",
       " <folium.vector_layers.CircleMarker at 0x7f15cc424748>,\n",
       " <folium.vector_layers.CircleMarker at 0x7f15cc424780>,\n",
       " <folium.vector_layers.CircleMarker at 0x7f15cc4247b8>,\n",
       " <folium.vector_layers.CircleMarker at 0x7f15cc4247f0>,\n",
       " <folium.vector_layers.CircleMarker at 0x7f15cc424828>,\n",
       " <folium.vector_layers.CircleMarker at 0x7f15cc424860>,\n",
       " <folium.vector_layers.CircleMarker at 0x7f15cc424898>,\n",
       " <folium.vector_layers.CircleMarker at 0x7f15cc4248d0>,\n",
       " <folium.vector_layers.CircleMarker at 0x7f15cc424908>,\n",
       " <folium.vector_layers.CircleMarker at 0x7f15cc424940>,\n",
       " <folium.vector_layers.CircleMarker at 0x7f15cc424978>,\n",
       " <folium.vector_layers.CircleMarker at 0x7f15cc4249b0>,\n",
       " <folium.vector_layers.CircleMarker at 0x7f15cc4249e8>,\n",
       " <folium.vector_layers.CircleMarker at 0x7f15cc424a20>,\n",
       " <folium.vector_layers.CircleMarker at 0x7f15cc424a58>,\n",
       " <folium.vector_layers.CircleMarker at 0x7f15cc424a90>,\n",
       " <folium.vector_layers.CircleMarker at 0x7f15cc424ac8>,\n",
       " <folium.vector_layers.CircleMarker at 0x7f15cc424b00>,\n",
       " <folium.vector_layers.CircleMarker at 0x7f15cc424b38>,\n",
       " <folium.vector_layers.CircleMarker at 0x7f15cc424b70>,\n",
       " <folium.vector_layers.CircleMarker at 0x7f15cc424ba8>,\n",
       " <folium.vector_layers.CircleMarker at 0x7f15cc424be0>,\n",
       " <folium.vector_layers.CircleMarker at 0x7f15cc424c18>,\n",
       " <folium.vector_layers.CircleMarker at 0x7f15cc424c50>,\n",
       " <folium.vector_layers.CircleMarker at 0x7f15cc424c88>,\n",
       " <folium.vector_layers.CircleMarker at 0x7f15cc424cc0>,\n",
       " <folium.vector_layers.CircleMarker at 0x7f15cc424cf8>,\n",
       " <folium.vector_layers.CircleMarker at 0x7f15cc424d30>,\n",
       " <folium.vector_layers.CircleMarker at 0x7f15cc424d68>,\n",
       " <folium.vector_layers.CircleMarker at 0x7f15cc424da0>,\n",
       " <folium.vector_layers.CircleMarker at 0x7f15cc424dd8>,\n",
       " <folium.vector_layers.CircleMarker at 0x7f15cc424e10>,\n",
       " <folium.vector_layers.CircleMarker at 0x7f15cc424e48>,\n",
       " <folium.vector_layers.CircleMarker at 0x7f15cc424e80>,\n",
       " <folium.vector_layers.CircleMarker at 0x7f15cc424eb8>,\n",
       " <folium.vector_layers.CircleMarker at 0x7f15cc424ef0>,\n",
       " <folium.vector_layers.CircleMarker at 0x7f15cc424f28>,\n",
       " <folium.vector_layers.CircleMarker at 0x7f15cc424f60>,\n",
       " <folium.vector_layers.CircleMarker at 0x7f15cc424f98>,\n",
       " <folium.vector_layers.CircleMarker at 0x7f15cc424fd0>,\n",
       " <folium.vector_layers.CircleMarker at 0x7f15cc424048>,\n",
       " <folium.vector_layers.CircleMarker at 0x7f15cc433080>,\n",
       " <folium.vector_layers.CircleMarker at 0x7f15cc4330b8>,\n",
       " <folium.vector_layers.CircleMarker at 0x7f15cc4330f0>,\n",
       " <folium.vector_layers.CircleMarker at 0x7f15cc433128>,\n",
       " <folium.vector_layers.CircleMarker at 0x7f15cc433160>,\n",
       " <folium.vector_layers.CircleMarker at 0x7f15cc433198>,\n",
       " <folium.vector_layers.CircleMarker at 0x7f15cc4331d0>,\n",
       " <folium.vector_layers.CircleMarker at 0x7f15cc433208>,\n",
       " <folium.vector_layers.CircleMarker at 0x7f15cc433240>,\n",
       " <folium.vector_layers.CircleMarker at 0x7f15cc433278>,\n",
       " <folium.vector_layers.CircleMarker at 0x7f15cc4332b0>,\n",
       " <folium.vector_layers.CircleMarker at 0x7f15cc4332e8>,\n",
       " <folium.vector_layers.CircleMarker at 0x7f15cc433320>,\n",
       " <folium.vector_layers.CircleMarker at 0x7f15cc433358>,\n",
       " <folium.vector_layers.CircleMarker at 0x7f15cc433390>,\n",
       " <folium.vector_layers.CircleMarker at 0x7f15cc4333c8>,\n",
       " <folium.vector_layers.CircleMarker at 0x7f15cc433400>,\n",
       " <folium.vector_layers.CircleMarker at 0x7f15cc433438>,\n",
       " <folium.vector_layers.CircleMarker at 0x7f15cc433470>,\n",
       " <folium.vector_layers.CircleMarker at 0x7f15cc4334a8>,\n",
       " <folium.vector_layers.CircleMarker at 0x7f15cc4334e0>,\n",
       " <folium.vector_layers.CircleMarker at 0x7f15cc433518>,\n",
       " <folium.vector_layers.CircleMarker at 0x7f15cc433550>,\n",
       " <folium.vector_layers.CircleMarker at 0x7f15cc433588>,\n",
       " <folium.vector_layers.CircleMarker at 0x7f15cc4335c0>,\n",
       " <folium.vector_layers.CircleMarker at 0x7f15cc4335f8>,\n",
       " <folium.vector_layers.CircleMarker at 0x7f15cc433630>,\n",
       " <folium.vector_layers.CircleMarker at 0x7f15cc433668>,\n",
       " <folium.vector_layers.CircleMarker at 0x7f15cc4336a0>,\n",
       " <folium.vector_layers.CircleMarker at 0x7f15cc4336d8>,\n",
       " <folium.vector_layers.CircleMarker at 0x7f15cc433710>,\n",
       " <folium.vector_layers.CircleMarker at 0x7f15cc433748>,\n",
       " <folium.vector_layers.CircleMarker at 0x7f15cc433780>,\n",
       " <folium.vector_layers.CircleMarker at 0x7f15cc4337b8>,\n",
       " <folium.vector_layers.CircleMarker at 0x7f15cc4337f0>,\n",
       " <folium.vector_layers.CircleMarker at 0x7f15cc433828>,\n",
       " <folium.vector_layers.CircleMarker at 0x7f15cc433860>,\n",
       " <folium.vector_layers.CircleMarker at 0x7f15cc433898>,\n",
       " <folium.vector_layers.CircleMarker at 0x7f15cc4338d0>,\n",
       " <folium.vector_layers.CircleMarker at 0x7f15cc433908>,\n",
       " <folium.vector_layers.CircleMarker at 0x7f15cc433940>,\n",
       " <folium.vector_layers.CircleMarker at 0x7f15cc433978>,\n",
       " <folium.vector_layers.CircleMarker at 0x7f15cc4339b0>,\n",
       " <folium.vector_layers.CircleMarker at 0x7f15cc4339e8>,\n",
       " <folium.vector_layers.CircleMarker at 0x7f15cc433a20>,\n",
       " <folium.vector_layers.CircleMarker at 0x7f15cc433a58>,\n",
       " <folium.vector_layers.CircleMarker at 0x7f15cc433a90>,\n",
       " <folium.vector_layers.CircleMarker at 0x7f15cc433ac8>,\n",
       " <folium.vector_layers.CircleMarker at 0x7f15cc433b00>,\n",
       " <folium.vector_layers.CircleMarker at 0x7f15cc433b38>,\n",
       " <folium.vector_layers.CircleMarker at 0x7f15cc433b70>,\n",
       " <folium.vector_layers.CircleMarker at 0x7f15cc433ba8>,\n",
       " <folium.vector_layers.CircleMarker at 0x7f15cc433be0>,\n",
       " <folium.vector_layers.CircleMarker at 0x7f15cc433c18>,\n",
       " <folium.vector_layers.CircleMarker at 0x7f15cc433c50>,\n",
       " <folium.vector_layers.CircleMarker at 0x7f15cc433c88>,\n",
       " <folium.vector_layers.CircleMarker at 0x7f15cc433cc0>,\n",
       " <folium.vector_layers.CircleMarker at 0x7f15cc433cf8>,\n",
       " <folium.vector_layers.CircleMarker at 0x7f15cc433d30>,\n",
       " <folium.vector_layers.CircleMarker at 0x7f15cc433d68>,\n",
       " <folium.vector_layers.CircleMarker at 0x7f15cc433da0>,\n",
       " <folium.vector_layers.CircleMarker at 0x7f15cc433dd8>,\n",
       " <folium.vector_layers.CircleMarker at 0x7f15cc433e10>,\n",
       " <folium.vector_layers.CircleMarker at 0x7f15cc433e48>,\n",
       " <folium.vector_layers.CircleMarker at 0x7f15cc433e80>,\n",
       " <folium.vector_layers.CircleMarker at 0x7f15cc433eb8>,\n",
       " <folium.vector_layers.CircleMarker at 0x7f15cc433ef0>,\n",
       " <folium.vector_layers.CircleMarker at 0x7f15cc433f28>,\n",
       " <folium.vector_layers.CircleMarker at 0x7f15cc433f60>,\n",
       " <folium.vector_layers.CircleMarker at 0x7f15cc433f98>,\n",
       " <folium.vector_layers.CircleMarker at 0x7f15cc433fd0>,\n",
       " <folium.vector_layers.CircleMarker at 0x7f15cc433048>,\n",
       " <folium.vector_layers.CircleMarker at 0x7f15cc446080>,\n",
       " <folium.vector_layers.CircleMarker at 0x7f15cc4460b8>,\n",
       " <folium.vector_layers.CircleMarker at 0x7f15cc4460f0>,\n",
       " <folium.vector_layers.CircleMarker at 0x7f15cc446128>,\n",
       " <folium.vector_layers.CircleMarker at 0x7f15cc446160>,\n",
       " <folium.vector_layers.CircleMarker at 0x7f15cc446198>,\n",
       " <folium.vector_layers.CircleMarker at 0x7f15cc4461d0>,\n",
       " <folium.vector_layers.CircleMarker at 0x7f15cc446208>,\n",
       " <folium.vector_layers.CircleMarker at 0x7f15cc446240>,\n",
       " <folium.vector_layers.CircleMarker at 0x7f15cc446278>,\n",
       " <folium.vector_layers.CircleMarker at 0x7f15cc4462b0>,\n",
       " <folium.vector_layers.CircleMarker at 0x7f15cc4462e8>,\n",
       " <folium.vector_layers.CircleMarker at 0x7f15cc446320>,\n",
       " <folium.vector_layers.CircleMarker at 0x7f15cc446358>,\n",
       " <folium.vector_layers.CircleMarker at 0x7f15cc446390>,\n",
       " <folium.vector_layers.CircleMarker at 0x7f15cc4463c8>,\n",
       " <folium.vector_layers.CircleMarker at 0x7f15cc446400>,\n",
       " <folium.vector_layers.CircleMarker at 0x7f15cc446438>,\n",
       " <folium.vector_layers.CircleMarker at 0x7f15cc446470>,\n",
       " <folium.vector_layers.CircleMarker at 0x7f15cc4464a8>,\n",
       " <folium.vector_layers.CircleMarker at 0x7f15cc4464e0>,\n",
       " <folium.vector_layers.CircleMarker at 0x7f15cc446518>,\n",
       " <folium.vector_layers.CircleMarker at 0x7f15cc446550>,\n",
       " <folium.vector_layers.CircleMarker at 0x7f15cc446588>,\n",
       " <folium.vector_layers.CircleMarker at 0x7f15cc4465c0>,\n",
       " <folium.vector_layers.CircleMarker at 0x7f15cc4465f8>,\n",
       " <folium.vector_layers.CircleMarker at 0x7f15cc446630>,\n",
       " <folium.vector_layers.CircleMarker at 0x7f15cc446668>,\n",
       " <folium.vector_layers.CircleMarker at 0x7f15cc4466a0>,\n",
       " <folium.vector_layers.CircleMarker at 0x7f15cc4466d8>,\n",
       " <folium.vector_layers.CircleMarker at 0x7f15cc446710>,\n",
       " <folium.vector_layers.CircleMarker at 0x7f15cc446748>,\n",
       " <folium.vector_layers.CircleMarker at 0x7f15cc446780>,\n",
       " <folium.vector_layers.CircleMarker at 0x7f15cc4467b8>,\n",
       " <folium.vector_layers.CircleMarker at 0x7f15cc4467f0>,\n",
       " <folium.vector_layers.CircleMarker at 0x7f15cc446828>,\n",
       " <folium.vector_layers.CircleMarker at 0x7f15cc446860>,\n",
       " <folium.vector_layers.CircleMarker at 0x7f15cc446898>,\n",
       " <folium.vector_layers.CircleMarker at 0x7f15cc4468d0>,\n",
       " <folium.vector_layers.CircleMarker at 0x7f15cc446908>,\n",
       " <folium.vector_layers.CircleMarker at 0x7f15cc446940>,\n",
       " <folium.vector_layers.CircleMarker at 0x7f15cc446978>,\n",
       " <folium.vector_layers.CircleMarker at 0x7f15cc4469b0>,\n",
       " <folium.vector_layers.CircleMarker at 0x7f15cc4469e8>,\n",
       " <folium.vector_layers.CircleMarker at 0x7f15cc446a20>,\n",
       " <folium.vector_layers.CircleMarker at 0x7f15cc446a58>,\n",
       " <folium.vector_layers.CircleMarker at 0x7f15cc446a90>,\n",
       " <folium.vector_layers.CircleMarker at 0x7f15cc446ac8>,\n",
       " <folium.vector_layers.CircleMarker at 0x7f15cc446b00>,\n",
       " <folium.vector_layers.CircleMarker at 0x7f15cc446b38>,\n",
       " <folium.vector_layers.CircleMarker at 0x7f15cc446b70>,\n",
       " <folium.vector_layers.CircleMarker at 0x7f15cc446ba8>,\n",
       " <folium.vector_layers.CircleMarker at 0x7f15cc446be0>,\n",
       " <folium.vector_layers.CircleMarker at 0x7f15cc446c18>,\n",
       " <folium.vector_layers.CircleMarker at 0x7f15cc446c50>,\n",
       " <folium.vector_layers.CircleMarker at 0x7f15cc446c88>,\n",
       " <folium.vector_layers.CircleMarker at 0x7f15cc446cc0>,\n",
       " <folium.vector_layers.CircleMarker at 0x7f15cc446cf8>,\n",
       " <folium.vector_layers.CircleMarker at 0x7f15cc446d30>,\n",
       " <folium.vector_layers.CircleMarker at 0x7f15cc446d68>,\n",
       " <folium.vector_layers.CircleMarker at 0x7f15cc446da0>,\n",
       " <folium.vector_layers.CircleMarker at 0x7f15cc446dd8>,\n",
       " <folium.vector_layers.CircleMarker at 0x7f15cc446e10>,\n",
       " <folium.vector_layers.CircleMarker at 0x7f15cc446e48>,\n",
       " <folium.vector_layers.CircleMarker at 0x7f15cc446e80>,\n",
       " <folium.vector_layers.CircleMarker at 0x7f15cc446eb8>,\n",
       " <folium.vector_layers.CircleMarker at 0x7f15cc446ef0>,\n",
       " <folium.vector_layers.CircleMarker at 0x7f15cc446f28>,\n",
       " <folium.vector_layers.CircleMarker at 0x7f15cc446f60>,\n",
       " <folium.vector_layers.CircleMarker at 0x7f15cc446f98>,\n",
       " <folium.vector_layers.CircleMarker at 0x7f15cc446fd0>,\n",
       " <folium.vector_layers.CircleMarker at 0x7f15cc446048>,\n",
       " <folium.vector_layers.CircleMarker at 0x7f15cc54b588>,\n",
       " <folium.vector_layers.CircleMarker at 0x7f15cc54bc88>,\n",
       " <folium.vector_layers.CircleMarker at 0x7f15cc54b0b8>,\n",
       " <folium.vector_layers.CircleMarker at 0x7f15cc54b080>,\n",
       " <folium.vector_layers.CircleMarker at 0x7f15cc54b048>,\n",
       " <folium.vector_layers.CircleMarker at 0x7f15cc54b208>,\n",
       " <folium.vector_layers.CircleMarker at 0x7f15cc54b1d0>,\n",
       " <folium.vector_layers.CircleMarker at 0x7f15cc54b198>,\n",
       " <folium.vector_layers.CircleMarker at 0x7f15cc54b160>,\n",
       " <folium.vector_layers.CircleMarker at 0x7f15cc54b128>,\n",
       " <folium.vector_layers.CircleMarker at 0x7f15cc54b0f0>,\n",
       " <folium.vector_layers.CircleMarker at 0x7f15cc54b390>,\n",
       " <folium.vector_layers.CircleMarker at 0x7f15cc54b320>,\n",
       " <folium.vector_layers.CircleMarker at 0x7f15cc54b2e8>,\n",
       " <folium.vector_layers.CircleMarker at 0x7f15cc54b2b0>,\n",
       " <folium.vector_layers.CircleMarker at 0x7f15cc54b278>,\n",
       " <folium.vector_layers.CircleMarker at 0x7f15cc54b240>,\n",
       " <folium.vector_layers.CircleMarker at 0x7f15cc54b470>,\n",
       " <folium.vector_layers.CircleMarker at 0x7f15cc54b438>,\n",
       " <folium.vector_layers.CircleMarker at 0x7f15cc54b400>,\n",
       " <folium.vector_layers.CircleMarker at 0x7f15cc54b3c8>,\n",
       " <folium.vector_layers.CircleMarker at 0x7f15cc54b5c0>,\n",
       " <folium.vector_layers.CircleMarker at 0x7f15cc54b550>,\n",
       " <folium.vector_layers.CircleMarker at 0x7f15cc54b518>,\n",
       " <folium.vector_layers.CircleMarker at 0x7f15cc54b4e0>,\n",
       " <folium.vector_layers.CircleMarker at 0x7f15cc54b4a8>,\n",
       " <folium.vector_layers.CircleMarker at 0x7f15cc54b6d8>,\n",
       " <folium.vector_layers.CircleMarker at 0x7f15cc54b6a0>,\n",
       " <folium.vector_layers.CircleMarker at 0x7f15cc54b668>,\n",
       " <folium.vector_layers.CircleMarker at 0x7f15cc54b630>,\n",
       " <folium.vector_layers.CircleMarker at 0x7f15cc54b5f8>,\n",
       " <folium.vector_layers.CircleMarker at 0x7f15cc54b780>,\n",
       " <folium.vector_layers.CircleMarker at 0x7f15cc54b748>,\n",
       " <folium.vector_layers.CircleMarker at 0x7f15cc54b710>,\n",
       " <folium.vector_layers.CircleMarker at 0x7f15cc54b898>,\n",
       " <folium.vector_layers.CircleMarker at 0x7f15cc54b860>,\n",
       " <folium.vector_layers.CircleMarker at 0x7f15cc54b828>,\n",
       " <folium.vector_layers.CircleMarker at 0x7f15cc54b7f0>,\n",
       " <folium.vector_layers.CircleMarker at 0x7f15cc54b7b8>,\n",
       " <folium.vector_layers.CircleMarker at 0x7f15cc54b978>,\n",
       " <folium.vector_layers.CircleMarker at 0x7f15cc54b940>,\n",
       " <folium.vector_layers.CircleMarker at 0x7f15cc54b908>,\n",
       " <folium.vector_layers.CircleMarker at 0x7f15cc54b8d0>,\n",
       " <folium.vector_layers.CircleMarker at 0x7f15cc54ba58>,\n",
       " <folium.vector_layers.CircleMarker at 0x7f15cc54ba20>,\n",
       " <folium.vector_layers.CircleMarker at 0x7f15cc54b9e8>,\n",
       " <folium.vector_layers.CircleMarker at 0x7f15cc54b9b0>,\n",
       " <folium.vector_layers.CircleMarker at 0x7f15cc54bba8>,\n",
       " <folium.vector_layers.CircleMarker at 0x7f15cc54bb70>,\n",
       " <folium.vector_layers.CircleMarker at 0x7f15cc54bb38>,\n",
       " <folium.vector_layers.CircleMarker at 0x7f15cc54bb00>,\n",
       " <folium.vector_layers.CircleMarker at 0x7f15cc54bac8>,\n",
       " <folium.vector_layers.CircleMarker at 0x7f15cc54ba90>,\n",
       " <folium.vector_layers.CircleMarker at 0x7f15cc54bcc0>,\n",
       " <folium.vector_layers.CircleMarker at 0x7f15cc54bc50>,\n",
       " <folium.vector_layers.CircleMarker at 0x7f15cc54bc18>,\n",
       " <folium.vector_layers.CircleMarker at 0x7f15cc54bbe0>,\n",
       " <folium.vector_layers.CircleMarker at 0x7f15cc54bda0>,\n",
       " <folium.vector_layers.CircleMarker at 0x7f15cc54bd68>,\n",
       " <folium.vector_layers.CircleMarker at 0x7f15cc54bd30>,\n",
       " <folium.vector_layers.CircleMarker at 0x7f15cc54bcf8>,\n",
       " <folium.vector_layers.CircleMarker at 0x7f15cc54beb8>,\n",
       " <folium.vector_layers.CircleMarker at 0x7f15cc54be80>,\n",
       " <folium.vector_layers.CircleMarker at 0x7f15cc54be48>,\n",
       " <folium.vector_layers.CircleMarker at 0x7f15cc54be10>,\n",
       " <folium.vector_layers.CircleMarker at 0x7f15cc54bdd8>,\n",
       " <folium.vector_layers.CircleMarker at 0x7f15cc54bf60>,\n",
       " <folium.vector_layers.CircleMarker at 0x7f15cc54bf28>,\n",
       " <folium.vector_layers.CircleMarker at 0x7f15cc54bef0>,\n",
       " <folium.vector_layers.CircleMarker at 0x7f15cc54bfd0>,\n",
       " <folium.vector_layers.CircleMarker at 0x7f15cc54bf98>,\n",
       " <folium.vector_layers.CircleMarker at 0x7f15cc54b358>,\n",
       " <folium.vector_layers.CircleMarker at 0x7f15cc557710>,\n",
       " <folium.vector_layers.CircleMarker at 0x7f15cc557e80>,\n",
       " <folium.vector_layers.CircleMarker at 0x7f15cc5570b8>,\n",
       " <folium.vector_layers.CircleMarker at 0x7f15cc557080>,\n",
       " <folium.vector_layers.CircleMarker at 0x7f15cc557048>,\n",
       " <folium.vector_layers.CircleMarker at 0x7f15cc557208>,\n",
       " <folium.vector_layers.CircleMarker at 0x7f15cc557198>,\n",
       " <folium.vector_layers.CircleMarker at 0x7f15cc557160>,\n",
       " <folium.vector_layers.CircleMarker at 0x7f15cc557128>,\n",
       " <folium.vector_layers.CircleMarker at 0x7f15cc5570f0>,\n",
       " <folium.vector_layers.CircleMarker at 0x7f15cc557358>,\n",
       " <folium.vector_layers.CircleMarker at 0x7f15cc557320>,\n",
       " <folium.vector_layers.CircleMarker at 0x7f15cc5572e8>,\n",
       " <folium.vector_layers.CircleMarker at 0x7f15cc5572b0>,\n",
       " <folium.vector_layers.CircleMarker at 0x7f15cc557278>,\n",
       " <folium.vector_layers.CircleMarker at 0x7f15cc557240>,\n",
       " <folium.vector_layers.CircleMarker at 0x7f15cc557470>,\n",
       " <folium.vector_layers.CircleMarker at 0x7f15cc557438>,\n",
       " <folium.vector_layers.CircleMarker at 0x7f15cc557400>,\n",
       " <folium.vector_layers.CircleMarker at 0x7f15cc5573c8>,\n",
       " <folium.vector_layers.CircleMarker at 0x7f15cc557390>,\n",
       " <folium.vector_layers.CircleMarker at 0x7f15cc557550>,\n",
       " <folium.vector_layers.CircleMarker at 0x7f15cc557518>,\n",
       " <folium.vector_layers.CircleMarker at 0x7f15cc5574e0>,\n",
       " <folium.vector_layers.CircleMarker at 0x7f15cc5574a8>,\n",
       " <folium.vector_layers.CircleMarker at 0x7f15cc557630>,\n",
       " <folium.vector_layers.CircleMarker at 0x7f15cc5575f8>,\n",
       " <folium.vector_layers.CircleMarker at 0x7f15cc5575c0>,\n",
       " <folium.vector_layers.CircleMarker at 0x7f15cc557588>,\n",
       " <folium.vector_layers.CircleMarker at 0x7f15cc557748>,\n",
       " <folium.vector_layers.CircleMarker at 0x7f15cc5576d8>,\n",
       " <folium.vector_layers.CircleMarker at 0x7f15cc5576a0>,\n",
       " <folium.vector_layers.CircleMarker at 0x7f15cc557668>,\n",
       " <folium.vector_layers.CircleMarker at 0x7f15cc557828>,\n",
       " <folium.vector_layers.CircleMarker at 0x7f15cc5577f0>,\n",
       " <folium.vector_layers.CircleMarker at 0x7f15cc5577b8>,\n",
       " <folium.vector_layers.CircleMarker at 0x7f15cc557780>,\n",
       " <folium.vector_layers.CircleMarker at 0x7f15cc557978>,\n",
       " <folium.vector_layers.CircleMarker at 0x7f15cc557940>,\n",
       " <folium.vector_layers.CircleMarker at 0x7f15cc557908>,\n",
       " <folium.vector_layers.CircleMarker at 0x7f15cc5578d0>,\n",
       " <folium.vector_layers.CircleMarker at 0x7f15cc557898>,\n",
       " <folium.vector_layers.CircleMarker at 0x7f15cc557860>,\n",
       " <folium.vector_layers.CircleMarker at 0x7f15cc557ac8>,\n",
       " <folium.vector_layers.CircleMarker at 0x7f15cc557a90>,\n",
       " <folium.vector_layers.CircleMarker at 0x7f15cc557a58>,\n",
       " <folium.vector_layers.CircleMarker at 0x7f15cc557a20>,\n",
       " <folium.vector_layers.CircleMarker at 0x7f15cc5579e8>,\n",
       " <folium.vector_layers.CircleMarker at 0x7f15cc5579b0>,\n",
       " <folium.vector_layers.CircleMarker at 0x7f15cc557ba8>,\n",
       " <folium.vector_layers.CircleMarker at 0x7f15cc557b70>,\n",
       " <folium.vector_layers.CircleMarker at 0x7f15cc557b38>,\n",
       " <folium.vector_layers.CircleMarker at 0x7f15cc557b00>,\n",
       " <folium.vector_layers.CircleMarker at 0x7f15cc557c88>,\n",
       " <folium.vector_layers.CircleMarker at 0x7f15cc557c50>,\n",
       " <folium.vector_layers.CircleMarker at 0x7f15cc557c18>,\n",
       " <folium.vector_layers.CircleMarker at 0x7f15cc557be0>,\n",
       " <folium.vector_layers.CircleMarker at 0x7f15cc557da0>,\n",
       " <folium.vector_layers.CircleMarker at 0x7f15cc557d68>,\n",
       " <folium.vector_layers.CircleMarker at 0x7f15cc557d30>,\n",
       " <folium.vector_layers.CircleMarker at 0x7f15cc557cf8>,\n",
       " <folium.vector_layers.CircleMarker at 0x7f15cc557cc0>,\n",
       " <folium.vector_layers.CircleMarker at 0x7f15cc557eb8>,\n",
       " <folium.vector_layers.CircleMarker at 0x7f15cc557e48>,\n",
       " <folium.vector_layers.CircleMarker at 0x7f15cc557e10>,\n",
       " <folium.vector_layers.CircleMarker at 0x7f15cc557dd8>,\n",
       " <folium.vector_layers.CircleMarker at 0x7f15cc557fd0>,\n",
       " <folium.vector_layers.CircleMarker at 0x7f15cc557f98>,\n",
       " <folium.vector_layers.CircleMarker at 0x7f15cc557f60>,\n",
       " <folium.vector_layers.CircleMarker at 0x7f15cc557f28>,\n",
       " <folium.vector_layers.CircleMarker at 0x7f15cc557ef0>,\n",
       " <folium.vector_layers.CircleMarker at 0x7f15cc5571d0>,\n",
       " <folium.vector_layers.CircleMarker at 0x7f15cc567208>,\n",
       " <folium.vector_layers.CircleMarker at 0x7f15cc567320>,\n",
       " <folium.vector_layers.CircleMarker at 0x7f15cc5674a8>,\n",
       " <folium.vector_layers.CircleMarker at 0x7f15cc567ef0>,\n",
       " <folium.vector_layers.CircleMarker at 0x7f15cc5670f0>,\n",
       " <folium.vector_layers.CircleMarker at 0x7f15cc567080>,\n",
       " <folium.vector_layers.CircleMarker at 0x7f15cc567048>,\n",
       " <folium.vector_layers.CircleMarker at 0x7f15cc567240>,\n",
       " <folium.vector_layers.CircleMarker at 0x7f15cc5671d0>,\n",
       " <folium.vector_layers.CircleMarker at 0x7f15cc567198>,\n",
       " <folium.vector_layers.CircleMarker at 0x7f15cc567160>,\n",
       " <folium.vector_layers.CircleMarker at 0x7f15cc567128>,\n",
       " <folium.vector_layers.CircleMarker at 0x7f15cc567358>,\n",
       " <folium.vector_layers.CircleMarker at 0x7f15cc5672e8>,\n",
       " <folium.vector_layers.CircleMarker at 0x7f15cc5672b0>,\n",
       " <folium.vector_layers.CircleMarker at 0x7f15cc567278>,\n",
       " <folium.vector_layers.CircleMarker at 0x7f15cc5674e0>,\n",
       " <folium.vector_layers.CircleMarker at 0x7f15cc567470>,\n",
       " <folium.vector_layers.CircleMarker at 0x7f15cc567438>,\n",
       " <folium.vector_layers.CircleMarker at 0x7f15cc567400>,\n",
       " <folium.vector_layers.CircleMarker at 0x7f15cc5673c8>,\n",
       " <folium.vector_layers.CircleMarker at 0x7f15cc567390>,\n",
       " <folium.vector_layers.CircleMarker at 0x7f15cc5675f8>,\n",
       " <folium.vector_layers.CircleMarker at 0x7f15cc5675c0>,\n",
       " <folium.vector_layers.CircleMarker at 0x7f15cc567588>,\n",
       " <folium.vector_layers.CircleMarker at 0x7f15cc567550>,\n",
       " <folium.vector_layers.CircleMarker at 0x7f15cc567518>,\n",
       " <folium.vector_layers.CircleMarker at 0x7f15cc567748>,\n",
       " <folium.vector_layers.CircleMarker at 0x7f15cc567710>,\n",
       " <folium.vector_layers.CircleMarker at 0x7f15cc5676d8>,\n",
       " <folium.vector_layers.CircleMarker at 0x7f15cc5676a0>,\n",
       " <folium.vector_layers.CircleMarker at 0x7f15cc567668>,\n",
       " <folium.vector_layers.CircleMarker at 0x7f15cc567630>,\n",
       " <folium.vector_layers.CircleMarker at 0x7f15cc567898>,\n",
       " <folium.vector_layers.CircleMarker at 0x7f15cc567860>,\n",
       " <folium.vector_layers.CircleMarker at 0x7f15cc567828>,\n",
       " <folium.vector_layers.CircleMarker at 0x7f15cc5677f0>,\n",
       " <folium.vector_layers.CircleMarker at 0x7f15cc5677b8>,\n",
       " <folium.vector_layers.CircleMarker at 0x7f15cc567780>,\n",
       " <folium.vector_layers.CircleMarker at 0x7f15cc5679e8>,\n",
       " <folium.vector_layers.CircleMarker at 0x7f15cc5679b0>,\n",
       " <folium.vector_layers.CircleMarker at 0x7f15cc567978>,\n",
       " <folium.vector_layers.CircleMarker at 0x7f15cc567940>,\n",
       " <folium.vector_layers.CircleMarker at 0x7f15cc567908>,\n",
       " <folium.vector_layers.CircleMarker at 0x7f15cc5678d0>,\n",
       " <folium.vector_layers.CircleMarker at 0x7f15cc567ac8>,\n",
       " <folium.vector_layers.CircleMarker at 0x7f15cc567a90>,\n",
       " <folium.vector_layers.CircleMarker at 0x7f15cc567a58>,\n",
       " <folium.vector_layers.CircleMarker at 0x7f15cc567a20>,\n",
       " <folium.vector_layers.CircleMarker at 0x7f15cc567be0>,\n",
       " <folium.vector_layers.CircleMarker at 0x7f15cc567ba8>,\n",
       " <folium.vector_layers.CircleMarker at 0x7f15cc567b70>,\n",
       " <folium.vector_layers.CircleMarker at 0x7f15cc567b38>,\n",
       " <folium.vector_layers.CircleMarker at 0x7f15cc567b00>,\n",
       " <folium.vector_layers.CircleMarker at 0x7f15cc567cf8>,\n",
       " <folium.vector_layers.CircleMarker at 0x7f15cc567cc0>,\n",
       " <folium.vector_layers.CircleMarker at 0x7f15cc567c88>,\n",
       " <folium.vector_layers.CircleMarker at 0x7f15cc567c50>,\n",
       " <folium.vector_layers.CircleMarker at 0x7f15cc567c18>,\n",
       " <folium.vector_layers.CircleMarker at 0x7f15cc567e10>,\n",
       " <folium.vector_layers.CircleMarker at 0x7f15cc567dd8>,\n",
       " <folium.vector_layers.CircleMarker at 0x7f15cc567da0>,\n",
       " <folium.vector_layers.CircleMarker at 0x7f15cc567d68>,\n",
       " <folium.vector_layers.CircleMarker at 0x7f15cc567d30>,\n",
       " <folium.vector_layers.CircleMarker at 0x7f15cc567f28>,\n",
       " <folium.vector_layers.CircleMarker at 0x7f15cc567eb8>,\n",
       " <folium.vector_layers.CircleMarker at 0x7f15cc567e80>,\n",
       " <folium.vector_layers.CircleMarker at 0x7f15cc567e48>,\n",
       " <folium.vector_layers.CircleMarker at 0x7f15cc567fd0>,\n",
       " <folium.vector_layers.CircleMarker at 0x7f15cc567f98>,\n",
       " <folium.vector_layers.CircleMarker at 0x7f15cc567f60>,\n",
       " <folium.vector_layers.CircleMarker at 0x7f15cc5670b8>,\n",
       " <folium.vector_layers.CircleMarker at 0x7f15cc575080>,\n",
       " <folium.vector_layers.CircleMarker at 0x7f15cc5750b8>,\n",
       " <folium.vector_layers.CircleMarker at 0x7f15cc5750f0>,\n",
       " <folium.vector_layers.CircleMarker at 0x7f15cc575128>,\n",
       " <folium.vector_layers.CircleMarker at 0x7f15cc575160>,\n",
       " <folium.vector_layers.CircleMarker at 0x7f15cc575198>,\n",
       " <folium.vector_layers.CircleMarker at 0x7f15cc5751d0>,\n",
       " <folium.vector_layers.CircleMarker at 0x7f15cc575208>,\n",
       " <folium.vector_layers.CircleMarker at 0x7f15cc575240>,\n",
       " <folium.vector_layers.CircleMarker at 0x7f15cc575278>,\n",
       " <folium.vector_layers.CircleMarker at 0x7f15cc5752b0>,\n",
       " <folium.vector_layers.CircleMarker at 0x7f15cc5752e8>,\n",
       " <folium.vector_layers.CircleMarker at 0x7f15cc575320>,\n",
       " <folium.vector_layers.CircleMarker at 0x7f15cc575358>,\n",
       " <folium.vector_layers.CircleMarker at 0x7f15cc575390>,\n",
       " <folium.vector_layers.CircleMarker at 0x7f15cc5753c8>,\n",
       " <folium.vector_layers.CircleMarker at 0x7f15cc575400>,\n",
       " <folium.vector_layers.CircleMarker at 0x7f15cc575438>,\n",
       " <folium.vector_layers.CircleMarker at 0x7f15cc575470>,\n",
       " <folium.vector_layers.CircleMarker at 0x7f15cc5754a8>,\n",
       " <folium.vector_layers.CircleMarker at 0x7f15cc5754e0>,\n",
       " <folium.vector_layers.CircleMarker at 0x7f15cc575518>,\n",
       " <folium.vector_layers.CircleMarker at 0x7f15cc575550>,\n",
       " <folium.vector_layers.CircleMarker at 0x7f15cc575588>,\n",
       " <folium.vector_layers.CircleMarker at 0x7f15cc5755c0>,\n",
       " <folium.vector_layers.CircleMarker at 0x7f15cc5755f8>,\n",
       " <folium.vector_layers.CircleMarker at 0x7f15cc575630>,\n",
       " <folium.vector_layers.CircleMarker at 0x7f15cc575668>,\n",
       " <folium.vector_layers.CircleMarker at 0x7f15cc5756a0>,\n",
       " <folium.vector_layers.CircleMarker at 0x7f15cc5756d8>,\n",
       " <folium.vector_layers.CircleMarker at 0x7f15cc575710>,\n",
       " <folium.vector_layers.CircleMarker at 0x7f15cc575748>,\n",
       " <folium.vector_layers.CircleMarker at 0x7f15cc575780>,\n",
       " <folium.vector_layers.CircleMarker at 0x7f15cc5757b8>,\n",
       " <folium.vector_layers.CircleMarker at 0x7f15cc5757f0>,\n",
       " <folium.vector_layers.CircleMarker at 0x7f15cc575828>,\n",
       " <folium.vector_layers.CircleMarker at 0x7f15cc575860>,\n",
       " <folium.vector_layers.CircleMarker at 0x7f15cc575898>,\n",
       " <folium.vector_layers.CircleMarker at 0x7f15cc5758d0>,\n",
       " <folium.vector_layers.CircleMarker at 0x7f15cc575908>,\n",
       " <folium.vector_layers.CircleMarker at 0x7f15cc575940>,\n",
       " <folium.vector_layers.CircleMarker at 0x7f15cc575978>,\n",
       " <folium.vector_layers.CircleMarker at 0x7f15cc5759b0>,\n",
       " <folium.vector_layers.CircleMarker at 0x7f15cc5759e8>,\n",
       " <folium.vector_layers.CircleMarker at 0x7f15cc575a20>,\n",
       " <folium.vector_layers.CircleMarker at 0x7f15cc575a58>,\n",
       " <folium.vector_layers.CircleMarker at 0x7f15cc575a90>]"
      ]
     },
     "execution_count": 85,
     "metadata": {},
     "output_type": "execute_result"
    }
   ],
   "source": [
    "markers_from_trips(cleaned_trips)\n"
   ]
  },
  {
   "cell_type": "code",
   "execution_count": 86,
   "metadata": {},
   "outputs": [],
   "source": [
    "trip_markers = markers_from_trips(cleaned_trips)"
   ]
  },
  {
   "cell_type": "code",
   "execution_count": 87,
   "metadata": {},
   "outputs": [
    {
     "data": {
      "text/plain": [
       "[[40.64499, -73.78115],\n",
       " [40.766931, -73.982098],\n",
       " [40.77773, -73.951902],\n",
       " [40.795678, -73.971049]]"
      ]
     },
     "execution_count": 87,
     "metadata": {},
     "output_type": "execute_result"
    }
   ],
   "source": [
    "list(map(lambda marker: marker.location, trip_markers[0:4]))\n",
    "# [[40.64499, -73.78115],\n",
    "#  [40.766931, -73.982098],\n",
    "#  [40.77773, -73.951902],\n",
    "#  [40.795678, -73.971049]]"
   ]
  },
  {
   "cell_type": "markdown",
   "metadata": {},
   "source": [
    "## Ok, now that we have a function that creates locations, and a function that creates markers, it is time to write a function to plot a map. \n",
    "\n",
    "Write a function called `map_from` that, provided the first argument of a list location and second argument an integer representing the `zoom_start`, returns a `folium` map the corresponding location and `zoom_start` attributes.\n",
    "\n",
    "> Hint: The following is how to write a map with folium:\n",
    "> ```python \n",
    "    folium.Map(location=location, zoom_start=zoom_amount)\n",
    "> ```"
   ]
  },
  {
   "cell_type": "code",
   "execution_count": 55,
   "metadata": {},
   "outputs": [],
   "source": [
    "def map_from(location, zoom_amount):\n",
    "    folium.Map(location=location, zoom_start=zoom_amount)"
   ]
  },
  {
   "cell_type": "code",
   "execution_count": 56,
   "metadata": {},
   "outputs": [],
   "source": [
    "times_square_map = map_from([40.7589, -73.9851], 15)\n",
    "times_square_map and times_square_map.location # [40.7589, -73.9851]\n",
    "times_square_map and times_square_map.zoom_start # 15"
   ]
  },
  {
   "cell_type": "code",
   "execution_count": 57,
   "metadata": {
    "scrolled": true
   },
   "outputs": [
    {
     "ename": "AttributeError",
     "evalue": "'NoneType' object has no attribute 'add_child'",
     "output_type": "error",
     "traceback": [
      "\u001b[0;31m\u001b[0m",
      "\u001b[0;31mAttributeError\u001b[0mTraceback (most recent call last)",
      "\u001b[0;32m<ipython-input-57-cde2543a89ab>\u001b[0m in \u001b[0;36m<module>\u001b[0;34m\u001b[0m\n\u001b[0;32m----> 1\u001b[0;31m \u001b[0mtimes_square_marker\u001b[0m \u001b[0;32mand\u001b[0m \u001b[0mtimes_square_marker\u001b[0m\u001b[0;34m.\u001b[0m\u001b[0madd_to\u001b[0m\u001b[0;34m(\u001b[0m\u001b[0mtimes_square_map\u001b[0m\u001b[0;34m)\u001b[0m\u001b[0;34m\u001b[0m\u001b[0;34m\u001b[0m\u001b[0m\n\u001b[0m\u001b[1;32m      2\u001b[0m \u001b[0mtimes_square_map\u001b[0m\u001b[0;34m\u001b[0m\u001b[0;34m\u001b[0m\u001b[0m\n",
      "\u001b[0;32m/opt/conda/envs/learn-env/lib/python3.6/site-packages/branca/element.py\u001b[0m in \u001b[0;36madd_to\u001b[0;34m(self, parent, name, index)\u001b[0m\n\u001b[1;32m    119\u001b[0m     \u001b[0;32mdef\u001b[0m \u001b[0madd_to\u001b[0m\u001b[0;34m(\u001b[0m\u001b[0mself\u001b[0m\u001b[0;34m,\u001b[0m \u001b[0mparent\u001b[0m\u001b[0;34m,\u001b[0m \u001b[0mname\u001b[0m\u001b[0;34m=\u001b[0m\u001b[0;32mNone\u001b[0m\u001b[0;34m,\u001b[0m \u001b[0mindex\u001b[0m\u001b[0;34m=\u001b[0m\u001b[0;32mNone\u001b[0m\u001b[0;34m)\u001b[0m\u001b[0;34m:\u001b[0m\u001b[0;34m\u001b[0m\u001b[0;34m\u001b[0m\u001b[0m\n\u001b[1;32m    120\u001b[0m         \u001b[0;34m\"\"\"Add element to a parent.\"\"\"\u001b[0m\u001b[0;34m\u001b[0m\u001b[0;34m\u001b[0m\u001b[0m\n\u001b[0;32m--> 121\u001b[0;31m         \u001b[0mparent\u001b[0m\u001b[0;34m.\u001b[0m\u001b[0madd_child\u001b[0m\u001b[0;34m(\u001b[0m\u001b[0mself\u001b[0m\u001b[0;34m,\u001b[0m \u001b[0mname\u001b[0m\u001b[0;34m=\u001b[0m\u001b[0mname\u001b[0m\u001b[0;34m,\u001b[0m \u001b[0mindex\u001b[0m\u001b[0;34m=\u001b[0m\u001b[0mindex\u001b[0m\u001b[0;34m)\u001b[0m\u001b[0;34m\u001b[0m\u001b[0;34m\u001b[0m\u001b[0m\n\u001b[0m\u001b[1;32m    122\u001b[0m         \u001b[0;32mreturn\u001b[0m \u001b[0mself\u001b[0m\u001b[0;34m\u001b[0m\u001b[0;34m\u001b[0m\u001b[0m\n\u001b[1;32m    123\u001b[0m \u001b[0;34m\u001b[0m\u001b[0m\n",
      "\u001b[0;31mAttributeError\u001b[0m: 'NoneType' object has no attribute 'add_child'"
     ]
    }
   ],
   "source": [
    "times_square_marker and times_square_marker.add_to(times_square_map)\n",
    "times_square_map"
   ]
  },
  {
   "cell_type": "markdown",
   "metadata": {},
   "source": [
    "Now that we have a marker and a map, now let's write a function that adds a lot of markers to a map.  This function should add each marker in the list to the map object then return the updated map object."
   ]
  },
  {
   "cell_type": "code",
   "execution_count": 58,
   "metadata": {},
   "outputs": [],
   "source": [
    "manhattan_map = map_from([40.7589, -73.9851], 13)"
   ]
  },
  {
   "cell_type": "code",
   "execution_count": 59,
   "metadata": {},
   "outputs": [],
   "source": [
    "def add_markers(markers, map_obj):\n",
    "    markers.add_to(map_obj)"
   ]
  },
  {
   "cell_type": "code",
   "execution_count": 60,
   "metadata": {
    "scrolled": false
   },
   "outputs": [
    {
     "ename": "AttributeError",
     "evalue": "'list' object has no attribute 'add_to'",
     "output_type": "error",
     "traceback": [
      "\u001b[0;31m\u001b[0m",
      "\u001b[0;31mAttributeError\u001b[0mTraceback (most recent call last)",
      "\u001b[0;32m<ipython-input-60-cc1a912a8e96>\u001b[0m in \u001b[0;36m<module>\u001b[0;34m\u001b[0m\n\u001b[0;32m----> 1\u001b[0;31m \u001b[0mmap_with_markers\u001b[0m \u001b[0;34m=\u001b[0m \u001b[0madd_markers\u001b[0m\u001b[0;34m(\u001b[0m\u001b[0mtrip_markers\u001b[0m\u001b[0;34m,\u001b[0m \u001b[0mmanhattan_map\u001b[0m\u001b[0;34m)\u001b[0m\u001b[0;34m\u001b[0m\u001b[0;34m\u001b[0m\u001b[0m\n\u001b[0m",
      "\u001b[0;32m<ipython-input-59-a3c08caacc68>\u001b[0m in \u001b[0;36madd_markers\u001b[0;34m(markers, map_obj)\u001b[0m\n\u001b[1;32m      1\u001b[0m \u001b[0;32mdef\u001b[0m \u001b[0madd_markers\u001b[0m\u001b[0;34m(\u001b[0m\u001b[0mmarkers\u001b[0m\u001b[0;34m,\u001b[0m \u001b[0mmap_obj\u001b[0m\u001b[0;34m)\u001b[0m\u001b[0;34m:\u001b[0m\u001b[0;34m\u001b[0m\u001b[0;34m\u001b[0m\u001b[0m\n\u001b[0;32m----> 2\u001b[0;31m     \u001b[0mmarkers\u001b[0m\u001b[0;34m.\u001b[0m\u001b[0madd_to\u001b[0m\u001b[0;34m(\u001b[0m\u001b[0mmap_obj\u001b[0m\u001b[0;34m)\u001b[0m\u001b[0;34m\u001b[0m\u001b[0;34m\u001b[0m\u001b[0m\n\u001b[0m",
      "\u001b[0;31mAttributeError\u001b[0m: 'list' object has no attribute 'add_to'"
     ]
    }
   ],
   "source": [
    "map_with_markers = add_markers(trip_markers, manhattan_map)"
   ]
  },
  {
   "cell_type": "code",
   "execution_count": 61,
   "metadata": {},
   "outputs": [
    {
     "ename": "NameError",
     "evalue": "name 'map_with_markers' is not defined",
     "output_type": "error",
     "traceback": [
      "\u001b[0;31m\u001b[0m",
      "\u001b[0;31mNameError\u001b[0mTraceback (most recent call last)",
      "\u001b[0;32m<ipython-input-61-2bf2b58dfa58>\u001b[0m in \u001b[0;36m<module>\u001b[0;34m\u001b[0m\n\u001b[0;32m----> 1\u001b[0;31m \u001b[0mmap_with_markers\u001b[0m\u001b[0;34m\u001b[0m\u001b[0;34m\u001b[0m\u001b[0m\n\u001b[0m",
      "\u001b[0;31mNameError\u001b[0m: name 'map_with_markers' is not defined"
     ]
    }
   ],
   "source": [
    "map_with_markers"
   ]
  },
  {
   "cell_type": "markdown",
   "metadata": {},
   "source": [
    "### Using Nearest Neighbors"
   ]
  },
  {
   "cell_type": "markdown",
   "metadata": {},
   "source": [
    "Ok, let's write a function that given a latitude and longitude will predict the distance for us.  We'll do this by first finding the nearest trips given a latitude and longitude. "
   ]
  },
  {
   "cell_type": "markdown",
   "metadata": {},
   "source": [
    "Here we once again apply the nearest neighbors formula. As a first step, write a function named `distance_location` that calculates the distance in pickup location between two trips."
   ]
  },
  {
   "cell_type": "code",
   "execution_count": 28,
   "metadata": {},
   "outputs": [],
   "source": [
    "import math\n",
    "\n",
    "def distance_location(selected_trip, neighbor_trip):\n",
    "    lat_sq = (selected_trip['pickup_latitude'] - neighbor_trip['pickup_latitude']) ** 2\n",
    "    long_sq = (selected_trip['pickup_longitude'] - neighbor_trip['pickup_longitude']) ** 2\n",
    "    return (lat_sq + long_sq) ** 0.5"
   ]
  },
  {
   "cell_type": "code",
   "execution_count": 29,
   "metadata": {},
   "outputs": [
    {
     "data": {
      "text/plain": [
       "0.235"
      ]
     },
     "execution_count": 29,
     "metadata": {},
     "output_type": "execute_result"
    }
   ],
   "source": [
    "first_trip = {'pickup_latitude': 40.64499, 'pickup_longitude': -73.78115, 'trip_distance': 18.38}\n",
    "second_trip = {'pickup_latitude': 40.766931, 'pickup_longitude': -73.982098, 'trip_distance': 1.3}\n",
    "distance_first_and_second = distance_location(first_trip, second_trip)\n",
    "\n",
    "distance_first_and_second and round(distance_first_and_second, 3) # 0.235"
   ]
  },
  {
   "cell_type": "markdown",
   "metadata": {},
   "source": [
    "Ok, next write a function called `distance_between_neighbors` that adds a new key-value pair, called `distance_from_selected`, that calculates the distance of the `neighbor_trip` from the `selected_trip`."
   ]
  },
  {
   "cell_type": "code",
   "execution_count": 30,
   "metadata": {},
   "outputs": [],
   "source": [
    "def distance_between_neighbors(selected_trip, neighbor_trip):\n",
    "    neighbor_trip['distance_from_selected'] = distance_location(selected_trip, neighbor_trip)\n",
    "    return neighbor_trip"
   ]
  },
  {
   "cell_type": "code",
   "execution_count": 31,
   "metadata": {},
   "outputs": [
    {
     "data": {
      "text/plain": [
       "{'pickup_latitude': 40.766931,\n",
       " 'pickup_longitude': -73.982098,\n",
       " 'trip_distance': 1.3,\n",
       " 'distance_from_selected': 0.23505256047318146}"
      ]
     },
     "execution_count": 31,
     "metadata": {},
     "output_type": "execute_result"
    }
   ],
   "source": [
    "distance_between_neighbors(first_trip, second_trip)\n",
    "\n",
    "\n",
    "# {'distance_from_selected': 0.23505256047318146,\n",
    "#  'pickup_latitude': 40.766931,\n",
    "#  'pickup_longitude': -73.982098,\n",
    "#  'trip_distance': 1.3}"
   ]
  },
  {
   "cell_type": "markdown",
   "metadata": {},
   "source": [
    "Ok, now our `neighbor_trip` has another attribute called `distance_from_selected`, that indicates the distance from the `neighbor_trip`'s pickup location from the `selected_trip`."
   ]
  },
  {
   "cell_type": "markdown",
   "metadata": {},
   "source": [
    "> ** Understand the data:** Our dictionary now has a few attributes, two of which say distance.  Let's make sure we understand the difference. \n",
    "> * **`distance_from_selected`:** This is our calculation of the distance of the neighbor's pickup location from the selected trip.\n",
    "> * **`trip_distance`:** This is the attribute we were provided initially.  It tells us the length of the neighbor's taxi trip from pickup to drop-off.  "
   ]
  },
  {
   "cell_type": "markdown",
   "metadata": {},
   "source": [
    "Next, write a function called `distance_all` that provided a list of neighbors, returns each of those neighbors with their respective `distance_from_selected` numbers."
   ]
  },
  {
   "cell_type": "code",
   "execution_count": 70,
   "metadata": {},
   "outputs": [],
   "source": [
    "def distance_all(selected_individual, neighbors):\n",
    "    return [distance_between_neighbors(selected_individual, neighbor) for neighbor in neighbors]"
   ]
  },
  {
   "cell_type": "code",
   "execution_count": 71,
   "metadata": {},
   "outputs": [
    {
     "data": {
      "text/plain": [
       "[{'trip_distance': 18.38,\n",
       "  'pickup_latitude': 40.64499,\n",
       "  'pickup_longitude': -73.78115,\n",
       "  'distance_from_selected': 0.0},\n",
       " {'trip_distance': 1.3,\n",
       "  'pickup_latitude': 40.766931,\n",
       "  'pickup_longitude': -73.982098,\n",
       "  'distance_from_selected': 0.23505256047318146},\n",
       " {'trip_distance': 4.5,\n",
       "  'pickup_latitude': 40.77773,\n",
       "  'pickup_longitude': -73.951902,\n",
       "  'distance_from_selected': 0.2162779533470808},\n",
       " {'trip_distance': 2.4,\n",
       "  'pickup_latitude': 40.795678,\n",
       "  'pickup_longitude': -73.971049,\n",
       "  'distance_from_selected': 0.24242215976473674}]"
      ]
     },
     "execution_count": 71,
     "metadata": {},
     "output_type": "execute_result"
    }
   ],
   "source": [
    "cleaned_trips and distance_all(first_trip, cleaned_trips[0:4])"
   ]
  },
  {
   "cell_type": "markdown",
   "metadata": {},
   "source": [
    "Now write the nearest neighbors formula to calculate the distance of the `selected_trip` from all of the `cleaned_trips` in our dataset.  If no number is provided, it should return the top 3 neighbors."
   ]
  },
  {
   "cell_type": "code",
   "execution_count": 74,
   "metadata": {},
   "outputs": [],
   "source": [
    "def nearest_neighbors(selected_individual, neighbors, number = 3):\n",
    "    number = number or len(neighbors)\n",
    "    neighbor_distances = distance_all(selected_individual, neighbors)\n",
    "    sorted_neighbors = sorted(neighbor_distances, key=lambda neighbor: neighbor['distance_from_selected'])\n",
    "    return sorted_neighbors[:number]"
   ]
  },
  {
   "cell_type": "code",
   "execution_count": 75,
   "metadata": {},
   "outputs": [
    {
     "data": {
      "text/plain": [
       "[{'trip_distance': 18.38,\n",
       "  'pickup_latitude': 40.64499,\n",
       "  'pickup_longitude': -73.78115,\n",
       "  'distance_from_selected': 0.0},\n",
       " {'trip_distance': 7.78,\n",
       "  'pickup_latitude': 40.64483,\n",
       "  'pickup_longitude': -73.781578,\n",
       "  'distance_from_selected': 0.0004569288784918792},\n",
       " {'trip_distance': 12.7,\n",
       "  'pickup_latitude': 40.644657,\n",
       "  'pickup_longitude': -73.782229,\n",
       "  'distance_from_selected': 0.0011292165425673159}]"
      ]
     },
     "execution_count": 75,
     "metadata": {},
     "output_type": "execute_result"
    }
   ],
   "source": [
    "new_trip = {'pickup_latitude': 40.64499,\n",
    "'pickup_longitude': -73.78115,\n",
    "'trip_distance': 18.38}\n",
    "\n",
    "nearest_three_neighbors = nearest_neighbors(new_trip, cleaned_trips or [], number = 3)\n",
    "nearest_three_neighbors\n",
    "# [{'distance_from_selected': 0.0004569288784918792,\n",
    "#   'pickup_latitude': 40.64483,\n",
    "#   'pickup_longitude': -73.781578,\n",
    "#   'trip_distance': 7.78},\n",
    "#  {'distance_from_selected': 0.0011292165425673159,\n",
    "#   'pickup_latitude': 40.644657,\n",
    "#   'pickup_longitude': -73.782229,\n",
    "#   'trip_distance': 12.7},\n",
    "#  {'distance_from_selected': 0.0042359798158141185,\n",
    "#   'pickup_latitude': 40.648509,\n",
    "#   'pickup_longitude': -73.783508,\n",
    "#   'trip_distance': 17.3}]"
   ]
  },
  {
   "cell_type": "markdown",
   "metadata": {},
   "source": [
    "Ok great! Now that we can provide a new trip location, and find the distances of the three nearest trips, we can take  calculate an estimate of the trip distance for that new trip location.  \n",
    "\n",
    "We do so simply by calculating the average of it's nearest neighbors."
   ]
  },
  {
   "cell_type": "code",
   "execution_count": 76,
   "metadata": {},
   "outputs": [
    {
     "data": {
      "text/plain": [
       "12.953"
      ]
     },
     "execution_count": 76,
     "metadata": {},
     "output_type": "execute_result"
    }
   ],
   "source": [
    "import statistics\n",
    "def mean_distance(neighbors):\n",
    "    nearest_distances = list(map(lambda neighbor: neighbor['trip_distance'], neighbors))\n",
    "    return round(statistics.mean(nearest_distances), 3)\n",
    "\n",
    "nearest_three_neighbors = nearest_neighbors(new_trip, cleaned_trips or [], number = 3)\n",
    "distance_estimate_of_selected_trip = mean_distance(nearest_three_neighbors) # 12.593\n",
    "distance_estimate_of_selected_trip"
   ]
  },
  {
   "cell_type": "markdown",
   "metadata": {},
   "source": [
    "### Choosing the correct number of neighbors"
   ]
  },
  {
   "cell_type": "markdown",
   "metadata": {},
   "source": [
    "Now, as we know from the last lesson, one tricky element is to determine how many neighbors to choose, our $k$ value,  before calculating the average.  We want to choose our value of $k$ such that it properly matches actual data, and so that it applies to new data.  There are fancy formulas to ensure that we **train** our algorithm so that our formula is optimized for all data, but here let's see different $k$ values manually.  This is the gist of choosing our $k$ value:\n",
    "\n",
    "* If we choose a $k$ value too low, our formula will be too heavily influenced by a single neighbor, whereas if our $k$ value is too high, we will be choosing so many neighbors that our nearest neighbors formula will not be adjust enough according to locations.\n",
    "\n",
    "Ok, let's experiment with this."
   ]
  },
  {
   "cell_type": "markdown",
   "metadata": {},
   "source": [
    "First, let's choose a midtown location, to see what the trip distance would be.  A Google search reveals the coordinates of 51st and 7th avenue to be the following."
   ]
  },
  {
   "cell_type": "code",
   "execution_count": 77,
   "metadata": {},
   "outputs": [],
   "source": [
    "midtown_trip = dict(pickup_latitude=40.761710, pickup_longitude=-73.982760)"
   ]
  },
  {
   "cell_type": "code",
   "execution_count": 78,
   "metadata": {},
   "outputs": [
    {
     "data": {
      "text/plain": [
       "[{'trip_distance': 0.58,\n",
       "  'pickup_latitude': 40.761372,\n",
       "  'pickup_longitude': -73.982602,\n",
       "  'distance_from_selected': 0.00037310588309379025},\n",
       " {'trip_distance': 0.8,\n",
       "  'pickup_latitude': 40.762444,\n",
       "  'pickup_longitude': -73.98244,\n",
       "  'distance_from_selected': 0.00080072217404248},\n",
       " {'trip_distance': 1.4,\n",
       "  'pickup_latitude': 40.762767,\n",
       "  'pickup_longitude': -73.982293,\n",
       "  'distance_from_selected': 0.0011555682584735844},\n",
       " {'trip_distance': 8.3,\n",
       "  'pickup_latitude': 40.762868,\n",
       "  'pickup_longitude': -73.983233,\n",
       "  'distance_from_selected': 0.0012508768924205918},\n",
       " {'trip_distance': 1.26,\n",
       "  'pickup_latitude': 40.760057,\n",
       "  'pickup_longitude': -73.983502,\n",
       "  'distance_from_selected': 0.0018118976240381972},\n",
       " {'trip_distance': 0.0,\n",
       "  'pickup_latitude': 40.760644,\n",
       "  'pickup_longitude': -73.984531,\n",
       "  'distance_from_selected': 0.002067074502774709},\n",
       " {'trip_distance': 1.72,\n",
       "  'pickup_latitude': 40.762107,\n",
       "  'pickup_longitude': -73.98479,\n",
       "  'distance_from_selected': 0.0020684557041472677}]"
      ]
     },
     "execution_count": 78,
     "metadata": {},
     "output_type": "execute_result"
    }
   ],
   "source": [
    "seven_closest = nearest_neighbors(midtown_trip, cleaned_trips, number = 7)\n",
    "seven_closest\n",
    "# [{'trip_distance': 0.58,\n",
    "#   'pickup_latitude': 40.761372,\n",
    "#   'pickup_longitude': -73.982602,\n",
    "#   'distance_from_selected': 0.00037310588309379025},\n",
    "#  {'trip_distance': 0.8,\n",
    "#   'pickup_latitude': 40.762444,\n",
    "#   'pickup_longitude': -73.98244,\n",
    "#   'distance_from_selected': 0.00080072217404248},\n",
    "#  {'trip_distance': 1.4,\n",
    "#   'pickup_latitude': 40.762767,\n",
    "#   'pickup_longitude': -73.982293,\n",
    "#   'distance_from_selected': 0.0011555682584735844},\n",
    "#  {'trip_distance': 8.3,\n",
    "#   'pickup_latitude': 40.762868,\n",
    "#   'pickup_longitude': -73.983233,\n",
    "#   'distance_from_selected': 0.0012508768924205918},\n",
    "#  {'trip_distance': 1.26,\n",
    "#   'pickup_latitude': 40.760057,\n",
    "#   'pickup_longitude': -73.983502,\n",
    "#   'distance_from_selected': 0.0018118976240381972},\n",
    "#  {'trip_distance': 0.0,\n",
    "#   'pickup_latitude': 40.760644,\n",
    "#   'pickup_longitude': -73.984531,\n",
    "#   'distance_from_selected': 0.002067074502774709},\n",
    "#  {'trip_distance': 1.72,\n",
    "#   'pickup_latitude': 40.762107,\n",
    "#   'pickup_longitude': -73.98479,\n",
    "#   'distance_from_selected': 0.0020684557041472677}]"
   ]
  },
  {
   "cell_type": "markdown",
   "metadata": {},
   "source": [
    "Looking at the `distance_from_selected` it appears that our our trips are still fairly close to our selected trip.  Notice that most of the data is within a distance of .002 away, so going to the top 7 nearest neighbors didn't seem to give us neighbors too far from each other, which is a good sign.\n",
    "\n",
    "Still, it's hard to know what distance in latitude and longitude really look like, so let's map the data. "
   ]
  },
  {
   "cell_type": "code",
   "execution_count": 79,
   "metadata": {},
   "outputs": [
    {
     "ename": "NameError",
     "evalue": "name 'map_from' is not defined",
     "output_type": "error",
     "traceback": [
      "\u001b[0;31m\u001b[0m",
      "\u001b[0;31mNameError\u001b[0mTraceback (most recent call last)",
      "\u001b[0;32m<ipython-input-79-ab72ff7eaea0>\u001b[0m in \u001b[0;36m<module>\u001b[0;34m\u001b[0m\n\u001b[1;32m      1\u001b[0m \u001b[0mmidtown_location\u001b[0m \u001b[0;34m=\u001b[0m \u001b[0mlocation\u001b[0m\u001b[0;34m(\u001b[0m\u001b[0mmidtown_trip\u001b[0m\u001b[0;34m)\u001b[0m \u001b[0;31m# [40.76171, -73.98276]\u001b[0m\u001b[0;34m\u001b[0m\u001b[0;34m\u001b[0m\u001b[0m\n\u001b[0;32m----> 2\u001b[0;31m \u001b[0mmidtown_map\u001b[0m \u001b[0;34m=\u001b[0m \u001b[0mmap_from\u001b[0m\u001b[0;34m(\u001b[0m\u001b[0mmidtown_location\u001b[0m\u001b[0;34m,\u001b[0m \u001b[0;36m16\u001b[0m\u001b[0;34m)\u001b[0m\u001b[0;34m\u001b[0m\u001b[0;34m\u001b[0m\u001b[0m\n\u001b[0m\u001b[1;32m      3\u001b[0m \u001b[0mclosest_markers\u001b[0m \u001b[0;34m=\u001b[0m \u001b[0mmarkers_from_trips\u001b[0m\u001b[0;34m(\u001b[0m\u001b[0mseven_closest\u001b[0m\u001b[0;34m)\u001b[0m\u001b[0;34m\u001b[0m\u001b[0;34m\u001b[0m\u001b[0m\n\u001b[1;32m      4\u001b[0m \u001b[0;34m\u001b[0m\u001b[0m\n\u001b[1;32m      5\u001b[0m \u001b[0madd_markers\u001b[0m\u001b[0;34m(\u001b[0m\u001b[0mclosest_markers\u001b[0m\u001b[0;34m,\u001b[0m \u001b[0mmidtown_map\u001b[0m\u001b[0;34m)\u001b[0m\u001b[0;34m\u001b[0m\u001b[0;34m\u001b[0m\u001b[0m\n",
      "\u001b[0;31mNameError\u001b[0m: name 'map_from' is not defined"
     ]
    }
   ],
   "source": [
    "midtown_location = location(midtown_trip) # [40.76171, -73.98276]\n",
    "midtown_map = map_from(midtown_location, 16)\n",
    "closest_markers = markers_from_trips(seven_closest)\n",
    "\n",
    "add_markers(closest_markers, midtown_map)"
   ]
  },
  {
   "cell_type": "markdown",
   "metadata": {},
   "source": [
    "Ok.  These locations stay fairly close to our estimated location of 51st street and 7th Avenue.  So they could be a good estimate of a trip distance."
   ]
  },
  {
   "cell_type": "code",
   "execution_count": 80,
   "metadata": {},
   "outputs": [
    {
     "data": {
      "text/plain": [
       "2.009"
      ]
     },
     "execution_count": 80,
     "metadata": {},
     "output_type": "execute_result"
    }
   ],
   "source": [
    "mean_distance(seven_closest) # 2.009"
   ]
  },
  {
   "cell_type": "markdown",
   "metadata": {},
   "source": [
    "Ok, now let's try a different location"
   ]
  },
  {
   "cell_type": "code",
   "execution_count": 81,
   "metadata": {},
   "outputs": [],
   "source": [
    "charging_bull_closest = nearest_neighbors({'pickup_latitude': 40.7049, 'pickup_longitude': -74.0137}, cleaned_trips, number = 12)"
   ]
  },
  {
   "cell_type": "code",
   "execution_count": 82,
   "metadata": {
    "scrolled": true
   },
   "outputs": [
    {
     "data": {
      "text/plain": [
       "3.145"
      ]
     },
     "execution_count": 82,
     "metadata": {},
     "output_type": "execute_result"
    }
   ],
   "source": [
    "mean_distance(charging_bull_closest) # 3.145"
   ]
  },
  {
   "cell_type": "markdown",
   "metadata": {},
   "source": [
    "Ok, so there appears to be a significant difference between choosing a location near Times Square versus choosing a location at Wall Street."
   ]
  },
  {
   "cell_type": "markdown",
   "metadata": {},
   "source": [
    "### Summary"
   ]
  },
  {
   "cell_type": "markdown",
   "metadata": {},
   "source": [
    "In this lab, we used the nearest neighbors function to predict the length of a taxi ride.  To do so, we selected a location, then found a number of taxi rides closest to that location, and finally took the average trip lengths of the nearest taxi rides to find an estimate of the new ride's trip length.  You can see that even with just a little bit of math and programming we can begin to make meaningful predictions with data."
   ]
  }
 ],
 "metadata": {
  "kernelspec": {
   "display_name": "Python 3",
   "language": "python",
   "name": "python3"
  },
  "language_info": {
   "codemirror_mode": {
    "name": "ipython",
    "version": 3
   },
   "file_extension": ".py",
   "mimetype": "text/x-python",
   "name": "python",
   "nbconvert_exporter": "python",
   "pygments_lexer": "ipython3",
   "version": "3.6.9"
  }
 },
 "nbformat": 4,
 "nbformat_minor": 2
}
